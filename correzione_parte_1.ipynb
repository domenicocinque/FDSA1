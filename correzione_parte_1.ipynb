{
 "cells": [
  {
   "cell_type": "code",
   "execution_count": 40,
   "metadata": {},
   "outputs": [],
   "source": [
    "import pandas as pd\n",
    "import re\n",
    "import numpy as np\n",
    "import nltk as nl\n",
    "from nltk.corpus import stopwords \n",
    "from nltk.stem import WordNetLemmatizer\n",
    "from nltk.tokenize import RegexpTokenizer\n",
    "from nltk.tag import pos_tag\n",
    "import pickle\n",
    "from collections import defaultdict\n",
    "from collections import Counter\n",
    "import math\n",
    "import tqdm\n",
    "import ast"
   ]
  },
  {
   "cell_type": "markdown",
   "metadata": {},
   "source": [
    "## Import Data"
   ]
  },
  {
   "cell_type": "code",
   "execution_count": 2,
   "metadata": {},
   "outputs": [],
   "source": [
    "fake = pd.read_csv('Fake.csv')\n",
    "true = pd.read_csv('True.csv')"
   ]
  },
  {
   "cell_type": "code",
   "execution_count": 3,
   "metadata": {},
   "outputs": [],
   "source": [
    "fake['label'] = 1\n",
    "true['label'] = 0"
   ]
  },
  {
   "cell_type": "code",
   "execution_count": 4,
   "metadata": {},
   "outputs": [
    {
     "data": {
      "text/html": [
       "<div>\n",
       "<style scoped>\n",
       "    .dataframe tbody tr th:only-of-type {\n",
       "        vertical-align: middle;\n",
       "    }\n",
       "\n",
       "    .dataframe tbody tr th {\n",
       "        vertical-align: top;\n",
       "    }\n",
       "\n",
       "    .dataframe thead th {\n",
       "        text-align: right;\n",
       "    }\n",
       "</style>\n",
       "<table border=\"1\" class=\"dataframe\">\n",
       "  <thead>\n",
       "    <tr style=\"text-align: right;\">\n",
       "      <th></th>\n",
       "      <th>title</th>\n",
       "      <th>text</th>\n",
       "      <th>subject</th>\n",
       "      <th>date</th>\n",
       "      <th>label</th>\n",
       "    </tr>\n",
       "  </thead>\n",
       "  <tbody>\n",
       "    <tr>\n",
       "      <th>0</th>\n",
       "      <td>Donald Trump Sends Out Embarrassing New Year’...</td>\n",
       "      <td>Donald Trump just couldn t wish all Americans ...</td>\n",
       "      <td>News</td>\n",
       "      <td>December 31, 2017</td>\n",
       "      <td>1</td>\n",
       "    </tr>\n",
       "    <tr>\n",
       "      <th>1</th>\n",
       "      <td>Drunk Bragging Trump Staffer Started Russian ...</td>\n",
       "      <td>House Intelligence Committee Chairman Devin Nu...</td>\n",
       "      <td>News</td>\n",
       "      <td>December 31, 2017</td>\n",
       "      <td>1</td>\n",
       "    </tr>\n",
       "    <tr>\n",
       "      <th>2</th>\n",
       "      <td>Sheriff David Clarke Becomes An Internet Joke...</td>\n",
       "      <td>On Friday, it was revealed that former Milwauk...</td>\n",
       "      <td>News</td>\n",
       "      <td>December 30, 2017</td>\n",
       "      <td>1</td>\n",
       "    </tr>\n",
       "    <tr>\n",
       "      <th>3</th>\n",
       "      <td>Trump Is So Obsessed He Even Has Obama’s Name...</td>\n",
       "      <td>On Christmas day, Donald Trump announced that ...</td>\n",
       "      <td>News</td>\n",
       "      <td>December 29, 2017</td>\n",
       "      <td>1</td>\n",
       "    </tr>\n",
       "    <tr>\n",
       "      <th>4</th>\n",
       "      <td>Pope Francis Just Called Out Donald Trump Dur...</td>\n",
       "      <td>Pope Francis used his annual Christmas Day mes...</td>\n",
       "      <td>News</td>\n",
       "      <td>December 25, 2017</td>\n",
       "      <td>1</td>\n",
       "    </tr>\n",
       "  </tbody>\n",
       "</table>\n",
       "</div>"
      ],
      "text/plain": [
       "                                               title  \\\n",
       "0   Donald Trump Sends Out Embarrassing New Year’...   \n",
       "1   Drunk Bragging Trump Staffer Started Russian ...   \n",
       "2   Sheriff David Clarke Becomes An Internet Joke...   \n",
       "3   Trump Is So Obsessed He Even Has Obama’s Name...   \n",
       "4   Pope Francis Just Called Out Donald Trump Dur...   \n",
       "\n",
       "                                                text subject  \\\n",
       "0  Donald Trump just couldn t wish all Americans ...    News   \n",
       "1  House Intelligence Committee Chairman Devin Nu...    News   \n",
       "2  On Friday, it was revealed that former Milwauk...    News   \n",
       "3  On Christmas day, Donald Trump announced that ...    News   \n",
       "4  Pope Francis used his annual Christmas Day mes...    News   \n",
       "\n",
       "                date  label  \n",
       "0  December 31, 2017      1  \n",
       "1  December 31, 2017      1  \n",
       "2  December 30, 2017      1  \n",
       "3  December 29, 2017      1  \n",
       "4  December 25, 2017      1  "
      ]
     },
     "execution_count": 4,
     "metadata": {},
     "output_type": "execute_result"
    }
   ],
   "source": [
    "fake.head()"
   ]
  },
  {
   "cell_type": "code",
   "execution_count": 5,
   "metadata": {},
   "outputs": [],
   "source": [
    "df = pd.concat([fake,true],ignore_index=True)"
   ]
  },
  {
   "cell_type": "code",
   "execution_count": 6,
   "metadata": {},
   "outputs": [
    {
     "data": {
      "text/html": [
       "<div>\n",
       "<style scoped>\n",
       "    .dataframe tbody tr th:only-of-type {\n",
       "        vertical-align: middle;\n",
       "    }\n",
       "\n",
       "    .dataframe tbody tr th {\n",
       "        vertical-align: top;\n",
       "    }\n",
       "\n",
       "    .dataframe thead th {\n",
       "        text-align: right;\n",
       "    }\n",
       "</style>\n",
       "<table border=\"1\" class=\"dataframe\">\n",
       "  <thead>\n",
       "    <tr style=\"text-align: right;\">\n",
       "      <th></th>\n",
       "      <th>title</th>\n",
       "      <th>text</th>\n",
       "      <th>subject</th>\n",
       "      <th>date</th>\n",
       "      <th>label</th>\n",
       "    </tr>\n",
       "  </thead>\n",
       "  <tbody>\n",
       "    <tr>\n",
       "      <th>0</th>\n",
       "      <td>Donald Trump Sends Out Embarrassing New Year’...</td>\n",
       "      <td>Donald Trump just couldn t wish all Americans ...</td>\n",
       "      <td>News</td>\n",
       "      <td>December 31, 2017</td>\n",
       "      <td>1</td>\n",
       "    </tr>\n",
       "    <tr>\n",
       "      <th>1</th>\n",
       "      <td>Drunk Bragging Trump Staffer Started Russian ...</td>\n",
       "      <td>House Intelligence Committee Chairman Devin Nu...</td>\n",
       "      <td>News</td>\n",
       "      <td>December 31, 2017</td>\n",
       "      <td>1</td>\n",
       "    </tr>\n",
       "    <tr>\n",
       "      <th>2</th>\n",
       "      <td>Sheriff David Clarke Becomes An Internet Joke...</td>\n",
       "      <td>On Friday, it was revealed that former Milwauk...</td>\n",
       "      <td>News</td>\n",
       "      <td>December 30, 2017</td>\n",
       "      <td>1</td>\n",
       "    </tr>\n",
       "    <tr>\n",
       "      <th>3</th>\n",
       "      <td>Trump Is So Obsessed He Even Has Obama’s Name...</td>\n",
       "      <td>On Christmas day, Donald Trump announced that ...</td>\n",
       "      <td>News</td>\n",
       "      <td>December 29, 2017</td>\n",
       "      <td>1</td>\n",
       "    </tr>\n",
       "    <tr>\n",
       "      <th>4</th>\n",
       "      <td>Pope Francis Just Called Out Donald Trump Dur...</td>\n",
       "      <td>Pope Francis used his annual Christmas Day mes...</td>\n",
       "      <td>News</td>\n",
       "      <td>December 25, 2017</td>\n",
       "      <td>1</td>\n",
       "    </tr>\n",
       "    <tr>\n",
       "      <th>...</th>\n",
       "      <td>...</td>\n",
       "      <td>...</td>\n",
       "      <td>...</td>\n",
       "      <td>...</td>\n",
       "      <td>...</td>\n",
       "    </tr>\n",
       "    <tr>\n",
       "      <th>44893</th>\n",
       "      <td>'Fully committed' NATO backs new U.S. approach...</td>\n",
       "      <td>BRUSSELS (Reuters) - NATO allies on Tuesday we...</td>\n",
       "      <td>worldnews</td>\n",
       "      <td>August 22, 2017</td>\n",
       "      <td>0</td>\n",
       "    </tr>\n",
       "    <tr>\n",
       "      <th>44894</th>\n",
       "      <td>LexisNexis withdrew two products from Chinese ...</td>\n",
       "      <td>LONDON (Reuters) - LexisNexis, a provider of l...</td>\n",
       "      <td>worldnews</td>\n",
       "      <td>August 22, 2017</td>\n",
       "      <td>0</td>\n",
       "    </tr>\n",
       "    <tr>\n",
       "      <th>44895</th>\n",
       "      <td>Minsk cultural hub becomes haven from authorities</td>\n",
       "      <td>MINSK (Reuters) - In the shadow of disused Sov...</td>\n",
       "      <td>worldnews</td>\n",
       "      <td>August 22, 2017</td>\n",
       "      <td>0</td>\n",
       "    </tr>\n",
       "    <tr>\n",
       "      <th>44896</th>\n",
       "      <td>Vatican upbeat on possibility of Pope Francis ...</td>\n",
       "      <td>MOSCOW (Reuters) - Vatican Secretary of State ...</td>\n",
       "      <td>worldnews</td>\n",
       "      <td>August 22, 2017</td>\n",
       "      <td>0</td>\n",
       "    </tr>\n",
       "    <tr>\n",
       "      <th>44897</th>\n",
       "      <td>Indonesia to buy $1.14 billion worth of Russia...</td>\n",
       "      <td>JAKARTA (Reuters) - Indonesia will buy 11 Sukh...</td>\n",
       "      <td>worldnews</td>\n",
       "      <td>August 22, 2017</td>\n",
       "      <td>0</td>\n",
       "    </tr>\n",
       "  </tbody>\n",
       "</table>\n",
       "<p>44898 rows × 5 columns</p>\n",
       "</div>"
      ],
      "text/plain": [
       "                                                   title  \\\n",
       "0       Donald Trump Sends Out Embarrassing New Year’...   \n",
       "1       Drunk Bragging Trump Staffer Started Russian ...   \n",
       "2       Sheriff David Clarke Becomes An Internet Joke...   \n",
       "3       Trump Is So Obsessed He Even Has Obama’s Name...   \n",
       "4       Pope Francis Just Called Out Donald Trump Dur...   \n",
       "...                                                  ...   \n",
       "44893  'Fully committed' NATO backs new U.S. approach...   \n",
       "44894  LexisNexis withdrew two products from Chinese ...   \n",
       "44895  Minsk cultural hub becomes haven from authorities   \n",
       "44896  Vatican upbeat on possibility of Pope Francis ...   \n",
       "44897  Indonesia to buy $1.14 billion worth of Russia...   \n",
       "\n",
       "                                                    text    subject  \\\n",
       "0      Donald Trump just couldn t wish all Americans ...       News   \n",
       "1      House Intelligence Committee Chairman Devin Nu...       News   \n",
       "2      On Friday, it was revealed that former Milwauk...       News   \n",
       "3      On Christmas day, Donald Trump announced that ...       News   \n",
       "4      Pope Francis used his annual Christmas Day mes...       News   \n",
       "...                                                  ...        ...   \n",
       "44893  BRUSSELS (Reuters) - NATO allies on Tuesday we...  worldnews   \n",
       "44894  LONDON (Reuters) - LexisNexis, a provider of l...  worldnews   \n",
       "44895  MINSK (Reuters) - In the shadow of disused Sov...  worldnews   \n",
       "44896  MOSCOW (Reuters) - Vatican Secretary of State ...  worldnews   \n",
       "44897  JAKARTA (Reuters) - Indonesia will buy 11 Sukh...  worldnews   \n",
       "\n",
       "                    date  label  \n",
       "0      December 31, 2017      1  \n",
       "1      December 31, 2017      1  \n",
       "2      December 30, 2017      1  \n",
       "3      December 29, 2017      1  \n",
       "4      December 25, 2017      1  \n",
       "...                  ...    ...  \n",
       "44893   August 22, 2017       0  \n",
       "44894   August 22, 2017       0  \n",
       "44895   August 22, 2017       0  \n",
       "44896   August 22, 2017       0  \n",
       "44897   August 22, 2017       0  \n",
       "\n",
       "[44898 rows x 5 columns]"
      ]
     },
     "execution_count": 6,
     "metadata": {},
     "output_type": "execute_result"
    }
   ],
   "source": [
    "df"
   ]
  },
  {
   "cell_type": "code",
   "execution_count": 7,
   "metadata": {},
   "outputs": [
    {
     "data": {
      "text/plain": [
       "(44898, 5)"
      ]
     },
     "execution_count": 7,
     "metadata": {},
     "output_type": "execute_result"
    }
   ],
   "source": [
    "df.shape"
   ]
  },
  {
   "cell_type": "markdown",
   "metadata": {},
   "source": [
    "## First Analysis"
   ]
  },
  {
   "cell_type": "code",
   "execution_count": 8,
   "metadata": {},
   "outputs": [
    {
     "data": {
      "text/plain": [
       "array(['News', 'politics', 'Government News', 'left-news', 'US_News',\n",
       "       'Middle-east'], dtype=object)"
      ]
     },
     "execution_count": 8,
     "metadata": {},
     "output_type": "execute_result"
    }
   ],
   "source": [
    "fake.subject.unique()"
   ]
  },
  {
   "cell_type": "code",
   "execution_count": 9,
   "metadata": {},
   "outputs": [
    {
     "data": {
      "text/plain": [
       "array(['politicsNews', 'worldnews'], dtype=object)"
      ]
     },
     "execution_count": 9,
     "metadata": {},
     "output_type": "execute_result"
    }
   ],
   "source": [
    "true.subject.unique()"
   ]
  },
  {
   "cell_type": "code",
   "execution_count": 10,
   "metadata": {},
   "outputs": [],
   "source": [
    "df.drop('subject', axis = 'columns',inplace=True) \n",
    "df.drop('date', axis = 'columns',inplace=True) "
   ]
  },
  {
   "cell_type": "code",
   "execution_count": 11,
   "metadata": {},
   "outputs": [],
   "source": [
    "# Modificare? Troppo simile indiano\n",
    "df['text'] = df['title'] + ' ' + df['text'] "
   ]
  },
  {
   "cell_type": "code",
   "execution_count": 12,
   "metadata": {},
   "outputs": [],
   "source": [
    "df.drop('title', axis = 'columns',inplace=True) "
   ]
  },
  {
   "cell_type": "code",
   "execution_count": 13,
   "metadata": {},
   "outputs": [
    {
     "data": {
      "text/html": [
       "<div>\n",
       "<style scoped>\n",
       "    .dataframe tbody tr th:only-of-type {\n",
       "        vertical-align: middle;\n",
       "    }\n",
       "\n",
       "    .dataframe tbody tr th {\n",
       "        vertical-align: top;\n",
       "    }\n",
       "\n",
       "    .dataframe thead th {\n",
       "        text-align: right;\n",
       "    }\n",
       "</style>\n",
       "<table border=\"1\" class=\"dataframe\">\n",
       "  <thead>\n",
       "    <tr style=\"text-align: right;\">\n",
       "      <th></th>\n",
       "      <th>text</th>\n",
       "      <th>label</th>\n",
       "    </tr>\n",
       "  </thead>\n",
       "  <tbody>\n",
       "    <tr>\n",
       "      <th>0</th>\n",
       "      <td>Donald Trump Sends Out Embarrassing New Year’...</td>\n",
       "      <td>1</td>\n",
       "    </tr>\n",
       "    <tr>\n",
       "      <th>1</th>\n",
       "      <td>Drunk Bragging Trump Staffer Started Russian ...</td>\n",
       "      <td>1</td>\n",
       "    </tr>\n",
       "    <tr>\n",
       "      <th>2</th>\n",
       "      <td>Sheriff David Clarke Becomes An Internet Joke...</td>\n",
       "      <td>1</td>\n",
       "    </tr>\n",
       "    <tr>\n",
       "      <th>3</th>\n",
       "      <td>Trump Is So Obsessed He Even Has Obama’s Name...</td>\n",
       "      <td>1</td>\n",
       "    </tr>\n",
       "    <tr>\n",
       "      <th>4</th>\n",
       "      <td>Pope Francis Just Called Out Donald Trump Dur...</td>\n",
       "      <td>1</td>\n",
       "    </tr>\n",
       "  </tbody>\n",
       "</table>\n",
       "</div>"
      ],
      "text/plain": [
       "                                                text  label\n",
       "0   Donald Trump Sends Out Embarrassing New Year’...      1\n",
       "1   Drunk Bragging Trump Staffer Started Russian ...      1\n",
       "2   Sheriff David Clarke Becomes An Internet Joke...      1\n",
       "3   Trump Is So Obsessed He Even Has Obama’s Name...      1\n",
       "4   Pope Francis Just Called Out Donald Trump Dur...      1"
      ]
     },
     "execution_count": 13,
     "metadata": {},
     "output_type": "execute_result"
    }
   ],
   "source": [
    "df.head()"
   ]
  },
  {
   "cell_type": "markdown",
   "metadata": {},
   "source": [
    "# Preprocessing"
   ]
  },
  {
   "cell_type": "code",
   "execution_count": 19,
   "metadata": {},
   "outputs": [],
   "source": [
    "#saving dict function\n",
    "def save_dict(obj, name ):\n",
    "    with open(name + '.pkl', 'wb') as f:\n",
    "        pickle.dump(obj, f, pickle.HIGHEST_PROTOCOL)\n",
    "\n",
    "#load dict function\n",
    "def load_obj(name ):\n",
    "    with open(name + '.pkl', 'rb') as f:\n",
    "        return pickle.load(f)"
   ]
  },
  {
   "cell_type": "code",
   "execution_count": 15,
   "metadata": {},
   "outputs": [],
   "source": [
    "def preprocess2(data):\n",
    "    '''\n",
    "    tagged = pos_tag(data.split())\n",
    "    names = [t[0] for t in tagged if t[1] == 'NNP']\n",
    "    print(names)\n",
    "    '''\n",
    "    x = re.sub('[^a-zA-Z]', ' ',data) \n",
    "    \n",
    "    #lowering words\n",
    "    lower=str.lower(x).split() \n",
    "    words=set(stopwords.words('english'))\n",
    "    \n",
    "    #removing stopwords\n",
    "    no_stopwords=[w for w in lower if not w in words]  \n",
    "    lmtzr = WordNetLemmatizer()\n",
    "    \n",
    "    #stemming\n",
    "    cleaned=[lmtzr.lemmatize(w,pos=\"v\") for w in no_stopwords]\n",
    "    cleaned=[lmtzr.lemmatize(w,pos=\"n\") for w in cleaned]\n",
    "    \n",
    "    return (\" \".join( cleaned ))"
   ]
  },
  {
   "cell_type": "code",
   "execution_count": 67,
   "metadata": {},
   "outputs": [],
   "source": [
    "#to run only the first time\n",
    "df['text'] = df.text.apply(lambda x: preprocess2(x))"
   ]
  },
  {
   "cell_type": "code",
   "execution_count": 113,
   "metadata": {},
   "outputs": [],
   "source": [
    "df = pd.read_csv('preprocessed.csv')  #to read "
   ]
  },
  {
   "cell_type": "code",
   "execution_count": 18,
   "metadata": {
    "scrolled": true
   },
   "outputs": [
    {
     "data": {
      "text/html": [
       "<div>\n",
       "<style scoped>\n",
       "    .dataframe tbody tr th:only-of-type {\n",
       "        vertical-align: middle;\n",
       "    }\n",
       "\n",
       "    .dataframe tbody tr th {\n",
       "        vertical-align: top;\n",
       "    }\n",
       "\n",
       "    .dataframe thead th {\n",
       "        text-align: right;\n",
       "    }\n",
       "</style>\n",
       "<table border=\"1\" class=\"dataframe\">\n",
       "  <thead>\n",
       "    <tr style=\"text-align: right;\">\n",
       "      <th></th>\n",
       "      <th>Unnamed: 0</th>\n",
       "      <th>text</th>\n",
       "      <th>label</th>\n",
       "    </tr>\n",
       "  </thead>\n",
       "  <tbody>\n",
       "    <tr>\n",
       "      <th>0</th>\n",
       "      <td>0</td>\n",
       "      <td>donald trump send embarrass new year eve messa...</td>\n",
       "      <td>1</td>\n",
       "    </tr>\n",
       "    <tr>\n",
       "      <th>1</th>\n",
       "      <td>1</td>\n",
       "      <td>drink brag trump staffer start russian collusi...</td>\n",
       "      <td>1</td>\n",
       "    </tr>\n",
       "    <tr>\n",
       "      <th>2</th>\n",
       "      <td>2</td>\n",
       "      <td>sheriff david clarke become internet joke thre...</td>\n",
       "      <td>1</td>\n",
       "    </tr>\n",
       "    <tr>\n",
       "      <th>3</th>\n",
       "      <td>3</td>\n",
       "      <td>trump ob even obama name cod website image chr...</td>\n",
       "      <td>1</td>\n",
       "    </tr>\n",
       "    <tr>\n",
       "      <th>4</th>\n",
       "      <td>4</td>\n",
       "      <td>pope francis call donald trump christmas speec...</td>\n",
       "      <td>1</td>\n",
       "    </tr>\n",
       "  </tbody>\n",
       "</table>\n",
       "</div>"
      ],
      "text/plain": [
       "   Unnamed: 0                                               text  label\n",
       "0           0  donald trump send embarrass new year eve messa...      1\n",
       "1           1  drink brag trump staffer start russian collusi...      1\n",
       "2           2  sheriff david clarke become internet joke thre...      1\n",
       "3           3  trump ob even obama name cod website image chr...      1\n",
       "4           4  pope francis call donald trump christmas speec...      1"
      ]
     },
     "execution_count": 18,
     "metadata": {},
     "output_type": "execute_result"
    }
   ],
   "source": [
    "df.head()"
   ]
  },
  {
   "cell_type": "code",
   "execution_count": 17,
   "metadata": {
    "scrolled": true
   },
   "outputs": [
    {
     "name": "stdout",
     "output_type": "stream",
     "text": [
      "<class 'pandas.core.frame.DataFrame'>\n",
      "RangeIndex: 44898 entries, 0 to 44897\n",
      "Data columns (total 3 columns):\n",
      " #   Column      Non-Null Count  Dtype \n",
      "---  ------      --------------  ----- \n",
      " 0   Unnamed: 0  44898 non-null  int64 \n",
      " 1   text        44898 non-null  object\n",
      " 2   label       44898 non-null  int64 \n",
      "dtypes: int64(2), object(1)\n",
      "memory usage: 1.0+ MB\n"
     ]
    }
   ],
   "source": [
    "df.info()"
   ]
  },
  {
   "cell_type": "code",
   "execution_count": 20,
   "metadata": {},
   "outputs": [],
   "source": [
    "def create_vocabulary(df):\n",
    "\n",
    "    #the Dict we wanna build\n",
    "    vocabulary = defaultdict()\n",
    "\n",
    "    #set in which i collect all the terms\n",
    "    term_set = set()\n",
    "    text = list(df['text'])\n",
    "    for elem in text:\n",
    "        try:\n",
    "            term_set =term_set.union(set(elem.split()))\n",
    "        except:\n",
    "            pass\n",
    "\n",
    "    #convert the set in list to enumerate\n",
    "    term_list = list(term_set)\n",
    "\n",
    "    for i, elem in enumerate(term_list):\n",
    "        vocabulary[elem]= i \n",
    "\n",
    "    save_dict(vocabulary,'vocabulary')"
   ]
  },
  {
   "cell_type": "code",
   "execution_count": null,
   "metadata": {},
   "outputs": [],
   "source": [
    "create_vocabulary(df)   #to create"
   ]
  },
  {
   "cell_type": "code",
   "execution_count": 21,
   "metadata": {},
   "outputs": [],
   "source": [
    "vocabulary = load_obj('vocabulary')  #to read"
   ]
  },
  {
   "cell_type": "code",
   "execution_count": 22,
   "metadata": {
    "scrolled": true
   },
   "outputs": [
    {
     "data": {
      "text/plain": [
       "98132"
      ]
     },
     "execution_count": 22,
     "metadata": {},
     "output_type": "execute_result"
    }
   ],
   "source": [
    "len(vocabulary)"
   ]
  },
  {
   "cell_type": "markdown",
   "metadata": {},
   "source": [
    "#### USED ONLY THE FIRST TIME TO CREATE IT"
   ]
  },
  {
   "cell_type": "code",
   "execution_count": 23,
   "metadata": {},
   "outputs": [],
   "source": [
    "def mapping(text):\n",
    "    text = text.split()\n",
    "    out = [vocabulary[word] for word in text]\n",
    "    return out"
   ]
  },
  {
   "cell_type": "code",
   "execution_count": 11,
   "metadata": {},
   "outputs": [],
   "source": [
    "df['mapped_text'] = df.text.apply(lambda x: mapping(x))"
   ]
  },
  {
   "cell_type": "code",
   "execution_count": 12,
   "metadata": {},
   "outputs": [
    {
     "data": {
      "text/html": [
       "<div>\n",
       "<style scoped>\n",
       "    .dataframe tbody tr th:only-of-type {\n",
       "        vertical-align: middle;\n",
       "    }\n",
       "\n",
       "    .dataframe tbody tr th {\n",
       "        vertical-align: top;\n",
       "    }\n",
       "\n",
       "    .dataframe thead th {\n",
       "        text-align: right;\n",
       "    }\n",
       "</style>\n",
       "<table border=\"1\" class=\"dataframe\">\n",
       "  <thead>\n",
       "    <tr style=\"text-align: right;\">\n",
       "      <th></th>\n",
       "      <th>Unnamed: 0</th>\n",
       "      <th>text</th>\n",
       "      <th>label</th>\n",
       "      <th>mapped_text</th>\n",
       "    </tr>\n",
       "  </thead>\n",
       "  <tbody>\n",
       "    <tr>\n",
       "      <th>0</th>\n",
       "      <td>0</td>\n",
       "      <td>donald trump send embarrass new year eve messa...</td>\n",
       "      <td>1</td>\n",
       "      <td>[70224, 48026, 71767, 29317, 7203, 7759, 73615...</td>\n",
       "    </tr>\n",
       "    <tr>\n",
       "      <th>1</th>\n",
       "      <td>1</td>\n",
       "      <td>drink brag trump staffer start russian collusi...</td>\n",
       "      <td>1</td>\n",
       "      <td>[9047, 46709, 48026, 46078, 34043, 20147, 2169...</td>\n",
       "    </tr>\n",
       "    <tr>\n",
       "      <th>2</th>\n",
       "      <td>2</td>\n",
       "      <td>sheriff david clarke become internet joke thre...</td>\n",
       "      <td>1</td>\n",
       "      <td>[30383, 91062, 77676, 23464, 66433, 8578, 8769...</td>\n",
       "    </tr>\n",
       "    <tr>\n",
       "      <th>3</th>\n",
       "      <td>3</td>\n",
       "      <td>trump ob even obama name cod website image chr...</td>\n",
       "      <td>1</td>\n",
       "      <td>[48026, 82760, 94341, 64354, 72398, 5206, 6520...</td>\n",
       "    </tr>\n",
       "    <tr>\n",
       "      <th>4</th>\n",
       "      <td>4</td>\n",
       "      <td>pope francis call donald trump christmas speec...</td>\n",
       "      <td>1</td>\n",
       "      <td>[26459, 24198, 73700, 70224, 48026, 62043, 834...</td>\n",
       "    </tr>\n",
       "  </tbody>\n",
       "</table>\n",
       "</div>"
      ],
      "text/plain": [
       "   Unnamed: 0                                               text  label  \\\n",
       "0           0  donald trump send embarrass new year eve messa...      1   \n",
       "1           1  drink brag trump staffer start russian collusi...      1   \n",
       "2           2  sheriff david clarke become internet joke thre...      1   \n",
       "3           3  trump ob even obama name cod website image chr...      1   \n",
       "4           4  pope francis call donald trump christmas speec...      1   \n",
       "\n",
       "                                         mapped_text  \n",
       "0  [70224, 48026, 71767, 29317, 7203, 7759, 73615...  \n",
       "1  [9047, 46709, 48026, 46078, 34043, 20147, 2169...  \n",
       "2  [30383, 91062, 77676, 23464, 66433, 8578, 8769...  \n",
       "3  [48026, 82760, 94341, 64354, 72398, 5206, 6520...  \n",
       "4  [26459, 24198, 73700, 70224, 48026, 62043, 834...  "
      ]
     },
     "execution_count": 12,
     "metadata": {},
     "output_type": "execute_result"
    }
   ],
   "source": [
    "df.head()"
   ]
  },
  {
   "cell_type": "code",
   "execution_count": 13,
   "metadata": {},
   "outputs": [],
   "source": [
    "df.to_csv('mapped_dataset.csv')"
   ]
  },
  {
   "cell_type": "markdown",
   "metadata": {},
   "source": [
    "##### TO USE EVERYTIME WE WANT TO LOAD IT BACK"
   ]
  },
  {
   "cell_type": "code",
   "execution_count": 24,
   "metadata": {},
   "outputs": [],
   "source": [
    "df = pd.read_csv('mapped_dataset.csv')  #to read\n",
    "\n",
    "#to maintain the list format\n",
    "df['mapped_text'] = df['mapped_text'].map(ast.literal_eval)"
   ]
  },
  {
   "cell_type": "code",
   "execution_count": 43,
   "metadata": {},
   "outputs": [
    {
     "data": {
      "text/plain": [
       "list"
      ]
     },
     "execution_count": 43,
     "metadata": {},
     "output_type": "execute_result"
    }
   ],
   "source": [
    "type(df['mapped_text'][0])"
   ]
  },
  {
   "cell_type": "code",
   "execution_count": 42,
   "metadata": {},
   "outputs": [
    {
     "data": {
      "text/html": [
       "<div>\n",
       "<style scoped>\n",
       "    .dataframe tbody tr th:only-of-type {\n",
       "        vertical-align: middle;\n",
       "    }\n",
       "\n",
       "    .dataframe tbody tr th {\n",
       "        vertical-align: top;\n",
       "    }\n",
       "\n",
       "    .dataframe thead th {\n",
       "        text-align: right;\n",
       "    }\n",
       "</style>\n",
       "<table border=\"1\" class=\"dataframe\">\n",
       "  <thead>\n",
       "    <tr style=\"text-align: right;\">\n",
       "      <th></th>\n",
       "      <th>Unnamed: 0</th>\n",
       "      <th>Unnamed: 0.1</th>\n",
       "      <th>text</th>\n",
       "      <th>label</th>\n",
       "      <th>mapped_text</th>\n",
       "    </tr>\n",
       "  </thead>\n",
       "  <tbody>\n",
       "    <tr>\n",
       "      <th>0</th>\n",
       "      <td>0</td>\n",
       "      <td>0</td>\n",
       "      <td>donald trump send embarrass new year eve messa...</td>\n",
       "      <td>1</td>\n",
       "      <td>[70224, 48026, 71767, 29317, 7203, 7759, 73615...</td>\n",
       "    </tr>\n",
       "    <tr>\n",
       "      <th>1</th>\n",
       "      <td>1</td>\n",
       "      <td>1</td>\n",
       "      <td>drink brag trump staffer start russian collusi...</td>\n",
       "      <td>1</td>\n",
       "      <td>[9047, 46709, 48026, 46078, 34043, 20147, 2169...</td>\n",
       "    </tr>\n",
       "    <tr>\n",
       "      <th>2</th>\n",
       "      <td>2</td>\n",
       "      <td>2</td>\n",
       "      <td>sheriff david clarke become internet joke thre...</td>\n",
       "      <td>1</td>\n",
       "      <td>[30383, 91062, 77676, 23464, 66433, 8578, 8769...</td>\n",
       "    </tr>\n",
       "    <tr>\n",
       "      <th>3</th>\n",
       "      <td>3</td>\n",
       "      <td>3</td>\n",
       "      <td>trump ob even obama name cod website image chr...</td>\n",
       "      <td>1</td>\n",
       "      <td>[48026, 82760, 94341, 64354, 72398, 5206, 6520...</td>\n",
       "    </tr>\n",
       "    <tr>\n",
       "      <th>4</th>\n",
       "      <td>4</td>\n",
       "      <td>4</td>\n",
       "      <td>pope francis call donald trump christmas speec...</td>\n",
       "      <td>1</td>\n",
       "      <td>[26459, 24198, 73700, 70224, 48026, 62043, 834...</td>\n",
       "    </tr>\n",
       "  </tbody>\n",
       "</table>\n",
       "</div>"
      ],
      "text/plain": [
       "   Unnamed: 0  Unnamed: 0.1  \\\n",
       "0           0             0   \n",
       "1           1             1   \n",
       "2           2             2   \n",
       "3           3             3   \n",
       "4           4             4   \n",
       "\n",
       "                                                text  label  \\\n",
       "0  donald trump send embarrass new year eve messa...      1   \n",
       "1  drink brag trump staffer start russian collusi...      1   \n",
       "2  sheriff david clarke become internet joke thre...      1   \n",
       "3  trump ob even obama name cod website image chr...      1   \n",
       "4  pope francis call donald trump christmas speec...      1   \n",
       "\n",
       "                                         mapped_text  \n",
       "0  [70224, 48026, 71767, 29317, 7203, 7759, 73615...  \n",
       "1  [9047, 46709, 48026, 46078, 34043, 20147, 2169...  \n",
       "2  [30383, 91062, 77676, 23464, 66433, 8578, 8769...  \n",
       "3  [48026, 82760, 94341, 64354, 72398, 5206, 6520...  \n",
       "4  [26459, 24198, 73700, 70224, 48026, 62043, 834...  "
      ]
     },
     "execution_count": 42,
     "metadata": {},
     "output_type": "execute_result"
    }
   ],
   "source": [
    "df.head()"
   ]
  },
  {
   "cell_type": "markdown",
   "metadata": {},
   "source": [
    "# Parameters"
   ]
  },
  {
   "cell_type": "code",
   "execution_count": 14,
   "metadata": {},
   "outputs": [
    {
     "data": {
      "text/plain": [
       "(35918, 4)"
      ]
     },
     "execution_count": 14,
     "metadata": {},
     "output_type": "execute_result"
    }
   ],
   "source": [
    "train = df.sample(n = math.floor(0.8*len(df)))\n",
    "train.shape"
   ]
  },
  {
   "cell_type": "code",
   "execution_count": 15,
   "metadata": {},
   "outputs": [],
   "source": [
    "test = df.drop(train.index)"
   ]
  },
  {
   "cell_type": "code",
   "execution_count": 16,
   "metadata": {},
   "outputs": [
    {
     "data": {
      "text/plain": [
       "(8980, 4)"
      ]
     },
     "execution_count": 16,
     "metadata": {},
     "output_type": "execute_result"
    }
   ],
   "source": [
    "test.shape"
   ]
  },
  {
   "cell_type": "code",
   "execution_count": null,
   "metadata": {},
   "outputs": [],
   "source": [
    "train.to_csv('train.csv')\n",
    "test.to_csv('test.csv')"
   ]
  },
  {
   "cell_type": "code",
   "execution_count": null,
   "metadata": {},
   "outputs": [],
   "source": [
    "train.head()"
   ]
  },
  {
   "cell_type": "code",
   "execution_count": 31,
   "metadata": {
    "scrolled": false
   },
   "outputs": [],
   "source": [
    "train.reset_index(inplace=True)"
   ]
  },
  {
   "cell_type": "code",
   "execution_count": 20,
   "metadata": {},
   "outputs": [],
   "source": [
    "train = train.rename(columns = {'index':'id'})"
   ]
  },
  {
   "cell_type": "code",
   "execution_count": 105,
   "metadata": {},
   "outputs": [],
   "source": [
    "train = pd.read_csv('train.csv')\n",
    "test = pd.read_csv('test.csv')\n",
    "train.drop({'Unnamed: 0.1','Unnamed: 0.1.1'},axis=1,inplace=True)\n",
    "test.drop({'Unnamed: 0.1','Unnamed: 0.1.1'},axis=1,inplace=True)"
   ]
  },
  {
   "cell_type": "code",
   "execution_count": 106,
   "metadata": {},
   "outputs": [],
   "source": [
    "#to maintain the list format\n",
    "train['mapped_text'] = train['mapped_text'].map(ast.literal_eval)\n",
    "#to maintain the list format\n",
    "test['mapped_text'] = test['mapped_text'].map(ast.literal_eval)"
   ]
  },
  {
   "cell_type": "code",
   "execution_count": 109,
   "metadata": {
    "scrolled": false
   },
   "outputs": [
    {
     "name": "stdout",
     "output_type": "stream",
     "text": [
      "<class 'list'>\n",
      "<class 'list'>\n"
     ]
    }
   ],
   "source": [
    "print(type(train['mapped_text'][0]))\n",
    "print(type(test['mapped_text'][0]))"
   ]
  },
  {
   "cell_type": "code",
   "execution_count": 108,
   "metadata": {
    "scrolled": true
   },
   "outputs": [
    {
     "data": {
      "text/html": [
       "<div>\n",
       "<style scoped>\n",
       "    .dataframe tbody tr th:only-of-type {\n",
       "        vertical-align: middle;\n",
       "    }\n",
       "\n",
       "    .dataframe tbody tr th {\n",
       "        vertical-align: top;\n",
       "    }\n",
       "\n",
       "    .dataframe thead th {\n",
       "        text-align: right;\n",
       "    }\n",
       "</style>\n",
       "<table border=\"1\" class=\"dataframe\">\n",
       "  <thead>\n",
       "    <tr style=\"text-align: right;\">\n",
       "      <th></th>\n",
       "      <th>Unnamed: 0</th>\n",
       "      <th>Unnamed: 0.1</th>\n",
       "      <th>Unnamed: 0.1.1</th>\n",
       "      <th>text</th>\n",
       "      <th>label</th>\n",
       "      <th>mapped_text</th>\n",
       "    </tr>\n",
       "  </thead>\n",
       "  <tbody>\n",
       "    <tr>\n",
       "      <th>0</th>\n",
       "      <td>7882</td>\n",
       "      <td>7882</td>\n",
       "      <td>7882</td>\n",
       "      <td>mitt romney go donald trump exactly like mitt ...</td>\n",
       "      <td>1</td>\n",
       "      <td>[12437, 50296, 19730, 70224, 48026, 38803, 547...</td>\n",
       "    </tr>\n",
       "    <tr>\n",
       "      <th>1</th>\n",
       "      <td>20642</td>\n",
       "      <td>20642</td>\n",
       "      <td>20642</td>\n",
       "      <td>yikes year hillary lie drive well know democra...</td>\n",
       "      <td>1</td>\n",
       "      <td>[40611, 7759, 45026, 52731, 3062, 16735, 94715...</td>\n",
       "    </tr>\n",
       "    <tr>\n",
       "      <th>2</th>\n",
       "      <td>2311</td>\n",
       "      <td>2311</td>\n",
       "      <td>2311</td>\n",
       "      <td>internet hero make trump putin facebook friend...</td>\n",
       "      <td>1</td>\n",
       "      <td>[66433, 57110, 43504, 48026, 46185, 48247, 189...</td>\n",
       "    </tr>\n",
       "    <tr>\n",
       "      <th>3</th>\n",
       "      <td>36117</td>\n",
       "      <td>36117</td>\n",
       "      <td>36117</td>\n",
       "      <td>palestinian snub penny visit jerusalem move ca...</td>\n",
       "      <td>0</td>\n",
       "      <td>[83741, 63169, 33551, 24177, 53492, 63335, 378...</td>\n",
       "    </tr>\n",
       "    <tr>\n",
       "      <th>4</th>\n",
       "      <td>2923</td>\n",
       "      <td>2923</td>\n",
       "      <td>2923</td>\n",
       "      <td>donald trump even steal cake design obama inau...</td>\n",
       "      <td>1</td>\n",
       "      <td>[70224, 48026, 94341, 81545, 80357, 90402, 643...</td>\n",
       "    </tr>\n",
       "    <tr>\n",
       "      <th>...</th>\n",
       "      <td>...</td>\n",
       "      <td>...</td>\n",
       "      <td>...</td>\n",
       "      <td>...</td>\n",
       "      <td>...</td>\n",
       "      <td>...</td>\n",
       "    </tr>\n",
       "    <tr>\n",
       "      <th>35913</th>\n",
       "      <td>12675</td>\n",
       "      <td>12675</td>\n",
       "      <td>12675</td>\n",
       "      <td>democrat operative catch plan bully woman trum...</td>\n",
       "      <td>1</td>\n",
       "      <td>[51156, 52832, 71488, 41152, 58880, 86096, 480...</td>\n",
       "    </tr>\n",
       "    <tr>\n",
       "      <th>35914</th>\n",
       "      <td>21882</td>\n",
       "      <td>21882</td>\n",
       "      <td>21882</td>\n",
       "      <td>detroit squat squatter take turn want miss</td>\n",
       "      <td>1</td>\n",
       "      <td>[27965, 18503, 4421, 53845, 9346, 70384, 77819]</td>\n",
       "    </tr>\n",
       "    <tr>\n",
       "      <th>35915</th>\n",
       "      <td>20869</td>\n",
       "      <td>20869</td>\n",
       "      <td>20869</td>\n",
       "      <td>oops donald trump name miss ballot florida oh ...</td>\n",
       "      <td>1</td>\n",
       "      <td>[46007, 70224, 48026, 72398, 77819, 79811, 802...</td>\n",
       "    </tr>\n",
       "    <tr>\n",
       "      <th>35916</th>\n",
       "      <td>8302</td>\n",
       "      <td>8302</td>\n",
       "      <td>8302</td>\n",
       "      <td>jeb bush bring mom rally crack awkward joke ab...</td>\n",
       "      <td>1</td>\n",
       "      <td>[5051, 69505, 46784, 55703, 39905, 33789, 7671...</td>\n",
       "    </tr>\n",
       "    <tr>\n",
       "      <th>35917</th>\n",
       "      <td>3107</td>\n",
       "      <td>3107</td>\n",
       "      <td>3107</td>\n",
       "      <td>shock new data prove effective gun control law...</td>\n",
       "      <td>1</td>\n",
       "      <td>[72277, 7203, 35938, 40435, 67348, 40983, 8166...</td>\n",
       "    </tr>\n",
       "  </tbody>\n",
       "</table>\n",
       "<p>35918 rows × 6 columns</p>\n",
       "</div>"
      ],
      "text/plain": [
       "       Unnamed: 0  Unnamed: 0.1  Unnamed: 0.1.1  \\\n",
       "0            7882          7882            7882   \n",
       "1           20642         20642           20642   \n",
       "2            2311          2311            2311   \n",
       "3           36117         36117           36117   \n",
       "4            2923          2923            2923   \n",
       "...           ...           ...             ...   \n",
       "35913       12675         12675           12675   \n",
       "35914       21882         21882           21882   \n",
       "35915       20869         20869           20869   \n",
       "35916        8302          8302            8302   \n",
       "35917        3107          3107            3107   \n",
       "\n",
       "                                                    text  label  \\\n",
       "0      mitt romney go donald trump exactly like mitt ...      1   \n",
       "1      yikes year hillary lie drive well know democra...      1   \n",
       "2      internet hero make trump putin facebook friend...      1   \n",
       "3      palestinian snub penny visit jerusalem move ca...      0   \n",
       "4      donald trump even steal cake design obama inau...      1   \n",
       "...                                                  ...    ...   \n",
       "35913  democrat operative catch plan bully woman trum...      1   \n",
       "35914         detroit squat squatter take turn want miss      1   \n",
       "35915  oops donald trump name miss ballot florida oh ...      1   \n",
       "35916  jeb bush bring mom rally crack awkward joke ab...      1   \n",
       "35917  shock new data prove effective gun control law...      1   \n",
       "\n",
       "                                             mapped_text  \n",
       "0      [12437, 50296, 19730, 70224, 48026, 38803, 547...  \n",
       "1      [40611, 7759, 45026, 52731, 3062, 16735, 94715...  \n",
       "2      [66433, 57110, 43504, 48026, 46185, 48247, 189...  \n",
       "3      [83741, 63169, 33551, 24177, 53492, 63335, 378...  \n",
       "4      [70224, 48026, 94341, 81545, 80357, 90402, 643...  \n",
       "...                                                  ...  \n",
       "35913  [51156, 52832, 71488, 41152, 58880, 86096, 480...  \n",
       "35914    [27965, 18503, 4421, 53845, 9346, 70384, 77819]  \n",
       "35915  [46007, 70224, 48026, 72398, 77819, 79811, 802...  \n",
       "35916  [5051, 69505, 46784, 55703, 39905, 33789, 7671...  \n",
       "35917  [72277, 7203, 35938, 40435, 67348, 40983, 8166...  \n",
       "\n",
       "[35918 rows x 6 columns]"
      ]
     },
     "execution_count": 108,
     "metadata": {},
     "output_type": "execute_result"
    }
   ],
   "source": [
    "train"
   ]
  },
  {
   "cell_type": "markdown",
   "metadata": {},
   "source": [
    "### Separation of the train dataset into fake and real articles"
   ]
  },
  {
   "cell_type": "code",
   "execution_count": 52,
   "metadata": {},
   "outputs": [],
   "source": [
    "train_0 = train.loc[train['label']==0]\n",
    "train_1 = train.loc[train['label']==1]"
   ]
  },
  {
   "cell_type": "code",
   "execution_count": 53,
   "metadata": {},
   "outputs": [
    {
     "name": "stderr",
     "output_type": "stream",
     "text": [
      "/Users/Giulia/opt/anaconda3/lib/python3.8/site-packages/pandas/core/frame.py:3990: SettingWithCopyWarning: \n",
      "A value is trying to be set on a copy of a slice from a DataFrame\n",
      "\n",
      "See the caveats in the documentation: https://pandas.pydata.org/pandas-docs/stable/user_guide/indexing.html#returning-a-view-versus-a-copy\n",
      "  return super().drop(\n"
     ]
    }
   ],
   "source": [
    "train_0.drop({'Unnamed: 0.1','Unnamed: 0.1.1'},axis=1,inplace=True)\n",
    "train_1.drop({'Unnamed: 0.1','Unnamed: 0.1.1'},axis=1,inplace=True)"
   ]
  },
  {
   "cell_type": "code",
   "execution_count": 54,
   "metadata": {
    "scrolled": true
   },
   "outputs": [
    {
     "data": {
      "text/html": [
       "<div>\n",
       "<style scoped>\n",
       "    .dataframe tbody tr th:only-of-type {\n",
       "        vertical-align: middle;\n",
       "    }\n",
       "\n",
       "    .dataframe tbody tr th {\n",
       "        vertical-align: top;\n",
       "    }\n",
       "\n",
       "    .dataframe thead th {\n",
       "        text-align: right;\n",
       "    }\n",
       "</style>\n",
       "<table border=\"1\" class=\"dataframe\">\n",
       "  <thead>\n",
       "    <tr style=\"text-align: right;\">\n",
       "      <th></th>\n",
       "      <th>index</th>\n",
       "      <th>Unnamed: 0</th>\n",
       "      <th>text</th>\n",
       "      <th>label</th>\n",
       "      <th>mapped_text</th>\n",
       "    </tr>\n",
       "  </thead>\n",
       "  <tbody>\n",
       "    <tr>\n",
       "      <th>0</th>\n",
       "      <td>0</td>\n",
       "      <td>7882</td>\n",
       "      <td>mitt romney go donald trump exactly like mitt ...</td>\n",
       "      <td>1</td>\n",
       "      <td>[12437, 50296, 19730, 70224, 48026, 38803, 547...</td>\n",
       "    </tr>\n",
       "    <tr>\n",
       "      <th>1</th>\n",
       "      <td>1</td>\n",
       "      <td>20642</td>\n",
       "      <td>yikes year hillary lie drive well know democra...</td>\n",
       "      <td>1</td>\n",
       "      <td>[40611, 7759, 45026, 52731, 3062, 16735, 94715...</td>\n",
       "    </tr>\n",
       "    <tr>\n",
       "      <th>2</th>\n",
       "      <td>2</td>\n",
       "      <td>2311</td>\n",
       "      <td>internet hero make trump putin facebook friend...</td>\n",
       "      <td>1</td>\n",
       "      <td>[66433, 57110, 43504, 48026, 46185, 48247, 189...</td>\n",
       "    </tr>\n",
       "    <tr>\n",
       "      <th>4</th>\n",
       "      <td>4</td>\n",
       "      <td>2923</td>\n",
       "      <td>donald trump even steal cake design obama inau...</td>\n",
       "      <td>1</td>\n",
       "      <td>[70224, 48026, 94341, 81545, 80357, 90402, 643...</td>\n",
       "    </tr>\n",
       "    <tr>\n",
       "      <th>5</th>\n",
       "      <td>5</td>\n",
       "      <td>2759</td>\n",
       "      <td>break trump devastate drop anti lgbt executive...</td>\n",
       "      <td>1</td>\n",
       "      <td>[32829, 48026, 51480, 60088, 16361, 95392, 261...</td>\n",
       "    </tr>\n",
       "    <tr>\n",
       "      <th>...</th>\n",
       "      <td>...</td>\n",
       "      <td>...</td>\n",
       "      <td>...</td>\n",
       "      <td>...</td>\n",
       "      <td>...</td>\n",
       "    </tr>\n",
       "    <tr>\n",
       "      <th>35913</th>\n",
       "      <td>35913</td>\n",
       "      <td>12675</td>\n",
       "      <td>democrat operative catch plan bully woman trum...</td>\n",
       "      <td>1</td>\n",
       "      <td>[51156, 52832, 71488, 41152, 58880, 86096, 480...</td>\n",
       "    </tr>\n",
       "    <tr>\n",
       "      <th>35914</th>\n",
       "      <td>35914</td>\n",
       "      <td>21882</td>\n",
       "      <td>detroit squat squatter take turn want miss</td>\n",
       "      <td>1</td>\n",
       "      <td>[27965, 18503, 4421, 53845, 9346, 70384, 77819]</td>\n",
       "    </tr>\n",
       "    <tr>\n",
       "      <th>35915</th>\n",
       "      <td>35915</td>\n",
       "      <td>20869</td>\n",
       "      <td>oops donald trump name miss ballot florida oh ...</td>\n",
       "      <td>1</td>\n",
       "      <td>[46007, 70224, 48026, 72398, 77819, 79811, 802...</td>\n",
       "    </tr>\n",
       "    <tr>\n",
       "      <th>35916</th>\n",
       "      <td>35916</td>\n",
       "      <td>8302</td>\n",
       "      <td>jeb bush bring mom rally crack awkward joke ab...</td>\n",
       "      <td>1</td>\n",
       "      <td>[5051, 69505, 46784, 55703, 39905, 33789, 7671...</td>\n",
       "    </tr>\n",
       "    <tr>\n",
       "      <th>35917</th>\n",
       "      <td>35917</td>\n",
       "      <td>3107</td>\n",
       "      <td>shock new data prove effective gun control law...</td>\n",
       "      <td>1</td>\n",
       "      <td>[72277, 7203, 35938, 40435, 67348, 40983, 8166...</td>\n",
       "    </tr>\n",
       "  </tbody>\n",
       "</table>\n",
       "<p>18765 rows × 5 columns</p>\n",
       "</div>"
      ],
      "text/plain": [
       "       index  Unnamed: 0                                               text  \\\n",
       "0          0        7882  mitt romney go donald trump exactly like mitt ...   \n",
       "1          1       20642  yikes year hillary lie drive well know democra...   \n",
       "2          2        2311  internet hero make trump putin facebook friend...   \n",
       "4          4        2923  donald trump even steal cake design obama inau...   \n",
       "5          5        2759  break trump devastate drop anti lgbt executive...   \n",
       "...      ...         ...                                                ...   \n",
       "35913  35913       12675  democrat operative catch plan bully woman trum...   \n",
       "35914  35914       21882         detroit squat squatter take turn want miss   \n",
       "35915  35915       20869  oops donald trump name miss ballot florida oh ...   \n",
       "35916  35916        8302  jeb bush bring mom rally crack awkward joke ab...   \n",
       "35917  35917        3107  shock new data prove effective gun control law...   \n",
       "\n",
       "       label                                        mapped_text  \n",
       "0          1  [12437, 50296, 19730, 70224, 48026, 38803, 547...  \n",
       "1          1  [40611, 7759, 45026, 52731, 3062, 16735, 94715...  \n",
       "2          1  [66433, 57110, 43504, 48026, 46185, 48247, 189...  \n",
       "4          1  [70224, 48026, 94341, 81545, 80357, 90402, 643...  \n",
       "5          1  [32829, 48026, 51480, 60088, 16361, 95392, 261...  \n",
       "...      ...                                                ...  \n",
       "35913      1  [51156, 52832, 71488, 41152, 58880, 86096, 480...  \n",
       "35914      1    [27965, 18503, 4421, 53845, 9346, 70384, 77819]  \n",
       "35915      1  [46007, 70224, 48026, 72398, 77819, 79811, 802...  \n",
       "35916      1  [5051, 69505, 46784, 55703, 39905, 33789, 7671...  \n",
       "35917      1  [72277, 7203, 35938, 40435, 67348, 40983, 8166...  \n",
       "\n",
       "[18765 rows x 5 columns]"
      ]
     },
     "execution_count": 54,
     "metadata": {},
     "output_type": "execute_result"
    }
   ],
   "source": [
    "train_1"
   ]
  },
  {
   "cell_type": "markdown",
   "metadata": {},
   "source": [
    "## Naïve Bayes: Multinomial Event Model"
   ]
  },
  {
   "cell_type": "code",
   "execution_count": 112,
   "metadata": {},
   "outputs": [
    {
     "data": {
      "text/plain": [
       "0.5224400022272955"
      ]
     },
     "execution_count": 112,
     "metadata": {},
     "output_type": "execute_result"
    }
   ],
   "source": [
    "phi_y = train['label'].sum()/len(train)\n",
    "phi_y"
   ]
  },
  {
   "cell_type": "code",
   "execution_count": 76,
   "metadata": {
    "scrolled": true
   },
   "outputs": [
    {
     "name": "stderr",
     "output_type": "stream",
     "text": [
      "100%|██████████| 35918/35918 [00:30<00:00, 1169.92it/s]\n"
     ]
    },
    {
     "data": {
      "text/plain": [
       "0        None\n",
       "1        None\n",
       "2        None\n",
       "3        None\n",
       "4        None\n",
       "         ... \n",
       "35913    None\n",
       "35914    None\n",
       "35915    None\n",
       "35916    None\n",
       "35917    None\n",
       "Length: 35918, dtype: object"
      ]
     },
     "execution_count": 76,
     "metadata": {},
     "output_type": "execute_result"
    }
   ],
   "source": [
    "from tqdm import tqdm\n",
    "tqdm.pandas()\n",
    "\n",
    "d = defaultdict(list)\n",
    "\n",
    "def add_value(txt,index,label,d):\n",
    "    for word in set(txt):\n",
    "        counts = txt.count(word)\n",
    "        d[word]+=[(index,counts,label)]\n",
    "\n",
    "train.progress_apply(lambda x: add_value(x['mapped_text'],x['Unnamed: 0'],x['label'],d),axis = 1)"
   ]
  },
  {
   "cell_type": "code",
   "execution_count": 77,
   "metadata": {
    "scrolled": true
   },
   "outputs": [
    {
     "data": {
      "text/plain": [
       "89439"
      ]
     },
     "execution_count": 77,
     "metadata": {},
     "output_type": "execute_result"
    }
   ],
   "source": [
    "len(d)  ## penso sia minore perchè stiamo applicando la funzione a TRAIN mentre il vocabolario è stato costruito su DF "
   ]
  },
  {
   "cell_type": "code",
   "execution_count": 78,
   "metadata": {
    "scrolled": true
   },
   "outputs": [
    {
     "data": {
      "text/plain": [
       "98132"
      ]
     },
     "execution_count": 78,
     "metadata": {},
     "output_type": "execute_result"
    }
   ],
   "source": [
    "len(vocabulary)"
   ]
  },
  {
   "cell_type": "code",
   "execution_count": 83,
   "metadata": {},
   "outputs": [],
   "source": [
    "save_dict(d,'word_index')"
   ]
  },
  {
   "cell_type": "code",
   "execution_count": 84,
   "metadata": {},
   "outputs": [],
   "source": [
    "word_index = load_obj('word_index')"
   ]
  },
  {
   "cell_type": "code",
   "execution_count": 102,
   "metadata": {},
   "outputs": [
    {
     "name": "stdout",
     "output_type": "stream",
     "text": [
      "36869\n",
      "[(7882, 2, 1), (17462, 1, 1), (43594, 1, 0), (22344, 1, 1), (38069, 1, 0), (42484, 4, 0), (44047, 1, 0), (39144, 2, 0), (28310, 1, 0), (23858, 3, 0), (27631, 2, 0), (42669, 1, 0), (23481, 2, 0), (23897, 2, 0), (42207, 1, 0), (40889, 1, 0), (15783, 2, 1), (42238, 4, 0), (24509, 1, 0), (33963, 1, 0), (44674, 1, 0), (38355, 1, 0), (34914, 3, 0), (15765, 1, 1), (40398, 2, 0), (34124, 2, 0), (32993, 1, 0), (34601, 1, 0), (42436, 1, 0), (37504, 2, 0), (5823, 1, 1), (22458, 1, 1), (9109, 1, 1), (15589, 1, 1), (1062, 1, 1), (21537, 1, 1), (19743, 2, 1), (43428, 3, 0), (23943, 2, 0), (29674, 2, 0), (44724, 1, 0), (37586, 1, 0), (23962, 1, 0), (17518, 2, 1), (29577, 1, 0), (25624, 1, 0), (25208, 2, 0), (11894, 1, 1), (23509, 1, 0), (37102, 1, 0), (33070, 2, 0), (41425, 1, 0), (25139, 3, 0), (37253, 3, 0), (786, 1, 1), (44718, 1, 0), (7614, 1, 1), (25071, 1, 0), (24051, 1, 0), (28795, 1, 0), (42380, 3, 0), (43427, 1, 0), (41277, 1, 0), (18768, 1, 1), (25074, 1, 0), (34667, 1, 0), (36637, 1, 0), (33123, 1, 0), (29021, 1, 0), (5405, 1, 1), (34790, 2, 0), (35584, 1, 0), (7190, 1, 1), (39299, 3, 0), (35401, 1, 0), (16668, 1, 1), (33467, 1, 0), (24199, 1, 0), (23552, 1, 0), (2197, 1, 1), (21929, 2, 1), (39501, 1, 0), (34605, 1, 0), (36938, 6, 0), (30128, 1, 0), (39272, 2, 0), (41402, 2, 0), (39981, 1, 0), (24613, 1, 0), (8867, 1, 1), (33234, 1, 0), (24554, 1, 0), (28776, 1, 0), (15643, 2, 1), (23566, 1, 0), (24282, 1, 0), (32395, 3, 0), (6992, 5, 1), (29249, 4, 0), (35102, 1, 0), (26288, 1, 0), (28409, 1, 0), (34096, 2, 0), (24139, 1, 0), (24104, 2, 0), (24230, 1, 0), (26075, 2, 0), (25673, 1, 0), (40430, 1, 0), (35798, 2, 0), (43677, 2, 0), (42251, 1, 0), (12858, 1, 1), (8026, 1, 1), (29658, 1, 0), (19098, 1, 1), (43268, 1, 0), (34882, 1, 0), (36193, 1, 0), (26382, 1, 0), (21704, 2, 1), (23150, 1, 1), (24112, 2, 0), (43820, 1, 0), (34938, 1, 0), (37298, 2, 0), (38657, 1, 0), (43685, 1, 0), (36289, 1, 0), (39680, 2, 0), (29702, 2, 0), (28736, 1, 0), (12604, 1, 1), (41397, 1, 0), (29688, 1, 0), (23409, 2, 1), (17803, 1, 1), (23166, 1, 1), (26136, 1, 0), (44859, 1, 0), (7890, 1, 1), (27632, 1, 0), (35204, 1, 0), (34673, 6, 0), (30815, 1, 0), (34731, 1, 0), (13893, 1, 1), (9149, 1, 1), (26311, 1, 0), (40768, 1, 0), (17395, 2, 1), (40354, 1, 0), (23138, 1, 1), (37573, 5, 0), (29593, 1, 0), (40181, 1, 0), (29032, 1, 0), (42177, 1, 0), (30361, 1, 0), (24906, 1, 0), (17566, 1, 1), (40714, 2, 0), (33886, 1, 0), (43782, 2, 0), (32865, 1, 0), (43623, 3, 0), (33824, 2, 0), (43292, 1, 0), (39471, 1, 0), (22762, 1, 1), (32763, 1, 0), (15081, 1, 1), (27574, 1, 0), (27583, 1, 0), (35735, 4, 0), (26281, 1, 0), (29238, 1, 0), (35144, 2, 0), (28537, 1, 0), (38449, 1, 0), (11600, 1, 1), (31896, 3, 0), (36768, 2, 0), (30433, 1, 0), (38708, 1, 0), (32781, 2, 0), (28354, 1, 0), (34092, 1, 0), (28994, 1, 0), (23697, 2, 0), (9270, 1, 1), (20045, 1, 1), (37221, 6, 0), (41030, 1, 0), (36209, 1, 0), (31890, 1, 0), (44885, 2, 0), (22482, 1, 1), (7150, 1, 1), (26759, 1, 0), (8227, 1, 1), (29739, 1, 0), (40493, 1, 0), (43888, 1, 0), (20781, 1, 1), (635, 2, 1), (264, 1, 1), (25980, 1, 0), (22075, 1, 1), (36211, 1, 0), (14857, 1, 1), (41624, 2, 0), (13283, 1, 1), (29666, 1, 0), (38422, 1, 0), (32898, 2, 0), (26298, 1, 0), (28659, 1, 0), (2889, 1, 1), (29368, 4, 0), (40833, 1, 0), (19354, 2, 1), (28750, 2, 0), (40096, 2, 0), (26608, 1, 0), (42360, 6, 0), (26217, 1, 0), (40471, 3, 0), (25431, 1, 0), (14911, 2, 1), (25027, 1, 0), (11229, 2, 1), (10822, 2, 1), (28882, 1, 0), (10849, 1, 1), (37227, 3, 0), (809, 3, 1), (19746, 2, 1), (39469, 1, 0), (37303, 1, 0), (13369, 2, 1), (25297, 1, 0), (41769, 6, 0), (25165, 2, 0), (25842, 3, 0), (25801, 1, 0), (9047, 1, 1), (36609, 1, 0), (22338, 5, 1), (9048, 1, 1), (24342, 4, 0), (9671, 1, 1), (21836, 2, 1), (40550, 4, 0), (22373, 1, 1), (41685, 1, 0), (43558, 1, 0), (22013, 4, 1), (30903, 1, 0), (38671, 1, 0), (34639, 1, 0), (37086, 1, 0), (32005, 1, 0), (32595, 1, 0), (43300, 2, 0), (35750, 1, 0), (2289, 1, 1), (33915, 2, 0), (36452, 9, 0), (22755, 1, 1), (17247, 1, 1), (5997, 1, 1), (43621, 1, 0), (18613, 1, 1), (43420, 2, 0), (527, 1, 1), (39078, 1, 0), (36478, 1, 0), (30990, 1, 0), (37755, 1, 0), (30581, 1, 0), (32614, 1, 0), (44771, 1, 0), (30638, 1, 0), (42370, 3, 0), (35134, 2, 0), (41586, 1, 0), (35703, 1, 0), (35212, 1, 0), (27492, 1, 0), (38171, 1, 0), (43606, 1, 0), (32925, 1, 0), (26295, 1, 0), (15694, 2, 1), (37623, 1, 0), (15384, 1, 1), (26035, 2, 0), (37188, 1, 0), (25881, 1, 0), (43016, 1, 0), (25545, 1, 0), (26617, 2, 0), (28789, 1, 0), (31884, 1, 0), (1942, 1, 1), (33388, 1, 0), (42336, 1, 0), (18441, 1, 1), (36453, 1, 0), (24349, 1, 0), (812, 3, 1), (35846, 1, 0), (5437, 1, 1), (17920, 2, 1), (39169, 1, 0), (24373, 1, 0), (37052, 1, 0), (33346, 1, 0), (36341, 1, 0), (32168, 1, 0), (7305, 4, 1), (600, 2, 1), (44864, 1, 0), (39151, 1, 0), (8121, 1, 1), (35939, 1, 0), (9659, 1, 1), (36906, 2, 0), (31626, 1, 0), (13776, 1, 1), (24954, 1, 0), (37665, 2, 0), (41248, 1, 0), (22691, 1, 1), (32457, 1, 0), (42696, 1, 0), (36362, 4, 0), (18979, 1, 1), (36524, 1, 0), (29360, 1, 0), (29783, 2, 0), (43848, 2, 0), (15807, 1, 1), (31761, 1, 0), (42756, 3, 0), (2740, 1, 1), (30332, 1, 0), (11514, 1, 1), (31576, 1, 0), (44007, 1, 0), (36070, 1, 0), (34227, 1, 0), (20392, 1, 1), (26943, 1, 0), (31115, 1, 0), (23709, 1, 0), (36621, 1, 0), (35166, 1, 0), (29254, 1, 0), (41988, 1, 0), (33506, 1, 0), (27046, 1, 0), (23815, 1, 0), (41453, 4, 0), (28685, 1, 0), (40968, 1, 0), (31710, 2, 0), (39737, 4, 0), (23590, 1, 0), (17233, 1, 1), (27136, 4, 0), (26612, 1, 0), (21314, 2, 1), (33316, 1, 0), (31907, 1, 0), (41128, 3, 0), (32767, 1, 0), (35369, 5, 0), (28435, 2, 0), (17627, 2, 1), (35222, 2, 0), (38891, 1, 0), (15436, 1, 1), (5795, 2, 1), (27398, 1, 0), (30771, 1, 0), (23794, 3, 0), (36914, 1, 0), (43636, 1, 0), (12541, 1, 1), (22462, 1, 1), (32229, 1, 0), (33399, 1, 0), (28071, 1, 0), (42759, 1, 0), (42282, 2, 0), (40512, 3, 0), (41190, 1, 0), (39843, 1, 0), (27418, 1, 0), (25363, 1, 0), (31311, 4, 0), (34035, 2, 0), (40120, 1, 0), (23763, 2, 0), (10427, 1, 1), (24005, 1, 0), (26319, 1, 0), (40082, 1, 0), (37376, 1, 0), (41583, 4, 0), (40627, 1, 0), (43612, 2, 0), (37286, 3, 0), (36150, 5, 0), (40910, 1, 0), (26270, 3, 0), (8813, 1, 1), (8101, 1, 1), (9129, 1, 1), (28769, 1, 0), (28385, 3, 0), (34534, 1, 0), (29583, 3, 0), (31726, 1, 0), (41360, 1, 0), (39282, 1, 0), (18340, 1, 1), (15940, 3, 1), (39212, 1, 0), (22276, 2, 1), (37428, 1, 0), (35284, 1, 0), (24331, 1, 0), (11536, 2, 1), (23547, 2, 0), (44555, 1, 0), (39818, 1, 0), (31701, 7, 0), (34637, 2, 0), (43916, 1, 0), (22102, 1, 1), (43641, 1, 0), (24630, 4, 0), (31875, 1, 0), (8970, 1, 1), (29668, 1, 0), (36255, 3, 0), (37814, 1, 0), (32667, 2, 0), (32960, 1, 0), (26555, 2, 0), (37345, 1, 0), (13571, 3, 1), (35938, 1, 0), (41075, 1, 0), (44807, 5, 0), (37478, 6, 0), (13785, 1, 1), (33663, 1, 0), (24319, 2, 0), (30848, 1, 0), (3989, 2, 1), (19699, 1, 1), (30487, 1, 0), (19690, 1, 1), (3252, 1, 1), (24634, 1, 0), (39266, 1, 0), (35301, 1, 0), (27491, 1, 0), (15802, 2, 1), (36404, 1, 0), (33728, 2, 0), (27695, 1, 0), (40623, 2, 0), (12777, 1, 1), (36846, 1, 0), (27718, 1, 0), (41990, 1, 0), (44737, 1, 0), (41160, 2, 0), (42032, 1, 0), (38277, 2, 0), (29204, 1, 0), (25151, 1, 0), (14411, 3, 1), (44060, 3, 0), (41027, 1, 0), (35877, 2, 0), (35529, 1, 0), (26084, 1, 0), (38818, 1, 0), (30715, 1, 0), (35126, 2, 0), (41285, 2, 0), (12046, 1, 1), (30778, 1, 0), (35532, 1, 0), (36176, 1, 0), (37331, 1, 0), (44461, 1, 0), (30381, 2, 0), (16732, 2, 1), (38838, 1, 0), (33844, 1, 0), (37913, 1, 0), (40448, 1, 0), (27264, 1, 0), (17408, 1, 1), (40560, 2, 0), (5486, 1, 1), (41207, 1, 0), (44445, 2, 0), (42689, 1, 0), (9407, 1, 1), (29558, 1, 0), (30759, 2, 0), (42736, 2, 0), (43700, 3, 0), (43263, 5, 0), (27349, 6, 0), (31747, 1, 0), (26229, 1, 0), (36248, 1, 0), (40588, 2, 0), (27293, 1, 0), (765, 2, 1), (25146, 1, 0), (5794, 3, 1), (29547, 1, 0), (44313, 1, 0), (12672, 1, 1), (30729, 1, 0), (27907, 1, 0), (15909, 2, 1), (35785, 1, 0), (29981, 1, 0), (29439, 1, 0), (5149, 1, 1), (35365, 3, 0), (28001, 2, 0), (12537, 1, 1), (26173, 1, 0), (26392, 1, 0), (23480, 1, 1), (22717, 1, 1), (25872, 1, 0), (34627, 3, 0), (30667, 1, 0), (30572, 2, 0), (23121, 5, 1), (25304, 1, 0), (37344, 1, 0), (41996, 3, 0), (41021, 2, 0), (27895, 1, 0), (23317, 3, 1), (34053, 2, 0), (41496, 1, 0), (22367, 1, 1), (25255, 1, 0), (42014, 1, 0), (39052, 4, 0), (39878, 1, 0), (9088, 1, 1), (35954, 1, 0), (9624, 1, 1), (31767, 5, 0), (33343, 3, 0), (26712, 2, 0), (28118, 3, 0), (37429, 2, 0), (31562, 1, 0), (42347, 1, 0), (27297, 1, 0), (9681, 1, 1), (25974, 1, 0), (42967, 1, 0), (35812, 1, 0), (44403, 1, 0), (41467, 2, 0), (38294, 1, 0), (15621, 1, 1), (35477, 1, 0), (16975, 1, 1), (27628, 3, 0), (37254, 1, 0), (36407, 1, 0), (22931, 1, 1), (10699, 1, 1), (28791, 1, 0), (31503, 1, 0), (36260, 1, 0), (25281, 1, 0), (37480, 2, 0), (44090, 1, 0), (31069, 3, 0), (16159, 2, 1), (26227, 2, 0), (25155, 1, 0), (25143, 1, 0), (32508, 1, 0), (35537, 1, 0), (36385, 1, 0), (27356, 1, 0), (37821, 1, 0), (11668, 1, 1), (23915, 1, 0), (42986, 2, 0), (27241, 2, 0), (24238, 1, 0), (11404, 1, 1), (20183, 2, 1), (17572, 1, 1), (35675, 1, 0), (23232, 1, 1), (40016, 2, 0), (25540, 1, 0), (22598, 1, 1), (9660, 1, 1), (39085, 1, 0), (24302, 1, 0), (41623, 1, 0), (37197, 2, 0), (30999, 1, 0), (25228, 1, 0), (44124, 1, 0), (28210, 1, 0), (30612, 1, 0), (23478, 1, 1), (28076, 1, 0), (27728, 1, 0), (9442, 2, 1), (27516, 1, 0), (12519, 1, 1), (350, 3, 1), (9384, 1, 1), (23661, 1, 0), (27168, 1, 0), (42175, 2, 0), (31050, 4, 0), (35445, 1, 0), (16731, 1, 1), (6946, 1, 1), (12559, 1, 1), (25367, 1, 0), (34483, 1, 0), (24861, 1, 0), (44806, 3, 0), (23265, 1, 1), (4209, 1, 1), (39573, 7, 0), (30543, 1, 0), (30366, 1, 0), (8552, 1, 1), (40777, 2, 0), (29540, 1, 0), (40436, 1, 0), (30899, 1, 0), (32381, 2, 0), (43493, 1, 0), (28988, 1, 0), (43525, 1, 0), (35448, 1, 0), (32580, 1, 0), (31436, 1, 0), (33179, 1, 0), (6290, 1, 1), (21159, 1, 1), (38938, 1, 0), (30660, 1, 0), (40342, 1, 0), (38305, 1, 0), (39097, 1, 0), (40733, 1, 0), (31192, 1, 0), (40138, 1, 0), (8259, 1, 1), (24835, 1, 0), (36308, 1, 0), (37627, 1, 0), (32861, 1, 0), (12642, 2, 1), (30920, 1, 0), (17632, 1, 1), (39094, 2, 0), (31946, 1, 0), (37784, 1, 0), (44603, 1, 0), (35948, 1, 0), (30483, 2, 0), (41085, 1, 0), (18581, 1, 1), (13120, 1, 1), (30782, 1, 0), (43562, 1, 0), (41896, 2, 0), (17257, 1, 1), (40274, 1, 0), (28323, 4, 0), (32116, 2, 0), (36709, 1, 0), (24595, 2, 0), (4727, 1, 1), (43825, 2, 0), (39130, 1, 0), (32078, 1, 0), (23253, 1, 1), (25145, 3, 0), (23753, 3, 0), (34686, 3, 0), (30573, 6, 0), (14963, 1, 1), (26325, 1, 0), (17709, 1, 1), (40188, 7, 0), (33379, 1, 0), (26302, 2, 0), (36055, 1, 0), (43729, 1, 0), (34156, 1, 0), (41343, 1, 0), (41107, 1, 0), (44839, 2, 0), (34335, 2, 0), (41477, 1, 0), (26354, 1, 0), (3862, 1, 1), (39567, 3, 0), (43381, 3, 0), (15539, 1, 1), (40416, 1, 0), (15377, 1, 1), (28944, 4, 0), (37313, 3, 0), (33778, 1, 0), (19621, 3, 1), (25604, 2, 0), (41601, 1, 0), (25969, 1, 0), (22954, 1, 1), (26260, 1, 0), (36462, 1, 0), (34493, 1, 0), (33367, 2, 0), (38662, 1, 0), (38413, 1, 0), (43166, 1, 0), (40712, 1, 0), (37348, 1, 0), (23733, 2, 0), (44295, 1, 0), (37292, 1, 0), (26412, 1, 0), (35308, 1, 0), (30442, 1, 0), (32682, 2, 0), (39142, 1, 0), (33619, 1, 0), (14376, 1, 1), (44677, 1, 0), (13661, 1, 1), (43847, 1, 0), (24074, 1, 0), (28634, 1, 0), (30311, 1, 0), (35350, 1, 0), (40941, 3, 0), (34624, 1, 0), (39072, 1, 0), (33641, 1, 0), (22699, 1, 1), (43619, 3, 0), (33293, 1, 0), (17849, 3, 1), (40557, 1, 0), (21934, 1, 1), (35300, 1, 0), (25485, 5, 0), (39826, 2, 0), (22314, 1, 1), (36310, 2, 0), (6534, 1, 1), (24561, 1, 0), (30852, 3, 0), (43723, 2, 0), (29646, 2, 0), (21688, 1, 1), (33026, 1, 0), (17773, 1, 1), (34625, 1, 0), (32390, 2, 0), (15727, 1, 1), (44706, 1, 0), (30492, 1, 0), (20866, 1, 1), (34734, 1, 0), (32959, 1, 0), (26200, 1, 0), (10386, 4, 1), (26178, 2, 0), (23826, 1, 0), (21164, 1, 1), (28677, 3, 0), (17404, 2, 1), (42424, 2, 0), (16535, 2, 1), (40057, 2, 0), (13591, 2, 1), (24198, 1, 0), (9533, 1, 1), (24234, 1, 0), (28766, 1, 0), (30296, 1, 0), (29460, 1, 0), (24015, 1, 0), (23769, 1, 0), (22858, 1, 1), (44761, 1, 0), (33390, 1, 0), (29464, 1, 0), (44284, 2, 0), (7508, 1, 1), (35441, 1, 0), (35593, 1, 0), (30540, 1, 0), (24519, 1, 0), (28283, 1, 0), (29421, 1, 0), (44373, 2, 0), (28954, 1, 0), (29209, 1, 0), (1306, 1, 1), (4823, 1, 1), (41750, 2, 0), (33500, 1, 0), (26266, 1, 0), (417, 1, 1), (9531, 1, 1), (23130, 1, 1), (32969, 1, 0), (27555, 1, 0), (17161, 1, 1), (36102, 2, 0), (5633, 2, 1), (38811, 1, 0), (29187, 1, 0), (21055, 1, 1), (39939, 1, 0), (10787, 1, 1), (37828, 2, 0), (36513, 2, 0), (14477, 1, 1), (26743, 1, 0), (1459, 1, 1), (23197, 2, 1), (40580, 1, 0), (25650, 1, 0), (36838, 1, 0), (750, 1, 1), (9290, 1, 1), (15906, 1, 1), (12406, 3, 1), (29864, 1, 0), (39751, 1, 0), (34619, 1, 0), (43780, 3, 0), (17361, 1, 1), (8319, 2, 1), (23955, 1, 0), (34690, 1, 0), (43778, 1, 0), (31556, 1, 0), (41543, 1, 0), (30586, 1, 0), (38632, 2, 0), (30562, 1, 0), (32590, 1, 0), (42495, 1, 0), (12635, 2, 1), (11763, 1, 1), (37704, 1, 0), (39024, 1, 0), (7006, 1, 1), (34566, 1, 0), (36329, 1, 0), (19301, 1, 1), (33110, 1, 0), (27813, 1, 0), (38819, 1, 0), (40304, 1, 0), (40474, 1, 0), (41968, 1, 0), (36823, 3, 0), (39996, 6, 0), (19984, 1, 1), (37723, 2, 0), (22470, 1, 1), (27710, 1, 0), (19617, 1, 1), (8355, 2, 1), (33612, 1, 0), (41423, 1, 0), (33033, 4, 0), (13024, 1, 1), (38197, 1, 0), (40993, 1, 0), (38346, 4, 0), (37267, 1, 0), (24661, 2, 0), (3235, 1, 1), (30519, 1, 0), (35837, 1, 0), (9731, 3, 1), (17485, 1, 1), (6131, 1, 1), (29757, 1, 0), (40706, 3, 0), (42233, 7, 0), (30728, 1, 0), (34138, 1, 0), (23423, 2, 1), (24003, 1, 0), (35866, 1, 0), (4801, 1, 1), (30758, 1, 0), (25995, 2, 0), (8275, 2, 1), (39797, 1, 0), (39922, 1, 0), (17149, 1, 1), (7497, 1, 1), (31883, 1, 0), (9345, 1, 1), (28438, 1, 0), (26121, 2, 0), (19992, 1, 1), (8807, 1, 1), (39404, 2, 0), (21972, 1, 1), (32404, 1, 0), (31459, 1, 0), (28447, 1, 0), (43248, 1, 0), (44752, 1, 0), (26768, 1, 0), (35557, 7, 0), (29977, 1, 0), (16065, 1, 1), (33928, 1, 0), (39600, 1, 0), (7344, 1, 1), (26077, 1, 0), (5819, 2, 1), (25371, 2, 0), (19216, 1, 1), (41748, 3, 0), (35609, 1, 0), (29213, 1, 0), (6147, 1, 1), (17159, 1, 1), (43689, 2, 0), (27903, 1, 0), (44245, 1, 0), (22414, 2, 1), (31441, 1, 0), (33290, 1, 0), (33297, 1, 0), (38686, 1, 0), (6919, 1, 1), (38577, 1, 0), (18899, 1, 1), (44217, 1, 0), (32659, 1, 0), (32616, 3, 0), (28126, 1, 0), (41408, 1, 0), (33472, 2, 0), (27793, 2, 0), (37093, 1, 0), (39555, 1, 0), (22253, 1, 1), (30527, 1, 0), (34125, 2, 0), (16945, 1, 1), (23926, 2, 0), (17284, 1, 1), (30833, 1, 0), (32017, 1, 0), (36562, 3, 0), (24857, 1, 0), (35973, 3, 0), (33456, 1, 0), (35893, 1, 0), (24188, 1, 0), (36993, 1, 0), (41449, 1, 0), (23097, 1, 1), (22926, 2, 1), (31201, 1, 0), (25588, 1, 0), (28298, 1, 0), (36136, 1, 0), (24633, 1, 0), (43605, 1, 0), (39027, 2, 0), (12766, 1, 1), (34265, 1, 0), (797, 1, 1), (28358, 2, 0), (5425, 1, 1), (22640, 2, 1), (39173, 1, 0), (42726, 1, 0), (15907, 1, 1), (10545, 1, 1), (22626, 2, 1), (37356, 2, 0), (14299, 1, 1), (39320, 1, 0), (20566, 1, 1), (35262, 1, 0), (42034, 2, 0), (39590, 4, 0), (9400, 1, 1), (34729, 1, 0), (24750, 2, 0), (41244, 1, 0), (2083, 1, 1), (39126, 1, 0), (23306, 1, 1), (40677, 2, 0), (43977, 1, 0), (38204, 1, 0), (43593, 3, 0), (4511, 1, 1), (41259, 1, 0), (30469, 1, 0), (40227, 1, 0), (25751, 1, 0), (24511, 1, 0), (40803, 1, 0), (34628, 2, 0), (17331, 1, 1), (24343, 1, 0), (26009, 1, 0), (40497, 5, 0), (15625, 1, 1), (25289, 1, 0), (14288, 1, 1), (24381, 1, 0), (37402, 1, 0), (26709, 1, 0), (22773, 1, 1), (41421, 4, 0), (1294, 2, 1), (31339, 1, 0), (9551, 2, 1), (23127, 1, 1), (4368, 1, 1), (40725, 1, 0), (42494, 1, 0), (23230, 1, 1), (11272, 1, 1), (15927, 1, 1), (43672, 10, 0), (40543, 1, 0), (38162, 2, 0), (41701, 1, 0), (11762, 1, 1), (35647, 1, 0), (43015, 2, 0), (39562, 1, 0), (37033, 2, 0), (19048, 1, 1), (22534, 3, 1), (28119, 1, 0), (12619, 1, 1), (26832, 1, 0), (31835, 2, 0), (40585, 1, 0), (40523, 1, 0), (35351, 1, 0), (2573, 1, 1), (12290, 2, 1), (41305, 2, 0), (33648, 1, 0), (34543, 4, 0), (43617, 1, 0), (16794, 1, 1), (33236, 2, 0), (24575, 1, 0), (35188, 1, 0), (44566, 1, 0), (27147, 1, 0), (29750, 1, 0), (36831, 1, 0), (35606, 2, 0), (23872, 4, 0), (26323, 1, 0), (32007, 3, 0), (29324, 1, 0), (34184, 1, 0), (27913, 2, 0), (44668, 1, 0), (33477, 1, 0), (42795, 1, 0), (32946, 1, 0), (14700, 1, 1), (23156, 1, 1), (32471, 4, 0), (26959, 1, 0), (23629, 1, 0), (43071, 5, 0), (24466, 1, 0), (25716, 1, 0), (33152, 3, 0), (36997, 3, 0), (27115, 3, 0), (40155, 1, 0), (43655, 1, 0), (26645, 1, 0), (25880, 1, 0), (23245, 1, 1), (30841, 1, 0), (38939, 1, 0), (33202, 1, 0), (37477, 2, 0), (22171, 1, 1), (40011, 1, 0), (44410, 1, 0), (24768, 1, 0), (9489, 2, 1), (23747, 1, 0), (23190, 2, 1), (24555, 1, 0), (11269, 2, 1), (40216, 1, 0), (35048, 1, 0), (40447, 5, 0), (38122, 1, 0), (40456, 4, 0), (37094, 1, 0), (16480, 2, 1), (17810, 1, 1), (25203, 1, 0), (27589, 1, 0), (24622, 1, 0), (32019, 1, 0), (9389, 2, 1), (15892, 1, 1), (27918, 1, 0), (35885, 2, 0), (39407, 1, 0), (39739, 3, 0), (29550, 2, 0), (44337, 2, 0), (14410, 1, 1), (26788, 2, 0), (38971, 1, 0), (23705, 1, 0), (541, 1, 1), (38439, 2, 0), (37187, 6, 0), (32708, 1, 0), (32104, 1, 0), (28484, 1, 0), (23241, 1, 1), (40801, 1, 0), (40895, 3, 0), (43858, 1, 0), (22796, 4, 1), (41874, 1, 0), (25574, 1, 0), (13090, 1, 1), (19552, 2, 1), (34606, 1, 0), (26424, 1, 0), (14600, 3, 1), (28941, 1, 0), (15609, 1, 1), (30346, 1, 0), (22923, 1, 1), (22500, 2, 1), (42640, 2, 0), (42382, 2, 0), (42781, 1, 0), (25081, 1, 0), (32096, 1, 0), (41253, 1, 0), (36205, 2, 0), (20947, 1, 1), (35587, 1, 0), (29549, 1, 0), (43738, 1, 0), (24531, 1, 0), (1089, 2, 1), (22383, 1, 1), (29882, 1, 0), (38372, 1, 0), (41424, 2, 0), (25816, 1, 0), (28373, 3, 0), (8926, 1, 1), (17186, 1, 1), (25603, 3, 0), (39800, 1, 0), (22523, 1, 1), (44474, 5, 0), (22697, 1, 1), (27565, 1, 0), (41566, 1, 0), (31455, 1, 0), (40484, 3, 0), (24286, 1, 0), (43725, 1, 0), (12526, 1, 1), (40468, 1, 0), (36901, 10, 0), (43216, 5, 0), (22447, 1, 1), (42383, 3, 0), (43388, 1, 0), (24968, 1, 0), (6606, 2, 1), (44605, 1, 0), (42274, 1, 0), (40563, 1, 0), (36535, 2, 0), (36429, 1, 0), (39728, 1, 0), (25855, 1, 0), (30374, 1, 0), (32706, 1, 0), (44711, 1, 0), (43449, 4, 0), (21623, 1, 1), (2549, 1, 1), (15588, 1, 1), (33468, 1, 0), (4986, 1, 1), (39708, 2, 0), (27061, 1, 0), (42652, 1, 0), (28094, 3, 0), (6093, 1, 1), (39192, 1, 0), (43053, 1, 0), (31220, 1, 0), (39015, 1, 0), (24296, 4, 0), (40157, 1, 0), (24805, 2, 0), (30738, 1, 0), (42514, 2, 0), (32940, 1, 0), (20025, 1, 1), (36928, 2, 0), (41959, 4, 0), (26211, 1, 0), (32392, 1, 0), (22885, 1, 1), (8106, 4, 1), (35975, 2, 0), (42961, 1, 0), (37886, 2, 0), (17221, 1, 1), (5069, 2, 1), (36793, 1, 0), (23589, 1, 0), (21267, 1, 1), (13041, 1, 1), (44437, 1, 0), (24017, 1, 0), (44091, 3, 0), (44026, 2, 0), (18305, 4, 1), (24749, 1, 0), (36917, 2, 0), (10410, 1, 1), (32804, 2, 0), (28855, 1, 0), (2312, 1, 1), (39643, 1, 0), (44219, 3, 0), (35692, 1, 0), (12704, 2, 1), (25688, 1, 0), (34716, 2, 0), (6381, 1, 1), (39218, 2, 0), (3719, 1, 1), (21808, 1, 1), (9824, 2, 1), (41682, 2, 0), (24018, 1, 0), (28732, 2, 0), (36978, 1, 0), (24472, 3, 0), (42061, 2, 0), (25468, 2, 0), (19386, 1, 1), (4035, 1, 1), (21410, 1, 1), (24078, 2, 0), (31126, 3, 0), (42762, 2, 0), (31287, 1, 0), (39350, 1, 0), (35205, 1, 0), (24553, 1, 0), (24644, 2, 0), (34959, 2, 0), (24753, 1, 0), (34005, 1, 0), (38778, 1, 0), (26453, 1, 0), (39725, 1, 0), (29709, 2, 0), (33068, 1, 0), (34131, 1, 0), (42586, 1, 0), (27984, 1, 0), (36998, 3, 0), (24860, 1, 0), (34298, 1, 0), (23381, 1, 1), (42478, 1, 0), (40032, 2, 0), (35484, 1, 0), (4496, 1, 1), (24010, 1, 0), (14144, 1, 1), (42476, 2, 0), (26176, 1, 0), (42170, 1, 0), (24116, 1, 0), (37724, 1, 0), (40453, 1, 0), (21554, 1, 1), (32336, 2, 0), (26522, 1, 0), (20487, 1, 1), (36613, 1, 0), (23532, 1, 0), (41314, 1, 0), (15255, 1, 1), (24357, 2, 0), (40602, 1, 0), (16607, 1, 1), (15937, 2, 1), (43477, 1, 0), (35988, 3, 0), (34052, 1, 0), (31584, 1, 0), (22086, 1, 1), (43253, 1, 0), (38639, 1, 0), (29215, 2, 0), (25783, 1, 0), (15019, 1, 1), (38589, 2, 0), (25275, 1, 0), (27901, 2, 0), (18370, 1, 1), (33165, 1, 0), (16595, 1, 1), (15888, 1, 1), (44739, 1, 0), (35032, 1, 0), (6272, 1, 1), (28549, 2, 0), (7167, 1, 1), (26167, 1, 0), (37686, 1, 0), (44162, 2, 0), (22148, 1, 1), (17603, 1, 1), (23485, 1, 0), (25166, 1, 0), (36556, 1, 0), (39121, 6, 0), (14798, 2, 1), (41705, 2, 0), (42552, 3, 0), (25584, 1, 0), (42685, 3, 0), (32138, 1, 0), (39585, 1, 0), (17339, 2, 1), (34160, 1, 0), (31624, 1, 0), (31794, 1, 0), (5785, 1, 1), (33122, 1, 0), (37548, 3, 0), (33544, 1, 0), (24643, 1, 0), (41549, 1, 0), (31442, 1, 0), (20588, 1, 1), (43705, 1, 0), (28219, 1, 0), (34626, 1, 0), (38308, 2, 0), (36046, 5, 0), (38634, 1, 0), (41252, 1, 0), (23944, 4, 0), (40386, 2, 0), (25452, 3, 0), (11074, 1, 1), (24758, 1, 0), (31720, 1, 0), (26243, 2, 0), (35417, 1, 0), (35651, 3, 0), (25714, 1, 0), (37975, 1, 0), (21825, 2, 1), (5777, 2, 1), (23059, 2, 1), (39331, 2, 0), (33386, 1, 0), (25750, 1, 0), (36013, 1, 0), (24879, 1, 0), (31310, 1, 0), (6903, 1, 1), (34688, 1, 0), (35002, 1, 0), (32444, 1, 0), (17160, 1, 1), (44758, 1, 0), (26222, 1, 0), (44230, 1, 0), (25818, 1, 0), (24989, 2, 0), (41560, 3, 0), (26590, 2, 0), (44850, 1, 0), (29771, 1, 0), (37584, 1, 0), (29713, 1, 0), (39639, 1, 0), (33750, 1, 0), (40502, 1, 0), (39704, 3, 0), (39263, 5, 0), (37614, 2, 0), (8966, 1, 1), (24027, 1, 0), (30352, 1, 0), (40700, 2, 0), (33183, 1, 0), (22347, 1, 1), (35605, 2, 0), (25748, 1, 0), (29918, 2, 0), (41598, 1, 0), (31095, 4, 0), (26698, 1, 0), (32330, 1, 0), (34715, 2, 0), (40306, 1, 0), (36085, 1, 0), (29834, 1, 0), (23564, 2, 0), (22355, 1, 1), (27821, 1, 0), (40239, 3, 0), (44780, 1, 0), (32482, 1, 0), (8775, 1, 1), (43261, 1, 0), (22869, 1, 1), (23968, 1, 0), (43095, 1, 0), (36693, 1, 0), (35349, 1, 0), (41502, 1, 0), (35429, 3, 0), (13347, 2, 1), (35754, 1, 0), (35379, 1, 0), (40199, 2, 0), (22140, 1, 1), (24638, 1, 0), (33310, 2, 0), (39447, 1, 0), (8130, 1, 1), (7868, 1, 1)]\n"
     ]
    }
   ],
   "source": [
    "#0 real 1 fake\n",
    "d = len(vocabulary)\n",
    "n = len(word_index)\n",
    "\n",
    "phi_0 = np.ones(n) \n",
    "phi_1 = np.ones(n)\n",
    "\n",
    "d_0 = sum([len(i) for i in train_0.mapped_text])\n",
    "d_1 = sum([len(i) for i in train_1.mapped_text])\n",
    "\n",
    "for word,value in word_index.items():\n",
    "    print(word)\n",
    "    print(value)\n",
    "    break"
   ]
  }
 ],
 "metadata": {
  "kernelspec": {
   "display_name": "Python 3",
   "language": "python",
   "name": "python3"
  },
  "language_info": {
   "codemirror_mode": {
    "name": "ipython",
    "version": 3
   },
   "file_extension": ".py",
   "mimetype": "text/x-python",
   "name": "python",
   "nbconvert_exporter": "python",
   "pygments_lexer": "ipython3",
   "version": "3.8.3"
  }
 },
 "nbformat": 4,
 "nbformat_minor": 4
}
