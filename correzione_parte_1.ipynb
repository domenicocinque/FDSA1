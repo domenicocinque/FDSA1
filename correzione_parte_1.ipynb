{
 "cells": [
  {
   "cell_type": "code",
   "execution_count": 1,
   "metadata": {},
   "outputs": [],
   "source": [
    "import pandas as pd\n",
    "import re\n",
    "import numpy as np\n",
    "import nltk as nl\n",
    "from nltk.corpus import stopwords \n",
    "from nltk.stem import WordNetLemmatizer\n",
    "from nltk.tokenize import RegexpTokenizer\n",
    "from nltk.tag import pos_tag\n",
    "import pickle\n",
    "from collections import defaultdict\n",
    "from collections import Counter\n",
    "import math\n",
    "import tqdm\n",
    "import ast"
   ]
  },
  {
   "cell_type": "markdown",
   "metadata": {},
   "source": [
    "## Import Data"
   ]
  },
  {
   "cell_type": "code",
   "execution_count": 2,
   "metadata": {},
   "outputs": [],
   "source": [
    "fake = pd.read_csv('Fake.csv')\n",
    "true = pd.read_csv('True.csv')"
   ]
  },
  {
   "cell_type": "code",
   "execution_count": 3,
   "metadata": {},
   "outputs": [],
   "source": [
    "fake['label'] = 1\n",
    "true['label'] = 0"
   ]
  },
  {
   "cell_type": "code",
   "execution_count": 4,
   "metadata": {},
   "outputs": [
    {
     "data": {
      "text/html": [
       "<div>\n",
       "<style scoped>\n",
       "    .dataframe tbody tr th:only-of-type {\n",
       "        vertical-align: middle;\n",
       "    }\n",
       "\n",
       "    .dataframe tbody tr th {\n",
       "        vertical-align: top;\n",
       "    }\n",
       "\n",
       "    .dataframe thead th {\n",
       "        text-align: right;\n",
       "    }\n",
       "</style>\n",
       "<table border=\"1\" class=\"dataframe\">\n",
       "  <thead>\n",
       "    <tr style=\"text-align: right;\">\n",
       "      <th></th>\n",
       "      <th>title</th>\n",
       "      <th>text</th>\n",
       "      <th>subject</th>\n",
       "      <th>date</th>\n",
       "      <th>label</th>\n",
       "    </tr>\n",
       "  </thead>\n",
       "  <tbody>\n",
       "    <tr>\n",
       "      <th>0</th>\n",
       "      <td>Donald Trump Sends Out Embarrassing New Year’...</td>\n",
       "      <td>Donald Trump just couldn t wish all Americans ...</td>\n",
       "      <td>News</td>\n",
       "      <td>December 31, 2017</td>\n",
       "      <td>1</td>\n",
       "    </tr>\n",
       "    <tr>\n",
       "      <th>1</th>\n",
       "      <td>Drunk Bragging Trump Staffer Started Russian ...</td>\n",
       "      <td>House Intelligence Committee Chairman Devin Nu...</td>\n",
       "      <td>News</td>\n",
       "      <td>December 31, 2017</td>\n",
       "      <td>1</td>\n",
       "    </tr>\n",
       "    <tr>\n",
       "      <th>2</th>\n",
       "      <td>Sheriff David Clarke Becomes An Internet Joke...</td>\n",
       "      <td>On Friday, it was revealed that former Milwauk...</td>\n",
       "      <td>News</td>\n",
       "      <td>December 30, 2017</td>\n",
       "      <td>1</td>\n",
       "    </tr>\n",
       "    <tr>\n",
       "      <th>3</th>\n",
       "      <td>Trump Is So Obsessed He Even Has Obama’s Name...</td>\n",
       "      <td>On Christmas day, Donald Trump announced that ...</td>\n",
       "      <td>News</td>\n",
       "      <td>December 29, 2017</td>\n",
       "      <td>1</td>\n",
       "    </tr>\n",
       "    <tr>\n",
       "      <th>4</th>\n",
       "      <td>Pope Francis Just Called Out Donald Trump Dur...</td>\n",
       "      <td>Pope Francis used his annual Christmas Day mes...</td>\n",
       "      <td>News</td>\n",
       "      <td>December 25, 2017</td>\n",
       "      <td>1</td>\n",
       "    </tr>\n",
       "  </tbody>\n",
       "</table>\n",
       "</div>"
      ],
      "text/plain": [
       "                                               title  \\\n",
       "0   Donald Trump Sends Out Embarrassing New Year’...   \n",
       "1   Drunk Bragging Trump Staffer Started Russian ...   \n",
       "2   Sheriff David Clarke Becomes An Internet Joke...   \n",
       "3   Trump Is So Obsessed He Even Has Obama’s Name...   \n",
       "4   Pope Francis Just Called Out Donald Trump Dur...   \n",
       "\n",
       "                                                text subject  \\\n",
       "0  Donald Trump just couldn t wish all Americans ...    News   \n",
       "1  House Intelligence Committee Chairman Devin Nu...    News   \n",
       "2  On Friday, it was revealed that former Milwauk...    News   \n",
       "3  On Christmas day, Donald Trump announced that ...    News   \n",
       "4  Pope Francis used his annual Christmas Day mes...    News   \n",
       "\n",
       "                date  label  \n",
       "0  December 31, 2017      1  \n",
       "1  December 31, 2017      1  \n",
       "2  December 30, 2017      1  \n",
       "3  December 29, 2017      1  \n",
       "4  December 25, 2017      1  "
      ]
     },
     "execution_count": 4,
     "metadata": {},
     "output_type": "execute_result"
    }
   ],
   "source": [
    "fake.head()"
   ]
  },
  {
   "cell_type": "code",
   "execution_count": 5,
   "metadata": {},
   "outputs": [],
   "source": [
    "df = pd.concat([fake,true],ignore_index=True)"
   ]
  },
  {
   "cell_type": "code",
   "execution_count": 6,
   "metadata": {},
   "outputs": [
    {
     "data": {
      "text/html": [
       "<div>\n",
       "<style scoped>\n",
       "    .dataframe tbody tr th:only-of-type {\n",
       "        vertical-align: middle;\n",
       "    }\n",
       "\n",
       "    .dataframe tbody tr th {\n",
       "        vertical-align: top;\n",
       "    }\n",
       "\n",
       "    .dataframe thead th {\n",
       "        text-align: right;\n",
       "    }\n",
       "</style>\n",
       "<table border=\"1\" class=\"dataframe\">\n",
       "  <thead>\n",
       "    <tr style=\"text-align: right;\">\n",
       "      <th></th>\n",
       "      <th>title</th>\n",
       "      <th>text</th>\n",
       "      <th>subject</th>\n",
       "      <th>date</th>\n",
       "      <th>label</th>\n",
       "    </tr>\n",
       "  </thead>\n",
       "  <tbody>\n",
       "    <tr>\n",
       "      <th>0</th>\n",
       "      <td>Donald Trump Sends Out Embarrassing New Year’...</td>\n",
       "      <td>Donald Trump just couldn t wish all Americans ...</td>\n",
       "      <td>News</td>\n",
       "      <td>December 31, 2017</td>\n",
       "      <td>1</td>\n",
       "    </tr>\n",
       "    <tr>\n",
       "      <th>1</th>\n",
       "      <td>Drunk Bragging Trump Staffer Started Russian ...</td>\n",
       "      <td>House Intelligence Committee Chairman Devin Nu...</td>\n",
       "      <td>News</td>\n",
       "      <td>December 31, 2017</td>\n",
       "      <td>1</td>\n",
       "    </tr>\n",
       "    <tr>\n",
       "      <th>2</th>\n",
       "      <td>Sheriff David Clarke Becomes An Internet Joke...</td>\n",
       "      <td>On Friday, it was revealed that former Milwauk...</td>\n",
       "      <td>News</td>\n",
       "      <td>December 30, 2017</td>\n",
       "      <td>1</td>\n",
       "    </tr>\n",
       "    <tr>\n",
       "      <th>3</th>\n",
       "      <td>Trump Is So Obsessed He Even Has Obama’s Name...</td>\n",
       "      <td>On Christmas day, Donald Trump announced that ...</td>\n",
       "      <td>News</td>\n",
       "      <td>December 29, 2017</td>\n",
       "      <td>1</td>\n",
       "    </tr>\n",
       "    <tr>\n",
       "      <th>4</th>\n",
       "      <td>Pope Francis Just Called Out Donald Trump Dur...</td>\n",
       "      <td>Pope Francis used his annual Christmas Day mes...</td>\n",
       "      <td>News</td>\n",
       "      <td>December 25, 2017</td>\n",
       "      <td>1</td>\n",
       "    </tr>\n",
       "    <tr>\n",
       "      <th>...</th>\n",
       "      <td>...</td>\n",
       "      <td>...</td>\n",
       "      <td>...</td>\n",
       "      <td>...</td>\n",
       "      <td>...</td>\n",
       "    </tr>\n",
       "    <tr>\n",
       "      <th>44893</th>\n",
       "      <td>'Fully committed' NATO backs new U.S. approach...</td>\n",
       "      <td>BRUSSELS (Reuters) - NATO allies on Tuesday we...</td>\n",
       "      <td>worldnews</td>\n",
       "      <td>August 22, 2017</td>\n",
       "      <td>0</td>\n",
       "    </tr>\n",
       "    <tr>\n",
       "      <th>44894</th>\n",
       "      <td>LexisNexis withdrew two products from Chinese ...</td>\n",
       "      <td>LONDON (Reuters) - LexisNexis, a provider of l...</td>\n",
       "      <td>worldnews</td>\n",
       "      <td>August 22, 2017</td>\n",
       "      <td>0</td>\n",
       "    </tr>\n",
       "    <tr>\n",
       "      <th>44895</th>\n",
       "      <td>Minsk cultural hub becomes haven from authorities</td>\n",
       "      <td>MINSK (Reuters) - In the shadow of disused Sov...</td>\n",
       "      <td>worldnews</td>\n",
       "      <td>August 22, 2017</td>\n",
       "      <td>0</td>\n",
       "    </tr>\n",
       "    <tr>\n",
       "      <th>44896</th>\n",
       "      <td>Vatican upbeat on possibility of Pope Francis ...</td>\n",
       "      <td>MOSCOW (Reuters) - Vatican Secretary of State ...</td>\n",
       "      <td>worldnews</td>\n",
       "      <td>August 22, 2017</td>\n",
       "      <td>0</td>\n",
       "    </tr>\n",
       "    <tr>\n",
       "      <th>44897</th>\n",
       "      <td>Indonesia to buy $1.14 billion worth of Russia...</td>\n",
       "      <td>JAKARTA (Reuters) - Indonesia will buy 11 Sukh...</td>\n",
       "      <td>worldnews</td>\n",
       "      <td>August 22, 2017</td>\n",
       "      <td>0</td>\n",
       "    </tr>\n",
       "  </tbody>\n",
       "</table>\n",
       "<p>44898 rows × 5 columns</p>\n",
       "</div>"
      ],
      "text/plain": [
       "                                                   title  \\\n",
       "0       Donald Trump Sends Out Embarrassing New Year’...   \n",
       "1       Drunk Bragging Trump Staffer Started Russian ...   \n",
       "2       Sheriff David Clarke Becomes An Internet Joke...   \n",
       "3       Trump Is So Obsessed He Even Has Obama’s Name...   \n",
       "4       Pope Francis Just Called Out Donald Trump Dur...   \n",
       "...                                                  ...   \n",
       "44893  'Fully committed' NATO backs new U.S. approach...   \n",
       "44894  LexisNexis withdrew two products from Chinese ...   \n",
       "44895  Minsk cultural hub becomes haven from authorities   \n",
       "44896  Vatican upbeat on possibility of Pope Francis ...   \n",
       "44897  Indonesia to buy $1.14 billion worth of Russia...   \n",
       "\n",
       "                                                    text    subject  \\\n",
       "0      Donald Trump just couldn t wish all Americans ...       News   \n",
       "1      House Intelligence Committee Chairman Devin Nu...       News   \n",
       "2      On Friday, it was revealed that former Milwauk...       News   \n",
       "3      On Christmas day, Donald Trump announced that ...       News   \n",
       "4      Pope Francis used his annual Christmas Day mes...       News   \n",
       "...                                                  ...        ...   \n",
       "44893  BRUSSELS (Reuters) - NATO allies on Tuesday we...  worldnews   \n",
       "44894  LONDON (Reuters) - LexisNexis, a provider of l...  worldnews   \n",
       "44895  MINSK (Reuters) - In the shadow of disused Sov...  worldnews   \n",
       "44896  MOSCOW (Reuters) - Vatican Secretary of State ...  worldnews   \n",
       "44897  JAKARTA (Reuters) - Indonesia will buy 11 Sukh...  worldnews   \n",
       "\n",
       "                    date  label  \n",
       "0      December 31, 2017      1  \n",
       "1      December 31, 2017      1  \n",
       "2      December 30, 2017      1  \n",
       "3      December 29, 2017      1  \n",
       "4      December 25, 2017      1  \n",
       "...                  ...    ...  \n",
       "44893   August 22, 2017       0  \n",
       "44894   August 22, 2017       0  \n",
       "44895   August 22, 2017       0  \n",
       "44896   August 22, 2017       0  \n",
       "44897   August 22, 2017       0  \n",
       "\n",
       "[44898 rows x 5 columns]"
      ]
     },
     "execution_count": 6,
     "metadata": {},
     "output_type": "execute_result"
    }
   ],
   "source": [
    "df"
   ]
  },
  {
   "cell_type": "code",
   "execution_count": 7,
   "metadata": {},
   "outputs": [
    {
     "data": {
      "text/plain": [
       "(44898, 5)"
      ]
     },
     "execution_count": 7,
     "metadata": {},
     "output_type": "execute_result"
    }
   ],
   "source": [
    "df.shape"
   ]
  },
  {
   "cell_type": "markdown",
   "metadata": {},
   "source": [
    "## First Analysis"
   ]
  },
  {
   "cell_type": "code",
   "execution_count": 8,
   "metadata": {},
   "outputs": [
    {
     "data": {
      "text/plain": [
       "array(['News', 'politics', 'Government News', 'left-news', 'US_News',\n",
       "       'Middle-east'], dtype=object)"
      ]
     },
     "execution_count": 8,
     "metadata": {},
     "output_type": "execute_result"
    }
   ],
   "source": [
    "fake.subject.unique()"
   ]
  },
  {
   "cell_type": "code",
   "execution_count": 9,
   "metadata": {},
   "outputs": [
    {
     "data": {
      "text/plain": [
       "array(['politicsNews', 'worldnews'], dtype=object)"
      ]
     },
     "execution_count": 9,
     "metadata": {},
     "output_type": "execute_result"
    }
   ],
   "source": [
    "true.subject.unique()"
   ]
  },
  {
   "cell_type": "code",
   "execution_count": 10,
   "metadata": {},
   "outputs": [],
   "source": [
    "df.drop('subject', axis = 'columns',inplace=True) \n",
    "df.drop('date', axis = 'columns',inplace=True) "
   ]
  },
  {
   "cell_type": "code",
   "execution_count": 11,
   "metadata": {},
   "outputs": [],
   "source": [
    "# Modificare? Troppo simile indiano\n",
    "df['text'] = df['title'] + ' ' + df['text'] "
   ]
  },
  {
   "cell_type": "code",
   "execution_count": 12,
   "metadata": {},
   "outputs": [],
   "source": [
    "df.drop('title', axis = 'columns',inplace=True) "
   ]
  },
  {
   "cell_type": "code",
   "execution_count": 13,
   "metadata": {},
   "outputs": [
    {
     "data": {
      "text/html": [
       "<div>\n",
       "<style scoped>\n",
       "    .dataframe tbody tr th:only-of-type {\n",
       "        vertical-align: middle;\n",
       "    }\n",
       "\n",
       "    .dataframe tbody tr th {\n",
       "        vertical-align: top;\n",
       "    }\n",
       "\n",
       "    .dataframe thead th {\n",
       "        text-align: right;\n",
       "    }\n",
       "</style>\n",
       "<table border=\"1\" class=\"dataframe\">\n",
       "  <thead>\n",
       "    <tr style=\"text-align: right;\">\n",
       "      <th></th>\n",
       "      <th>text</th>\n",
       "      <th>label</th>\n",
       "    </tr>\n",
       "  </thead>\n",
       "  <tbody>\n",
       "    <tr>\n",
       "      <th>0</th>\n",
       "      <td>Donald Trump Sends Out Embarrassing New Year’...</td>\n",
       "      <td>1</td>\n",
       "    </tr>\n",
       "    <tr>\n",
       "      <th>1</th>\n",
       "      <td>Drunk Bragging Trump Staffer Started Russian ...</td>\n",
       "      <td>1</td>\n",
       "    </tr>\n",
       "    <tr>\n",
       "      <th>2</th>\n",
       "      <td>Sheriff David Clarke Becomes An Internet Joke...</td>\n",
       "      <td>1</td>\n",
       "    </tr>\n",
       "    <tr>\n",
       "      <th>3</th>\n",
       "      <td>Trump Is So Obsessed He Even Has Obama’s Name...</td>\n",
       "      <td>1</td>\n",
       "    </tr>\n",
       "    <tr>\n",
       "      <th>4</th>\n",
       "      <td>Pope Francis Just Called Out Donald Trump Dur...</td>\n",
       "      <td>1</td>\n",
       "    </tr>\n",
       "  </tbody>\n",
       "</table>\n",
       "</div>"
      ],
      "text/plain": [
       "                                                text  label\n",
       "0   Donald Trump Sends Out Embarrassing New Year’...      1\n",
       "1   Drunk Bragging Trump Staffer Started Russian ...      1\n",
       "2   Sheriff David Clarke Becomes An Internet Joke...      1\n",
       "3   Trump Is So Obsessed He Even Has Obama’s Name...      1\n",
       "4   Pope Francis Just Called Out Donald Trump Dur...      1"
      ]
     },
     "execution_count": 13,
     "metadata": {},
     "output_type": "execute_result"
    }
   ],
   "source": [
    "df.head()"
   ]
  },
  {
   "cell_type": "markdown",
   "metadata": {},
   "source": [
    "# Preprocessing"
   ]
  },
  {
   "cell_type": "code",
   "execution_count": 14,
   "metadata": {},
   "outputs": [],
   "source": [
    "#saving dict function\n",
    "def save_dict(obj, name ):\n",
    "    with open(name + '.pkl', 'wb') as f:\n",
    "        pickle.dump(obj, f, pickle.HIGHEST_PROTOCOL)\n",
    "\n",
    "#load dict function\n",
    "def load_obj(name ):\n",
    "    with open(name + '.pkl', 'rb') as f:\n",
    "        return pickle.load(f)"
   ]
  },
  {
   "cell_type": "code",
   "execution_count": 15,
   "metadata": {},
   "outputs": [],
   "source": [
    "def preprocess2(data):\n",
    "    '''\n",
    "    tagged = pos_tag(data.split())\n",
    "    names = [t[0] for t in tagged if t[1] == 'NNP']\n",
    "    print(names)\n",
    "    '''\n",
    "    x = re.sub('[^a-zA-Z]', ' ',data) \n",
    "    \n",
    "    #lowering words\n",
    "    lower=str.lower(x).split() \n",
    "    words=set(stopwords.words('english'))\n",
    "    \n",
    "    #removing stopwords\n",
    "    no_stopwords=[w for w in lower if not w in words]  \n",
    "    lmtzr = WordNetLemmatizer()\n",
    "    \n",
    "    #stemming\n",
    "    cleaned=[lmtzr.lemmatize(w,pos=\"v\") for w in no_stopwords]\n",
    "    cleaned=[lmtzr.lemmatize(w,pos=\"n\") for w in cleaned]\n",
    "    \n",
    "    return (\" \".join( cleaned ))"
   ]
  },
  {
   "cell_type": "code",
   "execution_count": 67,
   "metadata": {},
   "outputs": [],
   "source": [
    "#to run only the first time\n",
    "df['text'] = df.text.apply(lambda x: preprocess2(x))"
   ]
  },
  {
   "cell_type": "code",
   "execution_count": 22,
   "metadata": {},
   "outputs": [],
   "source": [
    "df = pd.read_csv('preprocessed.csv')  #to read \n",
    "df.drop({'Unnamed: 0'},axis=1,inplace=True)"
   ]
  },
  {
   "cell_type": "code",
   "execution_count": 23,
   "metadata": {
    "scrolled": true
   },
   "outputs": [
    {
     "data": {
      "text/html": [
       "<div>\n",
       "<style scoped>\n",
       "    .dataframe tbody tr th:only-of-type {\n",
       "        vertical-align: middle;\n",
       "    }\n",
       "\n",
       "    .dataframe tbody tr th {\n",
       "        vertical-align: top;\n",
       "    }\n",
       "\n",
       "    .dataframe thead th {\n",
       "        text-align: right;\n",
       "    }\n",
       "</style>\n",
       "<table border=\"1\" class=\"dataframe\">\n",
       "  <thead>\n",
       "    <tr style=\"text-align: right;\">\n",
       "      <th></th>\n",
       "      <th>text</th>\n",
       "      <th>label</th>\n",
       "    </tr>\n",
       "  </thead>\n",
       "  <tbody>\n",
       "    <tr>\n",
       "      <th>0</th>\n",
       "      <td>donald trump send embarrass new year eve messa...</td>\n",
       "      <td>1</td>\n",
       "    </tr>\n",
       "    <tr>\n",
       "      <th>1</th>\n",
       "      <td>drink brag trump staffer start russian collusi...</td>\n",
       "      <td>1</td>\n",
       "    </tr>\n",
       "    <tr>\n",
       "      <th>2</th>\n",
       "      <td>sheriff david clarke become internet joke thre...</td>\n",
       "      <td>1</td>\n",
       "    </tr>\n",
       "    <tr>\n",
       "      <th>3</th>\n",
       "      <td>trump ob even obama name cod website image chr...</td>\n",
       "      <td>1</td>\n",
       "    </tr>\n",
       "    <tr>\n",
       "      <th>4</th>\n",
       "      <td>pope francis call donald trump christmas speec...</td>\n",
       "      <td>1</td>\n",
       "    </tr>\n",
       "  </tbody>\n",
       "</table>\n",
       "</div>"
      ],
      "text/plain": [
       "                                                text  label\n",
       "0  donald trump send embarrass new year eve messa...      1\n",
       "1  drink brag trump staffer start russian collusi...      1\n",
       "2  sheriff david clarke become internet joke thre...      1\n",
       "3  trump ob even obama name cod website image chr...      1\n",
       "4  pope francis call donald trump christmas speec...      1"
      ]
     },
     "execution_count": 23,
     "metadata": {},
     "output_type": "execute_result"
    }
   ],
   "source": [
    "df.head()"
   ]
  },
  {
   "cell_type": "code",
   "execution_count": 24,
   "metadata": {
    "scrolled": true
   },
   "outputs": [
    {
     "name": "stdout",
     "output_type": "stream",
     "text": [
      "<class 'pandas.core.frame.DataFrame'>\n",
      "RangeIndex: 44898 entries, 0 to 44897\n",
      "Data columns (total 2 columns):\n",
      " #   Column  Non-Null Count  Dtype \n",
      "---  ------  --------------  ----- \n",
      " 0   text    44898 non-null  object\n",
      " 1   label   44898 non-null  int64 \n",
      "dtypes: int64(1), object(1)\n",
      "memory usage: 701.7+ KB\n"
     ]
    }
   ],
   "source": [
    "df.info()"
   ]
  },
  {
   "cell_type": "markdown",
   "metadata": {},
   "source": [
    "# Parameters"
   ]
  },
  {
   "cell_type": "markdown",
   "metadata": {},
   "source": [
    "### Don't Run every time"
   ]
  },
  {
   "cell_type": "code",
   "execution_count": 25,
   "metadata": {},
   "outputs": [
    {
     "data": {
      "text/plain": [
       "(35918, 2)"
      ]
     },
     "execution_count": 25,
     "metadata": {},
     "output_type": "execute_result"
    }
   ],
   "source": [
    "train = df.sample(n = math.floor(0.8*len(df)))\n",
    "train.shape"
   ]
  },
  {
   "cell_type": "code",
   "execution_count": 26,
   "metadata": {},
   "outputs": [],
   "source": [
    "test = df.drop(train.index)"
   ]
  },
  {
   "cell_type": "code",
   "execution_count": 27,
   "metadata": {},
   "outputs": [
    {
     "data": {
      "text/plain": [
       "(8980, 2)"
      ]
     },
     "execution_count": 27,
     "metadata": {},
     "output_type": "execute_result"
    }
   ],
   "source": [
    "test.shape"
   ]
  },
  {
   "cell_type": "code",
   "execution_count": 28,
   "metadata": {},
   "outputs": [],
   "source": [
    "train.to_csv('train.csv')\n",
    "test.to_csv('test.csv')"
   ]
  },
  {
   "cell_type": "code",
   "execution_count": 29,
   "metadata": {},
   "outputs": [
    {
     "data": {
      "text/html": [
       "<div>\n",
       "<style scoped>\n",
       "    .dataframe tbody tr th:only-of-type {\n",
       "        vertical-align: middle;\n",
       "    }\n",
       "\n",
       "    .dataframe tbody tr th {\n",
       "        vertical-align: top;\n",
       "    }\n",
       "\n",
       "    .dataframe thead th {\n",
       "        text-align: right;\n",
       "    }\n",
       "</style>\n",
       "<table border=\"1\" class=\"dataframe\">\n",
       "  <thead>\n",
       "    <tr style=\"text-align: right;\">\n",
       "      <th></th>\n",
       "      <th>text</th>\n",
       "      <th>label</th>\n",
       "    </tr>\n",
       "  </thead>\n",
       "  <tbody>\n",
       "    <tr>\n",
       "      <th>30346</th>\n",
       "      <td>nobel laureate say trump policy may lead budge...</td>\n",
       "      <td>0</td>\n",
       "    </tr>\n",
       "    <tr>\n",
       "      <th>33007</th>\n",
       "      <td>bet trump win north korea h bomb prediction si...</td>\n",
       "      <td>0</td>\n",
       "    </tr>\n",
       "    <tr>\n",
       "      <th>16912</th>\n",
       "      <td>obama communist environmental arm tell kid red...</td>\n",
       "      <td>1</td>\n",
       "    </tr>\n",
       "    <tr>\n",
       "      <th>24392</th>\n",
       "      <td>house tax panel chair corporate tax cut may ta...</td>\n",
       "      <td>0</td>\n",
       "    </tr>\n",
       "    <tr>\n",
       "      <th>21239</th>\n",
       "      <td>british tv personality blame trump muslim ban ...</td>\n",
       "      <td>1</td>\n",
       "    </tr>\n",
       "  </tbody>\n",
       "</table>\n",
       "</div>"
      ],
      "text/plain": [
       "                                                    text  label\n",
       "30346  nobel laureate say trump policy may lead budge...      0\n",
       "33007  bet trump win north korea h bomb prediction si...      0\n",
       "16912  obama communist environmental arm tell kid red...      1\n",
       "24392  house tax panel chair corporate tax cut may ta...      0\n",
       "21239  british tv personality blame trump muslim ban ...      1"
      ]
     },
     "execution_count": 29,
     "metadata": {},
     "output_type": "execute_result"
    }
   ],
   "source": [
    "train.head()"
   ]
  },
  {
   "cell_type": "code",
   "execution_count": 30,
   "metadata": {
    "scrolled": false
   },
   "outputs": [],
   "source": [
    "train.reset_index(inplace=True)"
   ]
  },
  {
   "cell_type": "code",
   "execution_count": 31,
   "metadata": {},
   "outputs": [],
   "source": [
    "train = train.rename(columns = {'index':'id'})"
   ]
  },
  {
   "cell_type": "code",
   "execution_count": 32,
   "metadata": {},
   "outputs": [
    {
     "data": {
      "text/html": [
       "<div>\n",
       "<style scoped>\n",
       "    .dataframe tbody tr th:only-of-type {\n",
       "        vertical-align: middle;\n",
       "    }\n",
       "\n",
       "    .dataframe tbody tr th {\n",
       "        vertical-align: top;\n",
       "    }\n",
       "\n",
       "    .dataframe thead th {\n",
       "        text-align: right;\n",
       "    }\n",
       "</style>\n",
       "<table border=\"1\" class=\"dataframe\">\n",
       "  <thead>\n",
       "    <tr style=\"text-align: right;\">\n",
       "      <th></th>\n",
       "      <th>id</th>\n",
       "      <th>text</th>\n",
       "      <th>label</th>\n",
       "    </tr>\n",
       "  </thead>\n",
       "  <tbody>\n",
       "    <tr>\n",
       "      <th>0</th>\n",
       "      <td>30346</td>\n",
       "      <td>nobel laureate say trump policy may lead budge...</td>\n",
       "      <td>0</td>\n",
       "    </tr>\n",
       "    <tr>\n",
       "      <th>1</th>\n",
       "      <td>33007</td>\n",
       "      <td>bet trump win north korea h bomb prediction si...</td>\n",
       "      <td>0</td>\n",
       "    </tr>\n",
       "    <tr>\n",
       "      <th>2</th>\n",
       "      <td>16912</td>\n",
       "      <td>obama communist environmental arm tell kid red...</td>\n",
       "      <td>1</td>\n",
       "    </tr>\n",
       "    <tr>\n",
       "      <th>3</th>\n",
       "      <td>24392</td>\n",
       "      <td>house tax panel chair corporate tax cut may ta...</td>\n",
       "      <td>0</td>\n",
       "    </tr>\n",
       "    <tr>\n",
       "      <th>4</th>\n",
       "      <td>21239</td>\n",
       "      <td>british tv personality blame trump muslim ban ...</td>\n",
       "      <td>1</td>\n",
       "    </tr>\n",
       "    <tr>\n",
       "      <th>...</th>\n",
       "      <td>...</td>\n",
       "      <td>...</td>\n",
       "      <td>...</td>\n",
       "    </tr>\n",
       "    <tr>\n",
       "      <th>35913</th>\n",
       "      <td>20566</td>\n",
       "      <td>sin socialism doctor pump air infant lung hand...</td>\n",
       "      <td>1</td>\n",
       "    </tr>\n",
       "    <tr>\n",
       "      <th>35914</th>\n",
       "      <td>13261</td>\n",
       "      <td>journalist sheryl attkisson famous dc bureau c...</td>\n",
       "      <td>1</td>\n",
       "    </tr>\n",
       "    <tr>\n",
       "      <th>35915</th>\n",
       "      <td>21193</td>\n",
       "      <td>syrian muslim man whose family perish trip cou...</td>\n",
       "      <td>1</td>\n",
       "    </tr>\n",
       "    <tr>\n",
       "      <th>35916</th>\n",
       "      <td>8860</td>\n",
       "      <td>fox news help domestic terrorist first year pr...</td>\n",
       "      <td>1</td>\n",
       "    </tr>\n",
       "    <tr>\n",
       "      <th>35917</th>\n",
       "      <td>13447</td>\n",
       "      <td>hey hillary really behind attempt party divers...</td>\n",
       "      <td>1</td>\n",
       "    </tr>\n",
       "  </tbody>\n",
       "</table>\n",
       "<p>35918 rows × 3 columns</p>\n",
       "</div>"
      ],
      "text/plain": [
       "          id                                               text  label\n",
       "0      30346  nobel laureate say trump policy may lead budge...      0\n",
       "1      33007  bet trump win north korea h bomb prediction si...      0\n",
       "2      16912  obama communist environmental arm tell kid red...      1\n",
       "3      24392  house tax panel chair corporate tax cut may ta...      0\n",
       "4      21239  british tv personality blame trump muslim ban ...      1\n",
       "...      ...                                                ...    ...\n",
       "35913  20566  sin socialism doctor pump air infant lung hand...      1\n",
       "35914  13261  journalist sheryl attkisson famous dc bureau c...      1\n",
       "35915  21193  syrian muslim man whose family perish trip cou...      1\n",
       "35916   8860  fox news help domestic terrorist first year pr...      1\n",
       "35917  13447  hey hillary really behind attempt party divers...      1\n",
       "\n",
       "[35918 rows x 3 columns]"
      ]
     },
     "execution_count": 32,
     "metadata": {},
     "output_type": "execute_result"
    }
   ],
   "source": [
    "train"
   ]
  },
  {
   "cell_type": "markdown",
   "metadata": {},
   "source": [
    "### Start from here"
   ]
  },
  {
   "cell_type": "code",
   "execution_count": 26,
   "metadata": {},
   "outputs": [],
   "source": [
    "train = pd.read_csv('train.csv')\n",
    "test = pd.read_csv('test.csv')\n",
    "train.drop({'Unnamed: 0.1','Unnamed: 0.1.1'},axis=1,inplace=True)\n",
    "test.drop({'Unnamed: 0.1','Unnamed: 0.1.1'},axis=1,inplace=True)"
   ]
  },
  {
   "cell_type": "code",
   "execution_count": 27,
   "metadata": {},
   "outputs": [],
   "source": [
    "#to maintain the list format\n",
    "train['mapped_text'] = train['mapped_text'].map(ast.literal_eval)\n",
    "#to maintain the list format\n",
    "test['mapped_text'] = test['mapped_text'].map(ast.literal_eval)"
   ]
  },
  {
   "cell_type": "code",
   "execution_count": 28,
   "metadata": {
    "scrolled": true
   },
   "outputs": [
    {
     "name": "stdout",
     "output_type": "stream",
     "text": [
      "<class 'list'>\n",
      "<class 'list'>\n"
     ]
    }
   ],
   "source": [
    "print(type(train['mapped_text'][0]))\n",
    "print(type(test['mapped_text'][0]))"
   ]
  },
  {
   "cell_type": "code",
   "execution_count": 42,
   "metadata": {
    "scrolled": true
   },
   "outputs": [
    {
     "data": {
      "text/html": [
       "<div>\n",
       "<style scoped>\n",
       "    .dataframe tbody tr th:only-of-type {\n",
       "        vertical-align: middle;\n",
       "    }\n",
       "\n",
       "    .dataframe tbody tr th {\n",
       "        vertical-align: top;\n",
       "    }\n",
       "\n",
       "    .dataframe thead th {\n",
       "        text-align: right;\n",
       "    }\n",
       "</style>\n",
       "<table border=\"1\" class=\"dataframe\">\n",
       "  <thead>\n",
       "    <tr style=\"text-align: right;\">\n",
       "      <th></th>\n",
       "      <th>Unnamed: 0</th>\n",
       "      <th>text</th>\n",
       "      <th>label</th>\n",
       "      <th>mapped_text</th>\n",
       "    </tr>\n",
       "  </thead>\n",
       "  <tbody>\n",
       "    <tr>\n",
       "      <th>0</th>\n",
       "      <td>7882</td>\n",
       "      <td>mitt romney go donald trump exactly like mitt ...</td>\n",
       "      <td>1</td>\n",
       "      <td>[12437, 50296, 19730, 70224, 48026, 38803, 547...</td>\n",
       "    </tr>\n",
       "    <tr>\n",
       "      <th>1</th>\n",
       "      <td>20642</td>\n",
       "      <td>yikes year hillary lie drive well know democra...</td>\n",
       "      <td>1</td>\n",
       "      <td>[40611, 7759, 45026, 52731, 3062, 16735, 94715...</td>\n",
       "    </tr>\n",
       "    <tr>\n",
       "      <th>2</th>\n",
       "      <td>2311</td>\n",
       "      <td>internet hero make trump putin facebook friend...</td>\n",
       "      <td>1</td>\n",
       "      <td>[66433, 57110, 43504, 48026, 46185, 48247, 189...</td>\n",
       "    </tr>\n",
       "    <tr>\n",
       "      <th>3</th>\n",
       "      <td>36117</td>\n",
       "      <td>palestinian snub penny visit jerusalem move ca...</td>\n",
       "      <td>0</td>\n",
       "      <td>[83741, 63169, 33551, 24177, 53492, 63335, 378...</td>\n",
       "    </tr>\n",
       "    <tr>\n",
       "      <th>4</th>\n",
       "      <td>2923</td>\n",
       "      <td>donald trump even steal cake design obama inau...</td>\n",
       "      <td>1</td>\n",
       "      <td>[70224, 48026, 94341, 81545, 80357, 90402, 643...</td>\n",
       "    </tr>\n",
       "    <tr>\n",
       "      <th>...</th>\n",
       "      <td>...</td>\n",
       "      <td>...</td>\n",
       "      <td>...</td>\n",
       "      <td>...</td>\n",
       "    </tr>\n",
       "    <tr>\n",
       "      <th>35913</th>\n",
       "      <td>12675</td>\n",
       "      <td>democrat operative catch plan bully woman trum...</td>\n",
       "      <td>1</td>\n",
       "      <td>[51156, 52832, 71488, 41152, 58880, 86096, 480...</td>\n",
       "    </tr>\n",
       "    <tr>\n",
       "      <th>35914</th>\n",
       "      <td>21882</td>\n",
       "      <td>detroit squat squatter take turn want miss</td>\n",
       "      <td>1</td>\n",
       "      <td>[27965, 18503, 4421, 53845, 9346, 70384, 77819]</td>\n",
       "    </tr>\n",
       "    <tr>\n",
       "      <th>35915</th>\n",
       "      <td>20869</td>\n",
       "      <td>oops donald trump name miss ballot florida oh ...</td>\n",
       "      <td>1</td>\n",
       "      <td>[46007, 70224, 48026, 72398, 77819, 79811, 802...</td>\n",
       "    </tr>\n",
       "    <tr>\n",
       "      <th>35916</th>\n",
       "      <td>8302</td>\n",
       "      <td>jeb bush bring mom rally crack awkward joke ab...</td>\n",
       "      <td>1</td>\n",
       "      <td>[5051, 69505, 46784, 55703, 39905, 33789, 7671...</td>\n",
       "    </tr>\n",
       "    <tr>\n",
       "      <th>35917</th>\n",
       "      <td>3107</td>\n",
       "      <td>shock new data prove effective gun control law...</td>\n",
       "      <td>1</td>\n",
       "      <td>[72277, 7203, 35938, 40435, 67348, 40983, 8166...</td>\n",
       "    </tr>\n",
       "  </tbody>\n",
       "</table>\n",
       "<p>35918 rows × 4 columns</p>\n",
       "</div>"
      ],
      "text/plain": [
       "       Unnamed: 0                                               text  label  \\\n",
       "0            7882  mitt romney go donald trump exactly like mitt ...      1   \n",
       "1           20642  yikes year hillary lie drive well know democra...      1   \n",
       "2            2311  internet hero make trump putin facebook friend...      1   \n",
       "3           36117  palestinian snub penny visit jerusalem move ca...      0   \n",
       "4            2923  donald trump even steal cake design obama inau...      1   \n",
       "...           ...                                                ...    ...   \n",
       "35913       12675  democrat operative catch plan bully woman trum...      1   \n",
       "35914       21882         detroit squat squatter take turn want miss      1   \n",
       "35915       20869  oops donald trump name miss ballot florida oh ...      1   \n",
       "35916        8302  jeb bush bring mom rally crack awkward joke ab...      1   \n",
       "35917        3107  shock new data prove effective gun control law...      1   \n",
       "\n",
       "                                             mapped_text  \n",
       "0      [12437, 50296, 19730, 70224, 48026, 38803, 547...  \n",
       "1      [40611, 7759, 45026, 52731, 3062, 16735, 94715...  \n",
       "2      [66433, 57110, 43504, 48026, 46185, 48247, 189...  \n",
       "3      [83741, 63169, 33551, 24177, 53492, 63335, 378...  \n",
       "4      [70224, 48026, 94341, 81545, 80357, 90402, 643...  \n",
       "...                                                  ...  \n",
       "35913  [51156, 52832, 71488, 41152, 58880, 86096, 480...  \n",
       "35914    [27965, 18503, 4421, 53845, 9346, 70384, 77819]  \n",
       "35915  [46007, 70224, 48026, 72398, 77819, 79811, 802...  \n",
       "35916  [5051, 69505, 46784, 55703, 39905, 33789, 7671...  \n",
       "35917  [72277, 7203, 35938, 40435, 67348, 40983, 8166...  \n",
       "\n",
       "[35918 rows x 4 columns]"
      ]
     },
     "execution_count": 42,
     "metadata": {},
     "output_type": "execute_result"
    }
   ],
   "source": [
    "train"
   ]
  },
  {
   "cell_type": "code",
   "execution_count": 33,
   "metadata": {},
   "outputs": [],
   "source": [
    "def create_vocabulary(df):\n",
    "\n",
    "    #the Dict we wanna build\n",
    "    vocabulary = defaultdict()\n",
    "\n",
    "    #set in which i collect all the terms\n",
    "    term_set = set()\n",
    "    text = list(df['text'])\n",
    "    for elem in text:\n",
    "        try:\n",
    "            term_set =term_set.union(set(elem.split()))\n",
    "        except:\n",
    "            pass\n",
    "\n",
    "    #convert the set in list to enumerate\n",
    "    term_list = list(term_set)\n",
    "\n",
    "    for i, elem in enumerate(term_list):\n",
    "        vocabulary[elem]= i \n",
    "\n",
    "    save_dict(vocabulary,'vocabulary')"
   ]
  },
  {
   "cell_type": "code",
   "execution_count": 34,
   "metadata": {},
   "outputs": [],
   "source": [
    "create_vocabulary(train)   #to create"
   ]
  },
  {
   "cell_type": "code",
   "execution_count": 36,
   "metadata": {},
   "outputs": [],
   "source": [
    "vocabulary = load_obj('vocabulary')  #to read"
   ]
  },
  {
   "cell_type": "code",
   "execution_count": 37,
   "metadata": {
    "scrolled": true
   },
   "outputs": [
    {
     "data": {
      "text/plain": [
       "89039"
      ]
     },
     "execution_count": 37,
     "metadata": {},
     "output_type": "execute_result"
    }
   ],
   "source": [
    "len(vocabulary)"
   ]
  },
  {
   "cell_type": "markdown",
   "metadata": {},
   "source": [
    "#### USED ONLY THE FIRST TIME TO CREATE IT"
   ]
  },
  {
   "cell_type": "code",
   "execution_count": 38,
   "metadata": {},
   "outputs": [],
   "source": [
    "def mapping(text):\n",
    "    text = text.split()\n",
    "    out = [vocabulary[word] for word in text]\n",
    "    return out"
   ]
  },
  {
   "cell_type": "code",
   "execution_count": 40,
   "metadata": {},
   "outputs": [],
   "source": [
    "train['mapped_text'] = train.text.apply(lambda x: mapping(x))"
   ]
  },
  {
   "cell_type": "code",
   "execution_count": 42,
   "metadata": {
    "scrolled": true
   },
   "outputs": [
    {
     "data": {
      "text/html": [
       "<div>\n",
       "<style scoped>\n",
       "    .dataframe tbody tr th:only-of-type {\n",
       "        vertical-align: middle;\n",
       "    }\n",
       "\n",
       "    .dataframe tbody tr th {\n",
       "        vertical-align: top;\n",
       "    }\n",
       "\n",
       "    .dataframe thead th {\n",
       "        text-align: right;\n",
       "    }\n",
       "</style>\n",
       "<table border=\"1\" class=\"dataframe\">\n",
       "  <thead>\n",
       "    <tr style=\"text-align: right;\">\n",
       "      <th></th>\n",
       "      <th>id</th>\n",
       "      <th>text</th>\n",
       "      <th>label</th>\n",
       "      <th>mapped_text</th>\n",
       "    </tr>\n",
       "  </thead>\n",
       "  <tbody>\n",
       "    <tr>\n",
       "      <th>0</th>\n",
       "      <td>30346</td>\n",
       "      <td>nobel laureate say trump policy may lead budge...</td>\n",
       "      <td>0</td>\n",
       "      <td>[79910, 43802, 28875, 54182, 10144, 32671, 215...</td>\n",
       "    </tr>\n",
       "    <tr>\n",
       "      <th>1</th>\n",
       "      <td>33007</td>\n",
       "      <td>bet trump win north korea h bomb prediction si...</td>\n",
       "      <td>0</td>\n",
       "      <td>[5735, 54182, 28918, 25509, 88797, 43564, 6458...</td>\n",
       "    </tr>\n",
       "    <tr>\n",
       "      <th>2</th>\n",
       "      <td>16912</td>\n",
       "      <td>obama communist environmental arm tell kid red...</td>\n",
       "      <td>1</td>\n",
       "      <td>[59591, 9270, 413, 20026, 11421, 65944, 38687,...</td>\n",
       "    </tr>\n",
       "    <tr>\n",
       "      <th>3</th>\n",
       "      <td>24392</td>\n",
       "      <td>house tax panel chair corporate tax cut may ta...</td>\n",
       "      <td>0</td>\n",
       "      <td>[25988, 32797, 53901, 87028, 61368, 32797, 306...</td>\n",
       "    </tr>\n",
       "    <tr>\n",
       "      <th>4</th>\n",
       "      <td>21239</td>\n",
       "      <td>british tv personality blame trump muslim ban ...</td>\n",
       "      <td>1</td>\n",
       "      <td>[21131, 49545, 22005, 4321, 54182, 47472, 4043...</td>\n",
       "    </tr>\n",
       "  </tbody>\n",
       "</table>\n",
       "</div>"
      ],
      "text/plain": [
       "      id                                               text  label  \\\n",
       "0  30346  nobel laureate say trump policy may lead budge...      0   \n",
       "1  33007  bet trump win north korea h bomb prediction si...      0   \n",
       "2  16912  obama communist environmental arm tell kid red...      1   \n",
       "3  24392  house tax panel chair corporate tax cut may ta...      0   \n",
       "4  21239  british tv personality blame trump muslim ban ...      1   \n",
       "\n",
       "                                         mapped_text  \n",
       "0  [79910, 43802, 28875, 54182, 10144, 32671, 215...  \n",
       "1  [5735, 54182, 28918, 25509, 88797, 43564, 6458...  \n",
       "2  [59591, 9270, 413, 20026, 11421, 65944, 38687,...  \n",
       "3  [25988, 32797, 53901, 87028, 61368, 32797, 306...  \n",
       "4  [21131, 49545, 22005, 4321, 54182, 47472, 4043...  "
      ]
     },
     "execution_count": 42,
     "metadata": {},
     "output_type": "execute_result"
    }
   ],
   "source": [
    "train.head()"
   ]
  },
  {
   "cell_type": "code",
   "execution_count": 43,
   "metadata": {},
   "outputs": [],
   "source": [
    "train.to_csv('mapped_dataset.csv')"
   ]
  },
  {
   "cell_type": "markdown",
   "metadata": {},
   "source": [
    "##### TO USE EVERYTIME WE WANT TO LOAD IT BACK"
   ]
  },
  {
   "cell_type": "code",
   "execution_count": 23,
   "metadata": {},
   "outputs": [],
   "source": [
    "train = pd.read_csv('mapped_dataset.csv')  #to read\n",
    "\n",
    "#to maintain the list format\n",
    "train['mapped_text'] = train['mapped_text'].map(ast.literal_eval)"
   ]
  },
  {
   "cell_type": "code",
   "execution_count": 45,
   "metadata": {},
   "outputs": [
    {
     "data": {
      "text/plain": [
       "list"
      ]
     },
     "execution_count": 45,
     "metadata": {},
     "output_type": "execute_result"
    }
   ],
   "source": [
    "type(train['mapped_text'][0])"
   ]
  },
  {
   "cell_type": "code",
   "execution_count": 46,
   "metadata": {},
   "outputs": [
    {
     "data": {
      "text/html": [
       "<div>\n",
       "<style scoped>\n",
       "    .dataframe tbody tr th:only-of-type {\n",
       "        vertical-align: middle;\n",
       "    }\n",
       "\n",
       "    .dataframe tbody tr th {\n",
       "        vertical-align: top;\n",
       "    }\n",
       "\n",
       "    .dataframe thead th {\n",
       "        text-align: right;\n",
       "    }\n",
       "</style>\n",
       "<table border=\"1\" class=\"dataframe\">\n",
       "  <thead>\n",
       "    <tr style=\"text-align: right;\">\n",
       "      <th></th>\n",
       "      <th>id</th>\n",
       "      <th>text</th>\n",
       "      <th>label</th>\n",
       "      <th>mapped_text</th>\n",
       "    </tr>\n",
       "  </thead>\n",
       "  <tbody>\n",
       "    <tr>\n",
       "      <th>0</th>\n",
       "      <td>30346</td>\n",
       "      <td>nobel laureate say trump policy may lead budge...</td>\n",
       "      <td>0</td>\n",
       "      <td>[79910, 43802, 28875, 54182, 10144, 32671, 215...</td>\n",
       "    </tr>\n",
       "    <tr>\n",
       "      <th>1</th>\n",
       "      <td>33007</td>\n",
       "      <td>bet trump win north korea h bomb prediction si...</td>\n",
       "      <td>0</td>\n",
       "      <td>[5735, 54182, 28918, 25509, 88797, 43564, 6458...</td>\n",
       "    </tr>\n",
       "    <tr>\n",
       "      <th>2</th>\n",
       "      <td>16912</td>\n",
       "      <td>obama communist environmental arm tell kid red...</td>\n",
       "      <td>1</td>\n",
       "      <td>[59591, 9270, 413, 20026, 11421, 65944, 38687,...</td>\n",
       "    </tr>\n",
       "    <tr>\n",
       "      <th>3</th>\n",
       "      <td>24392</td>\n",
       "      <td>house tax panel chair corporate tax cut may ta...</td>\n",
       "      <td>0</td>\n",
       "      <td>[25988, 32797, 53901, 87028, 61368, 32797, 306...</td>\n",
       "    </tr>\n",
       "    <tr>\n",
       "      <th>4</th>\n",
       "      <td>21239</td>\n",
       "      <td>british tv personality blame trump muslim ban ...</td>\n",
       "      <td>1</td>\n",
       "      <td>[21131, 49545, 22005, 4321, 54182, 47472, 4043...</td>\n",
       "    </tr>\n",
       "  </tbody>\n",
       "</table>\n",
       "</div>"
      ],
      "text/plain": [
       "      id                                               text  label  \\\n",
       "0  30346  nobel laureate say trump policy may lead budge...      0   \n",
       "1  33007  bet trump win north korea h bomb prediction si...      0   \n",
       "2  16912  obama communist environmental arm tell kid red...      1   \n",
       "3  24392  house tax panel chair corporate tax cut may ta...      0   \n",
       "4  21239  british tv personality blame trump muslim ban ...      1   \n",
       "\n",
       "                                         mapped_text  \n",
       "0  [79910, 43802, 28875, 54182, 10144, 32671, 215...  \n",
       "1  [5735, 54182, 28918, 25509, 88797, 43564, 6458...  \n",
       "2  [59591, 9270, 413, 20026, 11421, 65944, 38687,...  \n",
       "3  [25988, 32797, 53901, 87028, 61368, 32797, 306...  \n",
       "4  [21131, 49545, 22005, 4321, 54182, 47472, 4043...  "
      ]
     },
     "execution_count": 46,
     "metadata": {},
     "output_type": "execute_result"
    }
   ],
   "source": [
    "train.head()"
   ]
  },
  {
   "cell_type": "markdown",
   "metadata": {},
   "source": [
    "### Separation of the train dataset into fake and real articles"
   ]
  },
  {
   "cell_type": "code",
   "execution_count": 47,
   "metadata": {},
   "outputs": [],
   "source": [
    "train_0 = train.loc[train['label']==0]\n",
    "train_1 = train.loc[train['label']==1]"
   ]
  },
  {
   "cell_type": "code",
   "execution_count": 48,
   "metadata": {},
   "outputs": [
    {
     "data": {
      "text/html": [
       "<div>\n",
       "<style scoped>\n",
       "    .dataframe tbody tr th:only-of-type {\n",
       "        vertical-align: middle;\n",
       "    }\n",
       "\n",
       "    .dataframe tbody tr th {\n",
       "        vertical-align: top;\n",
       "    }\n",
       "\n",
       "    .dataframe thead th {\n",
       "        text-align: right;\n",
       "    }\n",
       "</style>\n",
       "<table border=\"1\" class=\"dataframe\">\n",
       "  <thead>\n",
       "    <tr style=\"text-align: right;\">\n",
       "      <th></th>\n",
       "      <th>id</th>\n",
       "      <th>text</th>\n",
       "      <th>label</th>\n",
       "      <th>mapped_text</th>\n",
       "    </tr>\n",
       "  </thead>\n",
       "  <tbody>\n",
       "    <tr>\n",
       "      <th>0</th>\n",
       "      <td>30346</td>\n",
       "      <td>nobel laureate say trump policy may lead budge...</td>\n",
       "      <td>0</td>\n",
       "      <td>[79910, 43802, 28875, 54182, 10144, 32671, 215...</td>\n",
       "    </tr>\n",
       "    <tr>\n",
       "      <th>1</th>\n",
       "      <td>33007</td>\n",
       "      <td>bet trump win north korea h bomb prediction si...</td>\n",
       "      <td>0</td>\n",
       "      <td>[5735, 54182, 28918, 25509, 88797, 43564, 6458...</td>\n",
       "    </tr>\n",
       "    <tr>\n",
       "      <th>3</th>\n",
       "      <td>24392</td>\n",
       "      <td>house tax panel chair corporate tax cut may ta...</td>\n",
       "      <td>0</td>\n",
       "      <td>[25988, 32797, 53901, 87028, 61368, 32797, 306...</td>\n",
       "    </tr>\n",
       "    <tr>\n",
       "      <th>5</th>\n",
       "      <td>39181</td>\n",
       "      <td>jumblatt lebanon weak hariri resignation beiru...</td>\n",
       "      <td>0</td>\n",
       "      <td>[88607, 10759, 81028, 86774, 23709, 20969, 226...</td>\n",
       "    </tr>\n",
       "    <tr>\n",
       "      <th>6</th>\n",
       "      <td>34565</td>\n",
       "      <td>u government commit help flint michigan fix wa...</td>\n",
       "      <td>0</td>\n",
       "      <td>[76408, 57784, 10530, 55211, 65517, 76655, 802...</td>\n",
       "    </tr>\n",
       "    <tr>\n",
       "      <th>...</th>\n",
       "      <td>...</td>\n",
       "      <td>...</td>\n",
       "      <td>...</td>\n",
       "      <td>...</td>\n",
       "    </tr>\n",
       "    <tr>\n",
       "      <th>35904</th>\n",
       "      <td>33587</td>\n",
       "      <td>trump meet republican leadership party unity d...</td>\n",
       "      <td>0</td>\n",
       "      <td>[54182, 86831, 84149, 86153, 63326, 43804, 346...</td>\n",
       "    </tr>\n",
       "    <tr>\n",
       "      <th>35906</th>\n",
       "      <td>32127</td>\n",
       "      <td>democrat disarray eve convention nominate clin...</td>\n",
       "      <td>0</td>\n",
       "      <td>[64917, 34908, 34022, 10526, 44390, 71, 64605,...</td>\n",
       "    </tr>\n",
       "    <tr>\n",
       "      <th>35907</th>\n",
       "      <td>34823</td>\n",
       "      <td>syrian army iranian proxy demand surrender reb...</td>\n",
       "      <td>0</td>\n",
       "      <td>[36400, 48591, 22806, 27227, 39720, 77391, 271...</td>\n",
       "    </tr>\n",
       "    <tr>\n",
       "      <th>35911</th>\n",
       "      <td>26954</td>\n",
       "      <td>uk farage person interest trump russia investi...</td>\n",
       "      <td>0</td>\n",
       "      <td>[85998, 11800, 61245, 48109, 54182, 63648, 308...</td>\n",
       "    </tr>\n",
       "    <tr>\n",
       "      <th>35912</th>\n",
       "      <td>39887</td>\n",
       "      <td>legal challenge uk rule party northern irish a...</td>\n",
       "      <td>0</td>\n",
       "      <td>[61652, 65876, 85998, 20638, 63326, 83706, 345...</td>\n",
       "    </tr>\n",
       "  </tbody>\n",
       "</table>\n",
       "<p>17177 rows × 4 columns</p>\n",
       "</div>"
      ],
      "text/plain": [
       "          id                                               text  label  \\\n",
       "0      30346  nobel laureate say trump policy may lead budge...      0   \n",
       "1      33007  bet trump win north korea h bomb prediction si...      0   \n",
       "3      24392  house tax panel chair corporate tax cut may ta...      0   \n",
       "5      39181  jumblatt lebanon weak hariri resignation beiru...      0   \n",
       "6      34565  u government commit help flint michigan fix wa...      0   \n",
       "...      ...                                                ...    ...   \n",
       "35904  33587  trump meet republican leadership party unity d...      0   \n",
       "35906  32127  democrat disarray eve convention nominate clin...      0   \n",
       "35907  34823  syrian army iranian proxy demand surrender reb...      0   \n",
       "35911  26954  uk farage person interest trump russia investi...      0   \n",
       "35912  39887  legal challenge uk rule party northern irish a...      0   \n",
       "\n",
       "                                             mapped_text  \n",
       "0      [79910, 43802, 28875, 54182, 10144, 32671, 215...  \n",
       "1      [5735, 54182, 28918, 25509, 88797, 43564, 6458...  \n",
       "3      [25988, 32797, 53901, 87028, 61368, 32797, 306...  \n",
       "5      [88607, 10759, 81028, 86774, 23709, 20969, 226...  \n",
       "6      [76408, 57784, 10530, 55211, 65517, 76655, 802...  \n",
       "...                                                  ...  \n",
       "35904  [54182, 86831, 84149, 86153, 63326, 43804, 346...  \n",
       "35906  [64917, 34908, 34022, 10526, 44390, 71, 64605,...  \n",
       "35907  [36400, 48591, 22806, 27227, 39720, 77391, 271...  \n",
       "35911  [85998, 11800, 61245, 48109, 54182, 63648, 308...  \n",
       "35912  [61652, 65876, 85998, 20638, 63326, 83706, 345...  \n",
       "\n",
       "[17177 rows x 4 columns]"
      ]
     },
     "execution_count": 48,
     "metadata": {},
     "output_type": "execute_result"
    }
   ],
   "source": [
    "train_0"
   ]
  },
  {
   "cell_type": "code",
   "execution_count": 49,
   "metadata": {
    "scrolled": true
   },
   "outputs": [
    {
     "data": {
      "text/html": [
       "<div>\n",
       "<style scoped>\n",
       "    .dataframe tbody tr th:only-of-type {\n",
       "        vertical-align: middle;\n",
       "    }\n",
       "\n",
       "    .dataframe tbody tr th {\n",
       "        vertical-align: top;\n",
       "    }\n",
       "\n",
       "    .dataframe thead th {\n",
       "        text-align: right;\n",
       "    }\n",
       "</style>\n",
       "<table border=\"1\" class=\"dataframe\">\n",
       "  <thead>\n",
       "    <tr style=\"text-align: right;\">\n",
       "      <th></th>\n",
       "      <th>id</th>\n",
       "      <th>text</th>\n",
       "      <th>label</th>\n",
       "      <th>mapped_text</th>\n",
       "    </tr>\n",
       "  </thead>\n",
       "  <tbody>\n",
       "    <tr>\n",
       "      <th>2</th>\n",
       "      <td>16912</td>\n",
       "      <td>obama communist environmental arm tell kid red...</td>\n",
       "      <td>1</td>\n",
       "      <td>[59591, 9270, 413, 20026, 11421, 65944, 38687,...</td>\n",
       "    </tr>\n",
       "    <tr>\n",
       "      <th>4</th>\n",
       "      <td>21239</td>\n",
       "      <td>british tv personality blame trump muslim ban ...</td>\n",
       "      <td>1</td>\n",
       "      <td>[21131, 49545, 22005, 4321, 54182, 47472, 4043...</td>\n",
       "    </tr>\n",
       "    <tr>\n",
       "      <th>7</th>\n",
       "      <td>21783</td>\n",
       "      <td>controversy christian flag engulf small town l...</td>\n",
       "      <td>1</td>\n",
       "      <td>[22064, 40013, 35714, 3704, 62102, 69139, 5762...</td>\n",
       "    </tr>\n",
       "    <tr>\n",
       "      <th>8</th>\n",
       "      <td>21882</td>\n",
       "      <td>detroit squat squatter take turn want miss</td>\n",
       "      <td>1</td>\n",
       "      <td>[18658, 3137, 36563, 15503, 33146, 64872, 45446]</td>\n",
       "    </tr>\n",
       "    <tr>\n",
       "      <th>9</th>\n",
       "      <td>12611</td>\n",
       "      <td>oops new evidence show hillary email lose mont...</td>\n",
       "      <td>1</td>\n",
       "      <td>[74353, 5944, 54068, 19311, 20586, 6613, 36053...</td>\n",
       "    </tr>\n",
       "    <tr>\n",
       "      <th>...</th>\n",
       "      <td>...</td>\n",
       "      <td>...</td>\n",
       "      <td>...</td>\n",
       "      <td>...</td>\n",
       "    </tr>\n",
       "    <tr>\n",
       "      <th>35913</th>\n",
       "      <td>20566</td>\n",
       "      <td>sin socialism doctor pump air infant lung hand...</td>\n",
       "      <td>1</td>\n",
       "      <td>[68878, 51534, 23182, 17517, 39564, 70213, 287...</td>\n",
       "    </tr>\n",
       "    <tr>\n",
       "      <th>35914</th>\n",
       "      <td>13261</td>\n",
       "      <td>journalist sheryl attkisson famous dc bureau c...</td>\n",
       "      <td>1</td>\n",
       "      <td>[32767, 46932, 79745, 48378, 65636, 57805, 304...</td>\n",
       "    </tr>\n",
       "    <tr>\n",
       "      <th>35915</th>\n",
       "      <td>21193</td>\n",
       "      <td>syrian muslim man whose family perish trip cou...</td>\n",
       "      <td>1</td>\n",
       "      <td>[36400, 47472, 52381, 69218, 75453, 57523, 335...</td>\n",
       "    </tr>\n",
       "    <tr>\n",
       "      <th>35916</th>\n",
       "      <td>8860</td>\n",
       "      <td>fox news help domestic terrorist first year pr...</td>\n",
       "      <td>1</td>\n",
       "      <td>[60167, 66327, 55211, 68268, 4664, 59091, 7414...</td>\n",
       "    </tr>\n",
       "    <tr>\n",
       "      <th>35917</th>\n",
       "      <td>13447</td>\n",
       "      <td>hey hillary really behind attempt party divers...</td>\n",
       "      <td>1</td>\n",
       "      <td>[58041, 20586, 73406, 29910, 42223, 63326, 554...</td>\n",
       "    </tr>\n",
       "  </tbody>\n",
       "</table>\n",
       "<p>18741 rows × 4 columns</p>\n",
       "</div>"
      ],
      "text/plain": [
       "          id                                               text  label  \\\n",
       "2      16912  obama communist environmental arm tell kid red...      1   \n",
       "4      21239  british tv personality blame trump muslim ban ...      1   \n",
       "7      21783  controversy christian flag engulf small town l...      1   \n",
       "8      21882         detroit squat squatter take turn want miss      1   \n",
       "9      12611  oops new evidence show hillary email lose mont...      1   \n",
       "...      ...                                                ...    ...   \n",
       "35913  20566  sin socialism doctor pump air infant lung hand...      1   \n",
       "35914  13261  journalist sheryl attkisson famous dc bureau c...      1   \n",
       "35915  21193  syrian muslim man whose family perish trip cou...      1   \n",
       "35916   8860  fox news help domestic terrorist first year pr...      1   \n",
       "35917  13447  hey hillary really behind attempt party divers...      1   \n",
       "\n",
       "                                             mapped_text  \n",
       "2      [59591, 9270, 413, 20026, 11421, 65944, 38687,...  \n",
       "4      [21131, 49545, 22005, 4321, 54182, 47472, 4043...  \n",
       "7      [22064, 40013, 35714, 3704, 62102, 69139, 5762...  \n",
       "8       [18658, 3137, 36563, 15503, 33146, 64872, 45446]  \n",
       "9      [74353, 5944, 54068, 19311, 20586, 6613, 36053...  \n",
       "...                                                  ...  \n",
       "35913  [68878, 51534, 23182, 17517, 39564, 70213, 287...  \n",
       "35914  [32767, 46932, 79745, 48378, 65636, 57805, 304...  \n",
       "35915  [36400, 47472, 52381, 69218, 75453, 57523, 335...  \n",
       "35916  [60167, 66327, 55211, 68268, 4664, 59091, 7414...  \n",
       "35917  [58041, 20586, 73406, 29910, 42223, 63326, 554...  \n",
       "\n",
       "[18741 rows x 4 columns]"
      ]
     },
     "execution_count": 49,
     "metadata": {},
     "output_type": "execute_result"
    }
   ],
   "source": [
    "train_1"
   ]
  },
  {
   "cell_type": "markdown",
   "metadata": {},
   "source": [
    "## Naïve Bayes: Multinomial Event Model"
   ]
  },
  {
   "cell_type": "code",
   "execution_count": 50,
   "metadata": {
    "scrolled": true
   },
   "outputs": [
    {
     "data": {
      "text/plain": [
       "0.5217718135753661"
      ]
     },
     "execution_count": 50,
     "metadata": {},
     "output_type": "execute_result"
    }
   ],
   "source": [
    "phi_y = train['label'].sum()/len(train)\n",
    "phi_y"
   ]
  },
  {
   "cell_type": "code",
   "execution_count": 52,
   "metadata": {
    "scrolled": true
   },
   "outputs": [
    {
     "name": "stderr",
     "output_type": "stream",
     "text": [
      "100%|██████████| 35918/35918 [00:35<00:00, 1020.18it/s]\n"
     ]
    },
    {
     "data": {
      "text/plain": [
       "0        None\n",
       "1        None\n",
       "2        None\n",
       "3        None\n",
       "4        None\n",
       "         ... \n",
       "35913    None\n",
       "35914    None\n",
       "35915    None\n",
       "35916    None\n",
       "35917    None\n",
       "Length: 35918, dtype: object"
      ]
     },
     "execution_count": 52,
     "metadata": {},
     "output_type": "execute_result"
    }
   ],
   "source": [
    "from tqdm import tqdm\n",
    "tqdm.pandas()\n",
    "\n",
    "d = defaultdict(list)\n",
    "\n",
    "def add_value(txt,index,label,d):\n",
    "    for word in set(txt):\n",
    "        counts = txt.count(word)\n",
    "        d[word]+=[(index,counts,label)]\n",
    "\n",
    "train.progress_apply(lambda x: add_value(x['mapped_text'],x['id'],x['label'],d),axis = 1)"
   ]
  },
  {
   "cell_type": "code",
   "execution_count": 53,
   "metadata": {
    "scrolled": true
   },
   "outputs": [
    {
     "data": {
      "text/plain": [
       "89039"
      ]
     },
     "execution_count": 53,
     "metadata": {},
     "output_type": "execute_result"
    }
   ],
   "source": [
    "len(d)  ## penso sia minore perchè stiamo applicando la funzione a TRAIN mentre il vocabolario è stato costruito su DF "
   ]
  },
  {
   "cell_type": "code",
   "execution_count": 55,
   "metadata": {},
   "outputs": [],
   "source": [
    "save_dict(d,'word_index')"
   ]
  },
  {
   "cell_type": "code",
   "execution_count": 56,
   "metadata": {},
   "outputs": [],
   "source": [
    "word_index = load_obj('word_index')"
   ]
  },
  {
   "cell_type": "code",
   "execution_count": 57,
   "metadata": {},
   "outputs": [
    {
     "data": {
      "text/plain": [
       "89039"
      ]
     },
     "execution_count": 57,
     "metadata": {},
     "output_type": "execute_result"
    }
   ],
   "source": [
    "len(word_index)"
   ]
  },
  {
   "cell_type": "code",
   "execution_count": 61,
   "metadata": {},
   "outputs": [],
   "source": [
    "#0 real 1 fake\n",
    "n = len(word_index)\n",
    "\n",
    "phi_0 = np.ones(n) \n",
    "phi_1 = np.ones(n)\n",
    "\n",
    "d_0 = sum([len(i) for i in train_0.mapped_text])\n",
    "d_1 = sum([len(i) for i in train_1.mapped_text])\n",
    "\n",
    "for word, value in word_index.items():\n",
    "    for tup in value:\n",
    "        if tup[2] == 0:\n",
    "            phi_0[word] += tup[1]\n",
    "        else:\n",
    "            phi_1[word] += tup[1]\n",
    "phi_0 = phi_0/(d_0+n)\n",
    "phi_1 = phi_1/(d_1+n)"
   ]
  },
  {
   "cell_type": "code",
   "execution_count": 62,
   "metadata": {},
   "outputs": [
    {
     "data": {
      "text/plain": [
       "array([2.11025224e-07, 4.22050448e-07, 4.22050448e-07, 4.22050448e-07,\n",
       "       2.11025224e-07, 6.33075672e-07, 1.26615134e-06, 2.11025224e-07,\n",
       "       8.65203418e-06, 2.11025224e-07, 6.33075672e-07, 1.89922701e-06,\n",
       "       2.11025224e-07, 2.11025224e-07, 4.22050448e-07, 4.22050448e-07,\n",
       "       2.11025224e-07, 2.11025224e-07, 1.13320545e-04, 4.22050448e-07,\n",
       "       1.56158666e-05, 8.44100895e-07, 1.28725387e-05, 4.22050448e-07,\n",
       "       4.22050448e-07, 4.22050448e-07, 2.11025224e-07, 6.33075672e-07,\n",
       "       4.22050448e-07, 1.54048413e-05, 4.22050448e-07, 2.11025224e-07,\n",
       "       4.22050448e-07, 1.05512612e-06, 4.22050448e-07, 4.22050448e-07,\n",
       "       6.33075672e-07, 1.05512612e-06, 6.33075672e-07, 1.89922701e-06,\n",
       "       1.26615134e-06, 6.33075672e-07, 6.47847437e-05, 6.33075672e-07,\n",
       "       1.05512612e-06, 2.11025224e-07, 2.11025224e-07, 2.11025224e-07,\n",
       "       8.44100895e-07, 8.08226607e-05, 8.44100895e-07, 1.26615134e-06,\n",
       "       4.22050448e-07, 2.11025224e-06, 2.53230269e-06, 2.11025224e-07,\n",
       "       2.11025224e-07, 2.17355981e-05, 2.11025224e-07, 5.69768104e-06,\n",
       "       8.44100895e-07, 2.95435313e-06, 6.33075672e-07, 6.33075672e-07,\n",
       "       4.22050448e-07, 8.44100895e-06, 4.22050448e-07, 2.11025224e-07,\n",
       "       1.47717657e-06, 2.74332791e-05, 4.22050448e-07, 3.50365179e-03,\n",
       "       3.37640358e-05, 6.33075672e-07, 2.11025224e-07, 2.11025224e-07,\n",
       "       6.33075672e-07, 4.22050448e-07, 4.22050448e-07, 2.11025224e-07,\n",
       "       4.22050448e-07, 4.00947925e-06, 2.11025224e-07, 2.11025224e-07,\n",
       "       7.66021563e-05, 2.74332791e-06, 2.11025224e-07, 1.05512612e-06,\n",
       "       2.30439544e-04, 1.47717657e-06, 6.33075672e-07, 2.11025224e-07,\n",
       "       2.11025224e-07, 4.22050448e-07, 1.47717657e-06, 4.22050448e-07,\n",
       "       4.64255492e-06, 2.11025224e-07, 1.26615134e-06, 4.22050448e-07])"
      ]
     },
     "execution_count": 62,
     "metadata": {},
     "output_type": "execute_result"
    }
   ],
   "source": [
    "phi_1[0:100]"
   ]
  }
 ],
 "metadata": {
  "kernelspec": {
   "display_name": "Python 3",
   "language": "python",
   "name": "python3"
  },
  "language_info": {
   "codemirror_mode": {
    "name": "ipython",
    "version": 3
   },
   "file_extension": ".py",
   "mimetype": "text/x-python",
   "name": "python",
   "nbconvert_exporter": "python",
   "pygments_lexer": "ipython3",
   "version": "3.8.3"
  }
 },
 "nbformat": 4,
 "nbformat_minor": 4
}
