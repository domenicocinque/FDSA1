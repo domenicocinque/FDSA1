{
 "cells": [
  {
   "cell_type": "code",
   "execution_count": 1,
   "metadata": {},
   "outputs": [],
   "source": [
    "import pandas as pd\n",
    "import numpy as np\n",
    "import pickle\n",
    "from collections import defaultdict\n",
    "from collections import Counter\n",
    "import math\n",
    "import tqdm\n",
    "import ast"
   ]
  },
  {
   "cell_type": "code",
   "execution_count": 2,
   "metadata": {},
   "outputs": [],
   "source": [
    "#saving dict function\n",
    "def save_dict(obj, name ):\n",
    "    with open(name + '.pkl', 'wb') as f:\n",
    "        pickle.dump(obj, f, pickle.HIGHEST_PROTOCOL)\n",
    "\n",
    "#load dict function\n",
    "def load_obj(name ):\n",
    "    with open(name + '.pkl', 'rb') as f:\n",
    "        return pickle.load(f)"
   ]
  },
  {
   "cell_type": "markdown",
   "metadata": {},
   "source": [
    "## Naïve Bayes Multinomial Event Model"
   ]
  },
  {
   "cell_type": "code",
   "execution_count": 3,
   "metadata": {},
   "outputs": [],
   "source": [
    "train = pd.read_csv('mapped_train.csv')\n",
    "train.drop({'Unnamed: 0'},axis=1,inplace=True)"
   ]
  },
  {
   "cell_type": "code",
   "execution_count": 4,
   "metadata": {},
   "outputs": [
    {
     "data": {
      "text/html": [
       "<div>\n",
       "<style scoped>\n",
       "    .dataframe tbody tr th:only-of-type {\n",
       "        vertical-align: middle;\n",
       "    }\n",
       "\n",
       "    .dataframe tbody tr th {\n",
       "        vertical-align: top;\n",
       "    }\n",
       "\n",
       "    .dataframe thead th {\n",
       "        text-align: right;\n",
       "    }\n",
       "</style>\n",
       "<table border=\"1\" class=\"dataframe\">\n",
       "  <thead>\n",
       "    <tr style=\"text-align: right;\">\n",
       "      <th></th>\n",
       "      <th>id</th>\n",
       "      <th>text</th>\n",
       "      <th>label</th>\n",
       "      <th>mapped_text</th>\n",
       "    </tr>\n",
       "  </thead>\n",
       "  <tbody>\n",
       "    <tr>\n",
       "      <th>0</th>\n",
       "      <td>5204</td>\n",
       "      <td>sarah palin medal honor recipient son law anni...</td>\n",
       "      <td>1</td>\n",
       "      <td>[24136, 8678, 15272, 86830, 66089, 13273, 3297...</td>\n",
       "    </tr>\n",
       "    <tr>\n",
       "      <th>1</th>\n",
       "      <td>9143</td>\n",
       "      <td>wow un ambassador nikki haley blast un vote tw...</td>\n",
       "      <td>1</td>\n",
       "      <td>[62682, 25830, 84783, 62204, 76717, 87416, 258...</td>\n",
       "    </tr>\n",
       "    <tr>\n",
       "      <th>2</th>\n",
       "      <td>35861</td>\n",
       "      <td>brazil police raid home two lawmaker bribery p...</td>\n",
       "      <td>0</td>\n",
       "      <td>[88061, 54921, 31378, 2842, 50501, 80489, 3884...</td>\n",
       "    </tr>\n",
       "    <tr>\n",
       "      <th>3</th>\n",
       "      <td>35051</td>\n",
       "      <td>factbox next catalonia exile separatist leader...</td>\n",
       "      <td>0</td>\n",
       "      <td>[64859, 85537, 56046, 666, 69815, 38455, 49260...</td>\n",
       "    </tr>\n",
       "    <tr>\n",
       "      <th>4</th>\n",
       "      <td>3433</td>\n",
       "      <td>trump run scar cancel press conference russia ...</td>\n",
       "      <td>1</td>\n",
       "      <td>[81454, 15501, 87072, 77293, 40035, 28956, 302...</td>\n",
       "    </tr>\n",
       "  </tbody>\n",
       "</table>\n",
       "</div>"
      ],
      "text/plain": [
       "      id                                               text  label  \\\n",
       "0   5204  sarah palin medal honor recipient son law anni...      1   \n",
       "1   9143  wow un ambassador nikki haley blast un vote tw...      1   \n",
       "2  35861  brazil police raid home two lawmaker bribery p...      0   \n",
       "3  35051  factbox next catalonia exile separatist leader...      0   \n",
       "4   3433  trump run scar cancel press conference russia ...      1   \n",
       "\n",
       "                                         mapped_text  \n",
       "0  [24136, 8678, 15272, 86830, 66089, 13273, 3297...  \n",
       "1  [62682, 25830, 84783, 62204, 76717, 87416, 258...  \n",
       "2  [88061, 54921, 31378, 2842, 50501, 80489, 3884...  \n",
       "3  [64859, 85537, 56046, 666, 69815, 38455, 49260...  \n",
       "4  [81454, 15501, 87072, 77293, 40035, 28956, 302...  "
      ]
     },
     "execution_count": 4,
     "metadata": {},
     "output_type": "execute_result"
    }
   ],
   "source": [
    "train.head()"
   ]
  },
  {
   "cell_type": "code",
   "execution_count": 5,
   "metadata": {},
   "outputs": [],
   "source": [
    "train_0 = train.loc[train['label']==0]\n",
    "train_1 = train.loc[train['label']==1]"
   ]
  },
  {
   "cell_type": "code",
   "execution_count": 6,
   "metadata": {},
   "outputs": [],
   "source": [
    "word_index = load_obj('word_index')"
   ]
  },
  {
   "cell_type": "code",
   "execution_count": 7,
   "metadata": {},
   "outputs": [
    {
     "data": {
      "text/plain": [
       "89369"
      ]
     },
     "execution_count": 7,
     "metadata": {},
     "output_type": "execute_result"
    }
   ],
   "source": [
    "len(word_index)"
   ]
  },
  {
   "cell_type": "code",
   "execution_count": 8,
   "metadata": {},
   "outputs": [
    {
     "data": {
      "text/plain": [
       "0.5221337490951612"
      ]
     },
     "execution_count": 8,
     "metadata": {},
     "output_type": "execute_result"
    }
   ],
   "source": [
    "phi_y = train['label'].sum()/len(train)\n",
    "phi_y"
   ]
  },
  {
   "cell_type": "code",
   "execution_count": 9,
   "metadata": {},
   "outputs": [],
   "source": [
    "#0 real 1 fake\n",
    "n = len(word_index)\n",
    "\n",
    "phi_0 = np.ones(n) \n",
    "phi_1 = np.ones(n)\n",
    "\n",
    "d_0 = sum([len(i) for i in train_0.mapped_text])\n",
    "d_1 = sum([len(i) for i in train_1.mapped_text])\n",
    "\n",
    "for word, value in word_index.items():\n",
    "    for tup in value:\n",
    "        if tup[2] == 0:\n",
    "            phi_0[word] += tup[1]\n",
    "        else:\n",
    "            phi_1[word] += tup[1]\n",
    "phi_0 = phi_0/(d_0+n)\n",
    "phi_1 = phi_1/(d_1+n)"
   ]
  },
  {
   "cell_type": "code",
   "execution_count": 10,
   "metadata": {},
   "outputs": [
    {
     "data": {
      "text/plain": [
       "array([2.15976691e-07, 1.54269065e-07, 6.17076259e-08, 6.17076259e-08,\n",
       "       8.94760575e-07, 9.25614388e-08, 3.08538129e-08, 6.17076259e-08,\n",
       "       9.25614388e-08, 3.08538129e-08, 6.17076259e-08, 6.17076259e-08,\n",
       "       3.08538129e-08, 1.51183683e-06, 6.17076259e-08, 1.85122878e-07,\n",
       "       3.08538129e-08, 6.17076259e-08, 2.15976691e-07, 9.25614388e-08,\n",
       "       6.17076259e-08, 9.25614388e-08, 2.77684316e-07, 4.62807194e-07,\n",
       "       3.08538129e-08, 9.25614388e-07, 1.70004509e-05, 9.25614388e-08,\n",
       "       3.21188193e-05, 6.17076259e-08, 6.17076259e-08, 6.17076259e-08,\n",
       "       3.39391942e-07, 6.17076259e-08, 9.25614388e-08, 6.17076259e-08,\n",
       "       3.08538129e-08, 9.25614388e-08, 2.40659741e-06, 6.47930072e-07,\n",
       "       1.54269065e-07, 6.17076259e-08, 3.08538129e-08, 9.25614388e-08,\n",
       "       6.17076259e-08, 3.08538129e-08, 3.08538129e-08, 1.24032328e-05,\n",
       "       3.08538129e-08, 2.15976691e-07, 1.23415252e-07, 3.08538129e-08,\n",
       "       1.35139701e-05, 9.25614388e-08, 9.25614388e-08, 9.25614388e-08,\n",
       "       9.25614388e-08, 3.08538129e-08, 4.93661007e-07, 1.32671396e-06,\n",
       "       6.17076259e-08, 3.08538129e-08, 9.25614388e-08, 6.17076259e-08,\n",
       "       9.25614388e-08, 6.17076259e-08, 1.21255485e-05, 6.17076259e-08,\n",
       "       6.17076259e-08, 9.25614388e-08, 6.17076259e-08, 9.25614388e-08,\n",
       "       8.33052949e-07, 3.08538129e-08, 8.02199136e-07, 3.08538129e-08,\n",
       "       6.17076259e-08, 9.25614388e-08, 3.08538129e-08, 2.93419761e-05,\n",
       "       1.85122878e-07, 6.17076259e-08, 3.08538129e-08, 4.62807194e-07,\n",
       "       9.25614388e-08, 6.17076259e-08, 1.51183683e-06, 1.85122878e-07,\n",
       "       6.17076259e-08, 5.86222446e-07, 6.17076259e-08, 6.17076259e-08,\n",
       "       3.08538129e-08, 6.17076259e-08, 6.17076259e-08, 6.17076259e-08,\n",
       "       4.62807194e-07, 9.25614388e-08, 1.78952115e-06, 4.01099568e-07])"
      ]
     },
     "execution_count": 10,
     "metadata": {},
     "output_type": "execute_result"
    }
   ],
   "source": [
    "phi_1[0:100]"
   ]
  },
  {
   "cell_type": "code",
   "execution_count": null,
   "metadata": {},
   "outputs": [],
   "source": []
  }
 ],
 "metadata": {
  "kernelspec": {
   "display_name": "Python 3",
   "language": "python",
   "name": "python3"
  },
  "language_info": {
   "codemirror_mode": {
    "name": "ipython",
    "version": 3
   },
   "file_extension": ".py",
   "mimetype": "text/x-python",
   "name": "python",
   "nbconvert_exporter": "python",
   "pygments_lexer": "ipython3",
   "version": "3.8.5"
  }
 },
 "nbformat": 4,
 "nbformat_minor": 4
}
