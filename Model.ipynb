{
 "cells": [
  {
   "cell_type": "code",
   "execution_count": 1,
   "metadata": {},
   "outputs": [],
   "source": [
    "import pandas as pd\n",
    "import numpy as np\n",
    "import pickle\n",
    "from collections import defaultdict\n",
    "from collections import Counter\n",
    "import math\n",
    "import tqdm\n",
    "import ast"
   ]
  },
  {
   "cell_type": "code",
   "execution_count": 2,
   "metadata": {},
   "outputs": [],
   "source": [
    "#saving dict function\n",
    "def save_dict(obj, name ):\n",
    "    with open(name + '.pkl', 'wb') as f:\n",
    "        pickle.dump(obj, f, pickle.HIGHEST_PROTOCOL)\n",
    "\n",
    "#load dict function\n",
    "def load_obj(name ):\n",
    "    with open(name + '.pkl', 'rb') as f:\n",
    "        return pickle.load(f)"
   ]
  },
  {
   "cell_type": "markdown",
   "metadata": {},
   "source": [
    "## Naïve Bayes: Multinomial Event Model"
   ]
  },
  {
   "cell_type": "code",
   "execution_count": 3,
   "metadata": {},
   "outputs": [],
   "source": [
    "train = pd.read_csv('mapped_dataset.csv')  #to read\n",
    "\n",
    "#to maintain the list format\n",
    "train['mapped_text'] = train['mapped_text'].map(ast.literal_eval)\n",
    "train.drop({'Unnamed: 0'},axis=1,inplace=True)"
   ]
  },
  {
   "cell_type": "code",
   "execution_count": 4,
   "metadata": {
    "scrolled": true
   },
   "outputs": [
    {
     "data": {
      "text/html": [
       "<div>\n",
       "<style scoped>\n",
       "    .dataframe tbody tr th:only-of-type {\n",
       "        vertical-align: middle;\n",
       "    }\n",
       "\n",
       "    .dataframe tbody tr th {\n",
       "        vertical-align: top;\n",
       "    }\n",
       "\n",
       "    .dataframe thead th {\n",
       "        text-align: right;\n",
       "    }\n",
       "</style>\n",
       "<table border=\"1\" class=\"dataframe\">\n",
       "  <thead>\n",
       "    <tr style=\"text-align: right;\">\n",
       "      <th></th>\n",
       "      <th>id</th>\n",
       "      <th>text</th>\n",
       "      <th>label</th>\n",
       "      <th>mapped_text</th>\n",
       "    </tr>\n",
       "  </thead>\n",
       "  <tbody>\n",
       "    <tr>\n",
       "      <th>0</th>\n",
       "      <td>30346</td>\n",
       "      <td>nobel laureate say trump policy may lead budge...</td>\n",
       "      <td>0</td>\n",
       "      <td>[79910, 43802, 28875, 54182, 10144, 32671, 215...</td>\n",
       "    </tr>\n",
       "    <tr>\n",
       "      <th>1</th>\n",
       "      <td>33007</td>\n",
       "      <td>bet trump win north korea h bomb prediction si...</td>\n",
       "      <td>0</td>\n",
       "      <td>[5735, 54182, 28918, 25509, 88797, 43564, 6458...</td>\n",
       "    </tr>\n",
       "    <tr>\n",
       "      <th>2</th>\n",
       "      <td>16912</td>\n",
       "      <td>obama communist environmental arm tell kid red...</td>\n",
       "      <td>1</td>\n",
       "      <td>[59591, 9270, 413, 20026, 11421, 65944, 38687,...</td>\n",
       "    </tr>\n",
       "    <tr>\n",
       "      <th>3</th>\n",
       "      <td>24392</td>\n",
       "      <td>house tax panel chair corporate tax cut may ta...</td>\n",
       "      <td>0</td>\n",
       "      <td>[25988, 32797, 53901, 87028, 61368, 32797, 306...</td>\n",
       "    </tr>\n",
       "    <tr>\n",
       "      <th>4</th>\n",
       "      <td>21239</td>\n",
       "      <td>british tv personality blame trump muslim ban ...</td>\n",
       "      <td>1</td>\n",
       "      <td>[21131, 49545, 22005, 4321, 54182, 47472, 4043...</td>\n",
       "    </tr>\n",
       "  </tbody>\n",
       "</table>\n",
       "</div>"
      ],
      "text/plain": [
       "      id                                               text  label  \\\n",
       "0  30346  nobel laureate say trump policy may lead budge...      0   \n",
       "1  33007  bet trump win north korea h bomb prediction si...      0   \n",
       "2  16912  obama communist environmental arm tell kid red...      1   \n",
       "3  24392  house tax panel chair corporate tax cut may ta...      0   \n",
       "4  21239  british tv personality blame trump muslim ban ...      1   \n",
       "\n",
       "                                         mapped_text  \n",
       "0  [79910, 43802, 28875, 54182, 10144, 32671, 215...  \n",
       "1  [5735, 54182, 28918, 25509, 88797, 43564, 6458...  \n",
       "2  [59591, 9270, 413, 20026, 11421, 65944, 38687,...  \n",
       "3  [25988, 32797, 53901, 87028, 61368, 32797, 306...  \n",
       "4  [21131, 49545, 22005, 4321, 54182, 47472, 4043...  "
      ]
     },
     "execution_count": 4,
     "metadata": {},
     "output_type": "execute_result"
    }
   ],
   "source": [
    "train.head()"
   ]
  },
  {
   "cell_type": "code",
   "execution_count": 5,
   "metadata": {},
   "outputs": [],
   "source": [
    "train_0 = train.loc[train['label']==0]\n",
    "train_1 = train.loc[train['label']==1]"
   ]
  },
  {
   "cell_type": "code",
   "execution_count": 6,
   "metadata": {},
   "outputs": [],
   "source": [
    "word_index = load_obj('word_index')"
   ]
  },
  {
   "cell_type": "markdown",
   "metadata": {},
   "source": [
    "### Parameters"
   ]
  },
  {
   "cell_type": "code",
   "execution_count": 7,
   "metadata": {},
   "outputs": [],
   "source": [
    "phi_y_1 = train['label'].sum()/len(train)\n",
    "phi_y_0 = 1 - phi_y_1"
   ]
  },
  {
   "cell_type": "code",
   "execution_count": 8,
   "metadata": {},
   "outputs": [],
   "source": [
    "# Class priors\n",
    "phi_y_1 = train['label'].sum()/len(train)\n",
    "phi_y_0 = 1 - phi_y_1\n",
    "\n",
    "# Conditionals \n",
    "n = len(word_index)\n",
    "\n",
    "phi_0 = np.ones(n) \n",
    "phi_1 = np.ones(n)\n",
    "\n",
    "d_0 = sum([len(i) for i in train_0.mapped_text])\n",
    "d_1 = sum([len(i) for i in train_1.mapped_text])\n",
    "\n",
    "for word, value in word_index.items():\n",
    "    for tup in value:\n",
    "        if tup[2] == 0:\n",
    "            phi_0[word] += tup[1]\n",
    "        else:\n",
    "            phi_1[word] += tup[1]\n",
    "            \n",
    "phi_0 = phi_0/(d_0+n)\n",
    "phi_1 = phi_1/(d_1+n)"
   ]
  },
  {
   "cell_type": "code",
   "execution_count": 9,
   "metadata": {},
   "outputs": [
    {
     "data": {
      "text/plain": [
       "array([2.11025224e-07, 4.22050448e-07, 4.22050448e-07, 4.22050448e-07,\n",
       "       2.11025224e-07, 6.33075672e-07, 1.26615134e-06, 2.11025224e-07,\n",
       "       8.65203418e-06, 2.11025224e-07, 6.33075672e-07, 1.89922701e-06,\n",
       "       2.11025224e-07, 2.11025224e-07, 4.22050448e-07, 4.22050448e-07,\n",
       "       2.11025224e-07, 2.11025224e-07, 1.13320545e-04, 4.22050448e-07,\n",
       "       1.56158666e-05, 8.44100895e-07, 1.28725387e-05, 4.22050448e-07,\n",
       "       4.22050448e-07])"
      ]
     },
     "execution_count": 9,
     "metadata": {},
     "output_type": "execute_result"
    }
   ],
   "source": [
    "phi_1[0:25]"
   ]
  },
  {
   "cell_type": "code",
   "execution_count": 10,
   "metadata": {},
   "outputs": [
    {
     "data": {
      "text/plain": [
       "array([4.78896125e-07, 2.39448063e-07, 2.39448063e-07, 2.39448063e-07,\n",
       "       4.78896125e-07, 2.39448063e-07, 2.39448063e-07, 7.18344188e-07,\n",
       "       3.83116900e-06, 4.78896125e-07, 2.39448063e-07, 7.18344188e-07,\n",
       "       9.57792251e-07, 1.19724031e-06, 2.39448063e-07, 2.39448063e-07,\n",
       "       4.78896125e-07, 4.78896125e-07, 3.20860404e-05, 2.39448063e-07,\n",
       "       2.15503256e-06, 2.39448063e-07, 9.81737057e-06, 2.39448063e-07,\n",
       "       4.78896125e-07])"
      ]
     },
     "execution_count": 10,
     "metadata": {},
     "output_type": "execute_result"
    }
   ],
   "source": [
    "phi_0[0:25]"
   ]
  },
  {
   "cell_type": "markdown",
   "metadata": {},
   "source": [
    "## Testing"
   ]
  },
  {
   "cell_type": "code",
   "execution_count": 11,
   "metadata": {},
   "outputs": [],
   "source": [
    "test = pd.read_csv('test.csv')\n",
    "test.rename(columns={'Unnamed: 0': 'id'}, inplace=True) \n",
    "test.head()"
   ]
  },
  {
   "cell_type": "code",
   "execution_count": 13,
   "metadata": {},
   "outputs": [],
   "source": [
    "vocabulary = load_obj('vocabulary')"
   ]
  },
  {
   "cell_type": "code",
   "execution_count": 14,
   "metadata": {},
   "outputs": [],
   "source": [
    "def mapping_2(text):\n",
    "    text = text.split()\n",
    "    out = [vocabulary[word] if word in vocabulary.keys() else word for word in text]\n",
    "    return out"
   ]
  },
  {
   "cell_type": "code",
   "execution_count": 15,
   "metadata": {},
   "outputs": [],
   "source": [
    "test['mapped_text'] = test.text.apply(lambda x: mapping_2(x))\n",
    "test.head()"
   ]
  },
  {
   "cell_type": "code",
   "execution_count": 17,
   "metadata": {},
   "outputs": [],
   "source": [
    "def predict(mapped_text):\n",
    "    \n",
    "    phi_0_test = np.log(phi_y_0)\n",
    "    phi_1_test = np.log(phi_y_1)\n",
    "    \n",
    "    for word in mapped_text:\n",
    "        if type(word) == type('str'):\n",
    "            phi_0_test += np.log(1/(d_0+n))\n",
    "            phi_1_test += np.log(1/(d_1+n))\n",
    "        else:\n",
    "            phi_0_test += np.log(phi_0[word])\n",
    "            phi_1_test += np.log(phi_1[word])\n",
    "            \n",
    "    if phi_0_test > phi_1_test:\n",
    "        return 0\n",
    "    return 1"
   ]
  },
  {
   "cell_type": "markdown",
   "metadata": {
    "scrolled": true
   },
   "source": [
    "#### Prediction over Test Set"
   ]
  },
  {
   "cell_type": "code",
   "execution_count": 18,
   "metadata": {},
   "outputs": [],
   "source": [
    "test['predict'] = test.mapped_text.apply(lambda x: predict(x))"
   ]
  },
  {
   "cell_type": "code",
   "execution_count": 33,
   "metadata": {},
   "outputs": [
    {
     "data": {
      "text/html": [
       "<div>\n",
       "<style scoped>\n",
       "    .dataframe tbody tr th:only-of-type {\n",
       "        vertical-align: middle;\n",
       "    }\n",
       "\n",
       "    .dataframe tbody tr th {\n",
       "        vertical-align: top;\n",
       "    }\n",
       "\n",
       "    .dataframe thead th {\n",
       "        text-align: right;\n",
       "    }\n",
       "</style>\n",
       "<table border=\"1\" class=\"dataframe\">\n",
       "  <thead>\n",
       "    <tr style=\"text-align: right;\">\n",
       "      <th></th>\n",
       "      <th>id</th>\n",
       "      <th>text</th>\n",
       "      <th>label</th>\n",
       "      <th>mapped_text</th>\n",
       "      <th>predict</th>\n",
       "    </tr>\n",
       "  </thead>\n",
       "  <tbody>\n",
       "    <tr>\n",
       "      <th>0</th>\n",
       "      <td>3</td>\n",
       "      <td>trump ob even obama name cod website image chr...</td>\n",
       "      <td>1</td>\n",
       "      <td>[54182, 66257, 41368, 59591, 62928, 65455, 118...</td>\n",
       "      <td>1</td>\n",
       "    </tr>\n",
       "    <tr>\n",
       "      <th>1</th>\n",
       "      <td>13</td>\n",
       "      <td>watch lindsey graham trash medium portray trum...</td>\n",
       "      <td>1</td>\n",
       "      <td>[26996, 57148, 81522, 38776, 88853, 750, 54182...</td>\n",
       "      <td>1</td>\n",
       "    </tr>\n",
       "    <tr>\n",
       "      <th>2</th>\n",
       "      <td>24</td>\n",
       "      <td>white house sexist trump slut shame sen kirste...</td>\n",
       "      <td>1</td>\n",
       "      <td>[36853, 25988, 85201, 54182, 40361, 88105, 652...</td>\n",
       "      <td>1</td>\n",
       "    </tr>\n",
       "    <tr>\n",
       "      <th>3</th>\n",
       "      <td>25</td>\n",
       "      <td>despicable trump suggest female senator would ...</td>\n",
       "      <td>1</td>\n",
       "      <td>[69784, 54182, 67885, 14045, 9059, 19854, 7146...</td>\n",
       "      <td>1</td>\n",
       "    </tr>\n",
       "    <tr>\n",
       "      <th>4</th>\n",
       "      <td>31</td>\n",
       "      <td>watch proof trump unfit service new question a...</td>\n",
       "      <td>1</td>\n",
       "      <td>[26996, 86600, 54182, 45450, 47423, 5944, 3730...</td>\n",
       "      <td>1</td>\n",
       "    </tr>\n",
       "    <tr>\n",
       "      <th>...</th>\n",
       "      <td>...</td>\n",
       "      <td>...</td>\n",
       "      <td>...</td>\n",
       "      <td>...</td>\n",
       "      <td>...</td>\n",
       "    </tr>\n",
       "    <tr>\n",
       "      <th>8975</th>\n",
       "      <td>44882</td>\n",
       "      <td>argentina labor union protest job loss macri p...</td>\n",
       "      <td>0</td>\n",
       "      <td>[2536, 83645, 31429, 501, 56884, 73374, 8488, ...</td>\n",
       "      <td>0</td>\n",
       "    </tr>\n",
       "    <tr>\n",
       "      <th>8976</th>\n",
       "      <td>44885</td>\n",
       "      <td>exclusive u withhold million egypt aid washing...</td>\n",
       "      <td>0</td>\n",
       "      <td>[31655, 76408, 39678, 71336, 39139, 46678, 881...</td>\n",
       "      <td>0</td>\n",
       "    </tr>\n",
       "    <tr>\n",
       "      <th>8977</th>\n",
       "      <td>44890</td>\n",
       "      <td>u north korea clash u n arm forum nuclear thre...</td>\n",
       "      <td>0</td>\n",
       "      <td>[76408, 25509, 88797, 51303, 76408, 11621, 200...</td>\n",
       "      <td>0</td>\n",
       "    </tr>\n",
       "    <tr>\n",
       "      <th>8978</th>\n",
       "      <td>44891</td>\n",
       "      <td>headless torso could belong submarine journali...</td>\n",
       "      <td>0</td>\n",
       "      <td>[11363, 66650, 82571, 12015, 72084, 32767, 882...</td>\n",
       "      <td>0</td>\n",
       "    </tr>\n",
       "    <tr>\n",
       "      <th>8979</th>\n",
       "      <td>44897</td>\n",
       "      <td>indonesia buy billion worth russian jet jakart...</td>\n",
       "      <td>0</td>\n",
       "      <td>[6082, 34280, 50172, 53421, 62830, 49931, 6677...</td>\n",
       "      <td>0</td>\n",
       "    </tr>\n",
       "  </tbody>\n",
       "</table>\n",
       "<p>8980 rows × 5 columns</p>\n",
       "</div>"
      ],
      "text/plain": [
       "         id                                               text  label  \\\n",
       "0         3  trump ob even obama name cod website image chr...      1   \n",
       "1        13  watch lindsey graham trash medium portray trum...      1   \n",
       "2        24  white house sexist trump slut shame sen kirste...      1   \n",
       "3        25  despicable trump suggest female senator would ...      1   \n",
       "4        31  watch proof trump unfit service new question a...      1   \n",
       "...     ...                                                ...    ...   \n",
       "8975  44882  argentina labor union protest job loss macri p...      0   \n",
       "8976  44885  exclusive u withhold million egypt aid washing...      0   \n",
       "8977  44890  u north korea clash u n arm forum nuclear thre...      0   \n",
       "8978  44891  headless torso could belong submarine journali...      0   \n",
       "8979  44897  indonesia buy billion worth russian jet jakart...      0   \n",
       "\n",
       "                                            mapped_text  predict  \n",
       "0     [54182, 66257, 41368, 59591, 62928, 65455, 118...        1  \n",
       "1     [26996, 57148, 81522, 38776, 88853, 750, 54182...        1  \n",
       "2     [36853, 25988, 85201, 54182, 40361, 88105, 652...        1  \n",
       "3     [69784, 54182, 67885, 14045, 9059, 19854, 7146...        1  \n",
       "4     [26996, 86600, 54182, 45450, 47423, 5944, 3730...        1  \n",
       "...                                                 ...      ...  \n",
       "8975  [2536, 83645, 31429, 501, 56884, 73374, 8488, ...        0  \n",
       "8976  [31655, 76408, 39678, 71336, 39139, 46678, 881...        0  \n",
       "8977  [76408, 25509, 88797, 51303, 76408, 11621, 200...        0  \n",
       "8978  [11363, 66650, 82571, 12015, 72084, 32767, 882...        0  \n",
       "8979  [6082, 34280, 50172, 53421, 62830, 49931, 6677...        0  \n",
       "\n",
       "[8980 rows x 5 columns]"
      ]
     },
     "execution_count": 33,
     "metadata": {},
     "output_type": "execute_result"
    }
   ],
   "source": [
    "test"
   ]
  },
  {
   "cell_type": "code",
   "execution_count": 34,
   "metadata": {},
   "outputs": [
    {
     "data": {
      "text/html": [
       "<div>\n",
       "<style scoped>\n",
       "    .dataframe tbody tr th:only-of-type {\n",
       "        vertical-align: middle;\n",
       "    }\n",
       "\n",
       "    .dataframe tbody tr th {\n",
       "        vertical-align: top;\n",
       "    }\n",
       "\n",
       "    .dataframe thead th {\n",
       "        text-align: right;\n",
       "    }\n",
       "</style>\n",
       "<table border=\"1\" class=\"dataframe\">\n",
       "  <thead>\n",
       "    <tr style=\"text-align: right;\">\n",
       "      <th></th>\n",
       "      <th>id</th>\n",
       "      <th>text</th>\n",
       "      <th>label</th>\n",
       "      <th>mapped_text</th>\n",
       "      <th>predict</th>\n",
       "    </tr>\n",
       "  </thead>\n",
       "  <tbody>\n",
       "    <tr>\n",
       "      <th>84</th>\n",
       "      <td>404</td>\n",
       "      <td>two florida lawmaker vote hurricane relief irm...</td>\n",
       "      <td>1</td>\n",
       "      <td>[77333, 31414, 12763, 45099, 47267, 37998, 869...</td>\n",
       "      <td>0</td>\n",
       "    </tr>\n",
       "    <tr>\n",
       "      <th>184</th>\n",
       "      <td>881</td>\n",
       "      <td>world leader decide need u move forward climat...</td>\n",
       "      <td>1</td>\n",
       "      <td>[31477, 3821, 53922, 72661, 76408, 20276, 3997...</td>\n",
       "      <td>0</td>\n",
       "    </tr>\n",
       "    <tr>\n",
       "      <th>258</th>\n",
       "      <td>1261</td>\n",
       "      <td>trump take another major step toward u longer ...</td>\n",
       "      <td>1</td>\n",
       "      <td>[54182, 15503, 18423, 8298, 56890, 14384, 7640...</td>\n",
       "      <td>0</td>\n",
       "    </tr>\n",
       "    <tr>\n",
       "      <th>277</th>\n",
       "      <td>1371</td>\n",
       "      <td>already happen dapl spew oil multiple leak con...</td>\n",
       "      <td>1</td>\n",
       "      <td>[72597, 44821, 73180, 70400, 80572, 38463, 868...</td>\n",
       "      <td>0</td>\n",
       "    </tr>\n",
       "    <tr>\n",
       "      <th>291</th>\n",
       "      <td>1433</td>\n",
       "      <td>putin claim transcript white house meet availa...</td>\n",
       "      <td>1</td>\n",
       "      <td>[66710, 49441, 17081, 36853, 25988, 86831, 696...</td>\n",
       "      <td>0</td>\n",
       "    </tr>\n",
       "    <tr>\n",
       "      <th>...</th>\n",
       "      <td>...</td>\n",
       "      <td>...</td>\n",
       "      <td>...</td>\n",
       "      <td>...</td>\n",
       "      <td>...</td>\n",
       "    </tr>\n",
       "    <tr>\n",
       "      <th>8566</th>\n",
       "      <td>42876</td>\n",
       "      <td>australian police charge man attack former pm ...</td>\n",
       "      <td>0</td>\n",
       "      <td>[77213, 58414, 18667, 52381, 51687, 80700, 330...</td>\n",
       "      <td>1</td>\n",
       "    </tr>\n",
       "    <tr>\n",
       "      <th>8712</th>\n",
       "      <td>43692</td>\n",
       "      <td>uk police release new image jogger london bus ...</td>\n",
       "      <td>0</td>\n",
       "      <td>[85998, 58414, 19837, 5944, 56339, 2042, 30103...</td>\n",
       "      <td>1</td>\n",
       "    </tr>\n",
       "    <tr>\n",
       "      <th>8772</th>\n",
       "      <td>43948</td>\n",
       "      <td>irma evacuee find full hotel warm welcome geor...</td>\n",
       "      <td>0</td>\n",
       "      <td>[86930, 327, 8014, 28192, 62756, 43399, 81186,...</td>\n",
       "      <td>1</td>\n",
       "    </tr>\n",
       "    <tr>\n",
       "      <th>8784</th>\n",
       "      <td>44014</td>\n",
       "      <td>manchester concert venue shatter bomb attack r...</td>\n",
       "      <td>0</td>\n",
       "      <td>[39088, 28324, 60727, 37133, 64583, 51687, 611...</td>\n",
       "      <td>1</td>\n",
       "    </tr>\n",
       "    <tr>\n",
       "      <th>8940</th>\n",
       "      <td>44734</td>\n",
       "      <td>trump attack freedom press u n right bos genev...</td>\n",
       "      <td>0</td>\n",
       "      <td>[54182, 51687, 54595, 27892, 76408, 11621, 107...</td>\n",
       "      <td>1</td>\n",
       "    </tr>\n",
       "  </tbody>\n",
       "</table>\n",
       "<p>413 rows × 5 columns</p>\n",
       "</div>"
      ],
      "text/plain": [
       "         id                                               text  label  \\\n",
       "84      404  two florida lawmaker vote hurricane relief irm...      1   \n",
       "184     881  world leader decide need u move forward climat...      1   \n",
       "258    1261  trump take another major step toward u longer ...      1   \n",
       "277    1371  already happen dapl spew oil multiple leak con...      1   \n",
       "291    1433  putin claim transcript white house meet availa...      1   \n",
       "...     ...                                                ...    ...   \n",
       "8566  42876  australian police charge man attack former pm ...      0   \n",
       "8712  43692  uk police release new image jogger london bus ...      0   \n",
       "8772  43948  irma evacuee find full hotel warm welcome geor...      0   \n",
       "8784  44014  manchester concert venue shatter bomb attack r...      0   \n",
       "8940  44734  trump attack freedom press u n right bos genev...      0   \n",
       "\n",
       "                                            mapped_text  predict  \n",
       "84    [77333, 31414, 12763, 45099, 47267, 37998, 869...        0  \n",
       "184   [31477, 3821, 53922, 72661, 76408, 20276, 3997...        0  \n",
       "258   [54182, 15503, 18423, 8298, 56890, 14384, 7640...        0  \n",
       "277   [72597, 44821, 73180, 70400, 80572, 38463, 868...        0  \n",
       "291   [66710, 49441, 17081, 36853, 25988, 86831, 696...        0  \n",
       "...                                                 ...      ...  \n",
       "8566  [77213, 58414, 18667, 52381, 51687, 80700, 330...        1  \n",
       "8712  [85998, 58414, 19837, 5944, 56339, 2042, 30103...        1  \n",
       "8772  [86930, 327, 8014, 28192, 62756, 43399, 81186,...        1  \n",
       "8784  [39088, 28324, 60727, 37133, 64583, 51687, 611...        1  \n",
       "8940  [54182, 51687, 54595, 27892, 76408, 11621, 107...        1  \n",
       "\n",
       "[413 rows x 5 columns]"
      ]
     },
     "execution_count": 34,
     "metadata": {},
     "output_type": "execute_result"
    }
   ],
   "source": [
    "test.loc[test['label']!=test['predict']]"
   ]
  },
  {
   "cell_type": "code",
   "execution_count": 231,
   "metadata": {},
   "outputs": [
    {
     "name": "stdout",
     "output_type": "stream",
     "text": [
      "Accuracy: 96.37%\n"
     ]
    }
   ],
   "source": [
    "err = round((1-(test.loc[test['label']!=test['predict']].shape[0]/test.shape[0]))*100,2)\n",
    "print('Accuracy:', str(err) + '%')"
   ]
  },
  {
   "cell_type": "markdown",
   "metadata": {},
   "source": [
    "#### Prediction over Train Set"
   ]
  },
  {
   "cell_type": "code",
   "execution_count": 36,
   "metadata": {},
   "outputs": [],
   "source": [
    "train['predict'] = train.mapped_text.apply(lambda x: predict(x))"
   ]
  },
  {
   "cell_type": "code",
   "execution_count": 37,
   "metadata": {},
   "outputs": [
    {
     "data": {
      "text/html": [
       "<div>\n",
       "<style scoped>\n",
       "    .dataframe tbody tr th:only-of-type {\n",
       "        vertical-align: middle;\n",
       "    }\n",
       "\n",
       "    .dataframe tbody tr th {\n",
       "        vertical-align: top;\n",
       "    }\n",
       "\n",
       "    .dataframe thead th {\n",
       "        text-align: right;\n",
       "    }\n",
       "</style>\n",
       "<table border=\"1\" class=\"dataframe\">\n",
       "  <thead>\n",
       "    <tr style=\"text-align: right;\">\n",
       "      <th></th>\n",
       "      <th>id</th>\n",
       "      <th>text</th>\n",
       "      <th>label</th>\n",
       "      <th>mapped_text</th>\n",
       "      <th>predict</th>\n",
       "    </tr>\n",
       "  </thead>\n",
       "  <tbody>\n",
       "    <tr>\n",
       "      <th>14</th>\n",
       "      <td>32999</td>\n",
       "      <td>boston men jail trump inspire hate crime attac...</td>\n",
       "      <td>0</td>\n",
       "      <td>[40422, 16555, 86482, 54182, 316, 65927, 43479...</td>\n",
       "      <td>1</td>\n",
       "    </tr>\n",
       "    <tr>\n",
       "      <th>52</th>\n",
       "      <td>33318</td>\n",
       "      <td>u capitol replace flag display confederate ima...</td>\n",
       "      <td>0</td>\n",
       "      <td>[76408, 30891, 5294, 35714, 39391, 69333, 1445...</td>\n",
       "      <td>1</td>\n",
       "    </tr>\n",
       "    <tr>\n",
       "      <th>62</th>\n",
       "      <td>20368</td>\n",
       "      <td>iceland stun election anti establishment polit...</td>\n",
       "      <td>1</td>\n",
       "      <td>[80843, 82841, 74567, 45424, 80096, 3606, 8621...</td>\n",
       "      <td>0</td>\n",
       "    </tr>\n",
       "    <tr>\n",
       "      <th>66</th>\n",
       "      <td>1787</td>\n",
       "      <td>break trump play fire bring u one step closer ...</td>\n",
       "      <td>1</td>\n",
       "      <td>[30984, 54182, 10943, 18564, 7379, 76408, 7751...</td>\n",
       "      <td>0</td>\n",
       "    </tr>\n",
       "    <tr>\n",
       "      <th>67</th>\n",
       "      <td>17484</td>\n",
       "      <td>obama corrupt inner circle desperately fight p...</td>\n",
       "      <td>1</td>\n",
       "      <td>[59591, 47066, 43861, 59521, 69628, 20239, 366...</td>\n",
       "      <td>0</td>\n",
       "    </tr>\n",
       "    <tr>\n",
       "      <th>...</th>\n",
       "      <td>...</td>\n",
       "      <td>...</td>\n",
       "      <td>...</td>\n",
       "      <td>...</td>\n",
       "      <td>...</td>\n",
       "    </tr>\n",
       "    <tr>\n",
       "      <th>35871</th>\n",
       "      <td>21043</td>\n",
       "      <td>germany angela merkel make incredibly naive an...</td>\n",
       "      <td>1</td>\n",
       "      <td>[37492, 9074, 31647, 76362, 42341, 9887, 5929,...</td>\n",
       "      <td>0</td>\n",
       "    </tr>\n",
       "    <tr>\n",
       "      <th>35873</th>\n",
       "      <td>31028</td>\n",
       "      <td>trump hustle stage nevada security agent reno ...</td>\n",
       "      <td>0</td>\n",
       "      <td>[54182, 64980, 86269, 74561, 11645, 32395, 339...</td>\n",
       "      <td>1</td>\n",
       "    </tr>\n",
       "    <tr>\n",
       "      <th>35896</th>\n",
       "      <td>25602</td>\n",
       "      <td>trump blast republican senator moral equivalen...</td>\n",
       "      <td>0</td>\n",
       "      <td>[54182, 24086, 84149, 9059, 13030, 79821, 2096...</td>\n",
       "      <td>1</td>\n",
       "    </tr>\n",
       "    <tr>\n",
       "      <th>35906</th>\n",
       "      <td>32127</td>\n",
       "      <td>democrat disarray eve convention nominate clin...</td>\n",
       "      <td>0</td>\n",
       "      <td>[64917, 34908, 34022, 10526, 44390, 71, 64605,...</td>\n",
       "      <td>1</td>\n",
       "    </tr>\n",
       "    <tr>\n",
       "      <th>35913</th>\n",
       "      <td>20566</td>\n",
       "      <td>sin socialism doctor pump air infant lung hand...</td>\n",
       "      <td>1</td>\n",
       "      <td>[68878, 51534, 23182, 17517, 39564, 70213, 287...</td>\n",
       "      <td>0</td>\n",
       "    </tr>\n",
       "  </tbody>\n",
       "</table>\n",
       "<p>1519 rows × 5 columns</p>\n",
       "</div>"
      ],
      "text/plain": [
       "          id                                               text  label  \\\n",
       "14     32999  boston men jail trump inspire hate crime attac...      0   \n",
       "52     33318  u capitol replace flag display confederate ima...      0   \n",
       "62     20368  iceland stun election anti establishment polit...      1   \n",
       "66      1787  break trump play fire bring u one step closer ...      1   \n",
       "67     17484  obama corrupt inner circle desperately fight p...      1   \n",
       "...      ...                                                ...    ...   \n",
       "35871  21043  germany angela merkel make incredibly naive an...      1   \n",
       "35873  31028  trump hustle stage nevada security agent reno ...      0   \n",
       "35896  25602  trump blast republican senator moral equivalen...      0   \n",
       "35906  32127  democrat disarray eve convention nominate clin...      0   \n",
       "35913  20566  sin socialism doctor pump air infant lung hand...      1   \n",
       "\n",
       "                                             mapped_text  predict  \n",
       "14     [40422, 16555, 86482, 54182, 316, 65927, 43479...        1  \n",
       "52     [76408, 30891, 5294, 35714, 39391, 69333, 1445...        1  \n",
       "62     [80843, 82841, 74567, 45424, 80096, 3606, 8621...        0  \n",
       "66     [30984, 54182, 10943, 18564, 7379, 76408, 7751...        0  \n",
       "67     [59591, 47066, 43861, 59521, 69628, 20239, 366...        0  \n",
       "...                                                  ...      ...  \n",
       "35871  [37492, 9074, 31647, 76362, 42341, 9887, 5929,...        0  \n",
       "35873  [54182, 64980, 86269, 74561, 11645, 32395, 339...        1  \n",
       "35896  [54182, 24086, 84149, 9059, 13030, 79821, 2096...        1  \n",
       "35906  [64917, 34908, 34022, 10526, 44390, 71, 64605,...        1  \n",
       "35913  [68878, 51534, 23182, 17517, 39564, 70213, 287...        0  \n",
       "\n",
       "[1519 rows x 5 columns]"
      ]
     },
     "execution_count": 37,
     "metadata": {},
     "output_type": "execute_result"
    }
   ],
   "source": [
    "train.loc[train['label']!=train['predict']]"
   ]
  },
  {
   "cell_type": "code",
   "execution_count": 230,
   "metadata": {},
   "outputs": [
    {
     "name": "stdout",
     "output_type": "stream",
     "text": [
      "Accuracy: 96.52%\n"
     ]
    }
   ],
   "source": [
    "err = round((1-(train.loc[train['label']!=train['predict']].shape[0]/train.shape[0]))*100,2)\n",
    "print('Accuracy:', str(err) + '%')"
   ]
  },
  {
   "cell_type": "markdown",
   "metadata": {},
   "source": [
    "### Confusion Matrix"
   ]
  },
  {
   "cell_type": "code",
   "execution_count": 232,
   "metadata": {},
   "outputs": [],
   "source": [
    "from sklearn.metrics import confusion_matrix\n",
    "import seaborn as sns\n",
    "import matplotlib.pyplot as plt   "
   ]
  },
  {
   "cell_type": "code",
   "execution_count": 49,
   "metadata": {},
   "outputs": [
    {
     "data": {
      "text/plain": [
       "array([[4027,  213],\n",
       "       [ 200, 4540]])"
      ]
     },
     "execution_count": 49,
     "metadata": {},
     "output_type": "execute_result"
    }
   ],
   "source": [
    "y_true = test.label\n",
    "y_predicted = test.predict\n",
    "df_confusion = confusion_matrix(y_true, y_predicted)\n",
    "df_confusion"
   ]
  },
  {
   "cell_type": "code",
   "execution_count": 107,
   "metadata": {
    "scrolled": false
   },
   "outputs": [
    {
     "data": {
      "image/png": "[encoded data removed]",
      "text/plain": [
       "<Figure size 720x576 with 2 Axes>"
      ]
     },
     "metadata": {
      "needs_background": "light"
     },
     "output_type": "display_data"
    }
   ],
   "source": [
    "fig, ax = plt.subplots(figsize=(10,8))\n",
    "sns.heatmap(df_confusion, annot=True, fmt = 'd', ax = ax, cmap = 'Reds'); \n",
    "\n",
    "ax.set_xlabel('True labels');ax.set_ylabel('Predicted labels'); \n",
    "ax.set_title('Confusion Matrix'); \n",
    "ax.xaxis.set_ticklabels(['Fake', 'True']); ax.yaxis.set_ticklabels(['True', 'Fake']);"
   ]
  },
  {
   "cell_type": "markdown",
   "metadata": {},
   "source": [
    "## Naïve Bayes: Multivariate Bernoulli"
   ]
  },
  {
   "cell_type": "code",
   "execution_count": 211,
   "metadata": {
    "scrolled": false
   },
   "outputs": [
    {
     "data": {
      "text/html": [
       "<div>\n",
       "<style scoped>\n",
       "    .dataframe tbody tr th:only-of-type {\n",
       "        vertical-align: middle;\n",
       "    }\n",
       "\n",
       "    .dataframe tbody tr th {\n",
       "        vertical-align: top;\n",
       "    }\n",
       "\n",
       "    .dataframe thead th {\n",
       "        text-align: right;\n",
       "    }\n",
       "</style>\n",
       "<table border=\"1\" class=\"dataframe\">\n",
       "  <thead>\n",
       "    <tr style=\"text-align: right;\">\n",
       "      <th></th>\n",
       "      <th>id</th>\n",
       "      <th>text</th>\n",
       "      <th>label</th>\n",
       "    </tr>\n",
       "  </thead>\n",
       "  <tbody>\n",
       "    <tr>\n",
       "      <th>0</th>\n",
       "      <td>30346</td>\n",
       "      <td>nobel laureate say trump policy may lead budge...</td>\n",
       "      <td>0</td>\n",
       "    </tr>\n",
       "    <tr>\n",
       "      <th>1</th>\n",
       "      <td>33007</td>\n",
       "      <td>bet trump win north korea h bomb prediction si...</td>\n",
       "      <td>0</td>\n",
       "    </tr>\n",
       "    <tr>\n",
       "      <th>2</th>\n",
       "      <td>16912</td>\n",
       "      <td>obama communist environmental arm tell kid red...</td>\n",
       "      <td>1</td>\n",
       "    </tr>\n",
       "    <tr>\n",
       "      <th>3</th>\n",
       "      <td>24392</td>\n",
       "      <td>house tax panel chair corporate tax cut may ta...</td>\n",
       "      <td>0</td>\n",
       "    </tr>\n",
       "    <tr>\n",
       "      <th>4</th>\n",
       "      <td>21239</td>\n",
       "      <td>british tv personality blame trump muslim ban ...</td>\n",
       "      <td>1</td>\n",
       "    </tr>\n",
       "  </tbody>\n",
       "</table>\n",
       "</div>"
      ],
      "text/plain": [
       "      id                                               text  label\n",
       "0  30346  nobel laureate say trump policy may lead budge...      0\n",
       "1  33007  bet trump win north korea h bomb prediction si...      0\n",
       "2  16912  obama communist environmental arm tell kid red...      1\n",
       "3  24392  house tax panel chair corporate tax cut may ta...      0\n",
       "4  21239  british tv personality blame trump muslim ban ...      1"
      ]
     },
     "execution_count": 211,
     "metadata": {},
     "output_type": "execute_result"
    }
   ],
   "source": [
    "train = pd.read_csv('train.csv')\n",
    "train.rename(columns={'Unnamed: 0': 'id'}, inplace=True) \n",
    "train.head()"
   ]
  },
  {
   "cell_type": "code",
   "execution_count": 212,
   "metadata": {},
   "outputs": [
    {
     "data": {
      "text/html": [
       "<div>\n",
       "<style scoped>\n",
       "    .dataframe tbody tr th:only-of-type {\n",
       "        vertical-align: middle;\n",
       "    }\n",
       "\n",
       "    .dataframe tbody tr th {\n",
       "        vertical-align: top;\n",
       "    }\n",
       "\n",
       "    .dataframe thead th {\n",
       "        text-align: right;\n",
       "    }\n",
       "</style>\n",
       "<table border=\"1\" class=\"dataframe\">\n",
       "  <thead>\n",
       "    <tr style=\"text-align: right;\">\n",
       "      <th></th>\n",
       "      <th>id</th>\n",
       "      <th>text</th>\n",
       "      <th>label</th>\n",
       "    </tr>\n",
       "  </thead>\n",
       "  <tbody>\n",
       "    <tr>\n",
       "      <th>0</th>\n",
       "      <td>3</td>\n",
       "      <td>trump ob even obama name cod website image chr...</td>\n",
       "      <td>1</td>\n",
       "    </tr>\n",
       "    <tr>\n",
       "      <th>1</th>\n",
       "      <td>13</td>\n",
       "      <td>watch lindsey graham trash medium portray trum...</td>\n",
       "      <td>1</td>\n",
       "    </tr>\n",
       "    <tr>\n",
       "      <th>2</th>\n",
       "      <td>24</td>\n",
       "      <td>white house sexist trump slut shame sen kirste...</td>\n",
       "      <td>1</td>\n",
       "    </tr>\n",
       "    <tr>\n",
       "      <th>3</th>\n",
       "      <td>25</td>\n",
       "      <td>despicable trump suggest female senator would ...</td>\n",
       "      <td>1</td>\n",
       "    </tr>\n",
       "    <tr>\n",
       "      <th>4</th>\n",
       "      <td>31</td>\n",
       "      <td>watch proof trump unfit service new question a...</td>\n",
       "      <td>1</td>\n",
       "    </tr>\n",
       "  </tbody>\n",
       "</table>\n",
       "</div>"
      ],
      "text/plain": [
       "   id                                               text  label\n",
       "0   3  trump ob even obama name cod website image chr...      1\n",
       "1  13  watch lindsey graham trash medium portray trum...      1\n",
       "2  24  white house sexist trump slut shame sen kirste...      1\n",
       "3  25  despicable trump suggest female senator would ...      1\n",
       "4  31  watch proof trump unfit service new question a...      1"
      ]
     },
     "execution_count": 212,
     "metadata": {},
     "output_type": "execute_result"
    }
   ],
   "source": [
    "test = pd.read_csv('test.csv')\n",
    "test.rename(columns={'Unnamed: 0': 'id'}, inplace=True) \n",
    "test.head()"
   ]
  },
  {
   "cell_type": "code",
   "execution_count": 213,
   "metadata": {},
   "outputs": [],
   "source": [
    "train_0 = train.loc[train['label']==0]\n",
    "train_1 = train.loc[train['label']==1]"
   ]
  },
  {
   "cell_type": "markdown",
   "metadata": {},
   "source": [
    "### Definition of parameters"
   ]
  },
  {
   "cell_type": "code",
   "execution_count": null,
   "metadata": {},
   "outputs": [],
   "source": [
    "phi_y_1 = train['label'].sum()/len(train)\n",
    "phi_y_0 = 1 - phi_y_1"
   ]
  },
  {
   "cell_type": "code",
   "execution_count": 214,
   "metadata": {},
   "outputs": [],
   "source": [
    "def zeros():\n",
    "    return 0\n",
    "\n",
    "d_1 = defaultdict(zeros)\n",
    "d_0 = defaultdict(zeros)"
   ]
  },
  {
   "cell_type": "code",
   "execution_count": null,
   "metadata": {},
   "outputs": [],
   "source": [
    "def create_dict(text,d,length):\n",
    "    for word in set(text.split()):\n",
    "        d[word]+=1/(length + 2)"
   ]
  },
  {
   "cell_type": "code",
   "execution_count": 215,
   "metadata": {},
   "outputs": [],
   "source": [
    "train_0.text.apply(lambda x: create_dict(x,d_0,len(train_0)))\n",
    "phi_0 = d_0"
   ]
  },
  {
   "cell_type": "code",
   "execution_count": 216,
   "metadata": {},
   "outputs": [],
   "source": [
    "train_1.text.apply(lambda x: create_dict(x,d_1,len(train_1)))\n",
    "phi_1 = d_1"
   ]
  },
  {
   "cell_type": "markdown",
   "metadata": {},
   "source": [
    "### Testing"
   ]
  },
  {
   "cell_type": "code",
   "execution_count": 217,
   "metadata": {},
   "outputs": [],
   "source": [
    "def predict(text):\n",
    "    \n",
    "    phi_0_test = np.log(phi_y_0)\n",
    "    phi_1_test = np.log(phi_y_1)\n",
    "    \n",
    "\n",
    "    for word in set(text.split()):\n",
    "        if word in d_0.keys():\n",
    "            phi_0_test += np.log(phi_0[word])\n",
    "        else:\n",
    "            phi_0_test += np.log(1/(len(train_0)+2))\n",
    "            \n",
    "        if word in d_1.keys():\n",
    "            phi_1_test += np.log(phi_1[word])\n",
    "        else:   \n",
    "            phi_1_test += np.log(1/(len(train_1)+2)) \n",
    "                \n",
    "    if phi_0_test > phi_1_test:\n",
    "        return 0\n",
    "    return 1"
   ]
  },
  {
   "cell_type": "markdown",
   "metadata": {},
   "source": [
    "#### Prediction over Test Set"
   ]
  },
  {
   "cell_type": "code",
   "execution_count": 218,
   "metadata": {},
   "outputs": [],
   "source": [
    "test['predict'] = test.text.apply(lambda x: predict(x))"
   ]
  },
  {
   "cell_type": "code",
   "execution_count": 220,
   "metadata": {},
   "outputs": [
    {
     "data": {
      "text/html": [
       "<div>\n",
       "<style scoped>\n",
       "    .dataframe tbody tr th:only-of-type {\n",
       "        vertical-align: middle;\n",
       "    }\n",
       "\n",
       "    .dataframe tbody tr th {\n",
       "        vertical-align: top;\n",
       "    }\n",
       "\n",
       "    .dataframe thead th {\n",
       "        text-align: right;\n",
       "    }\n",
       "</style>\n",
       "<table border=\"1\" class=\"dataframe\">\n",
       "  <thead>\n",
       "    <tr style=\"text-align: right;\">\n",
       "      <th></th>\n",
       "      <th>id</th>\n",
       "      <th>text</th>\n",
       "      <th>label</th>\n",
       "      <th>predict</th>\n",
       "    </tr>\n",
       "  </thead>\n",
       "  <tbody>\n",
       "    <tr>\n",
       "      <th>184</th>\n",
       "      <td>881</td>\n",
       "      <td>world leader decide need u move forward climat...</td>\n",
       "      <td>1</td>\n",
       "      <td>0</td>\n",
       "    </tr>\n",
       "    <tr>\n",
       "      <th>258</th>\n",
       "      <td>1261</td>\n",
       "      <td>trump take another major step toward u longer ...</td>\n",
       "      <td>1</td>\n",
       "      <td>0</td>\n",
       "    </tr>\n",
       "    <tr>\n",
       "      <th>392</th>\n",
       "      <td>1927</td>\n",
       "      <td>report trump cost america billion tourism reve...</td>\n",
       "      <td>1</td>\n",
       "      <td>0</td>\n",
       "    </tr>\n",
       "    <tr>\n",
       "      <th>1864</th>\n",
       "      <td>9092</td>\n",
       "      <td>trump end free money train pakistan refuse sto...</td>\n",
       "      <td>1</td>\n",
       "      <td>0</td>\n",
       "    </tr>\n",
       "    <tr>\n",
       "      <th>1872</th>\n",
       "      <td>9113</td>\n",
       "      <td>israel name new train station near western wal...</td>\n",
       "      <td>1</td>\n",
       "      <td>0</td>\n",
       "    </tr>\n",
       "    <tr>\n",
       "      <th>...</th>\n",
       "      <td>...</td>\n",
       "      <td>...</td>\n",
       "      <td>...</td>\n",
       "      <td>...</td>\n",
       "    </tr>\n",
       "    <tr>\n",
       "      <th>8712</th>\n",
       "      <td>43692</td>\n",
       "      <td>uk police release new image jogger london bus ...</td>\n",
       "      <td>0</td>\n",
       "      <td>1</td>\n",
       "    </tr>\n",
       "    <tr>\n",
       "      <th>8718</th>\n",
       "      <td>43738</td>\n",
       "      <td>mexican town woman muxes take charge massive q...</td>\n",
       "      <td>0</td>\n",
       "      <td>1</td>\n",
       "    </tr>\n",
       "    <tr>\n",
       "      <th>8772</th>\n",
       "      <td>43948</td>\n",
       "      <td>irma evacuee find full hotel warm welcome geor...</td>\n",
       "      <td>0</td>\n",
       "      <td>1</td>\n",
       "    </tr>\n",
       "    <tr>\n",
       "      <th>8784</th>\n",
       "      <td>44014</td>\n",
       "      <td>manchester concert venue shatter bomb attack r...</td>\n",
       "      <td>0</td>\n",
       "      <td>1</td>\n",
       "    </tr>\n",
       "    <tr>\n",
       "      <th>8940</th>\n",
       "      <td>44734</td>\n",
       "      <td>trump attack freedom press u n right bos genev...</td>\n",
       "      <td>0</td>\n",
       "      <td>1</td>\n",
       "    </tr>\n",
       "  </tbody>\n",
       "</table>\n",
       "<p>326 rows × 4 columns</p>\n",
       "</div>"
      ],
      "text/plain": [
       "         id                                               text  label  predict\n",
       "184     881  world leader decide need u move forward climat...      1        0\n",
       "258    1261  trump take another major step toward u longer ...      1        0\n",
       "392    1927  report trump cost america billion tourism reve...      1        0\n",
       "1864   9092  trump end free money train pakistan refuse sto...      1        0\n",
       "1872   9113  israel name new train station near western wal...      1        0\n",
       "...     ...                                                ...    ...      ...\n",
       "8712  43692  uk police release new image jogger london bus ...      0        1\n",
       "8718  43738  mexican town woman muxes take charge massive q...      0        1\n",
       "8772  43948  irma evacuee find full hotel warm welcome geor...      0        1\n",
       "8784  44014  manchester concert venue shatter bomb attack r...      0        1\n",
       "8940  44734  trump attack freedom press u n right bos genev...      0        1\n",
       "\n",
       "[326 rows x 4 columns]"
      ]
     },
     "execution_count": 220,
     "metadata": {},
     "output_type": "execute_result"
    }
   ],
   "source": [
    "test.loc[test['label']!=test['predict']]"
   ]
  },
  {
   "cell_type": "code",
   "execution_count": 229,
   "metadata": {},
   "outputs": [
    {
     "name": "stdout",
     "output_type": "stream",
     "text": [
      "Accuracy: 96.37%\n"
     ]
    }
   ],
   "source": [
    "err = round((1-(test.loc[test['label']!=test['predict']].shape[0]/test.shape[0]))*100,2)\n",
    "print('Accuracy:', str(err) + '%')"
   ]
  },
  {
   "cell_type": "markdown",
   "metadata": {},
   "source": [
    "#### Prediction over train set"
   ]
  },
  {
   "cell_type": "code",
   "execution_count": 222,
   "metadata": {},
   "outputs": [],
   "source": [
    "train['predict'] = train.text.apply(lambda x: predict(x))"
   ]
  },
  {
   "cell_type": "code",
   "execution_count": 223,
   "metadata": {},
   "outputs": [
    {
     "data": {
      "text/html": [
       "<div>\n",
       "<style scoped>\n",
       "    .dataframe tbody tr th:only-of-type {\n",
       "        vertical-align: middle;\n",
       "    }\n",
       "\n",
       "    .dataframe tbody tr th {\n",
       "        vertical-align: top;\n",
       "    }\n",
       "\n",
       "    .dataframe thead th {\n",
       "        text-align: right;\n",
       "    }\n",
       "</style>\n",
       "<table border=\"1\" class=\"dataframe\">\n",
       "  <thead>\n",
       "    <tr style=\"text-align: right;\">\n",
       "      <th></th>\n",
       "      <th>id</th>\n",
       "      <th>text</th>\n",
       "      <th>label</th>\n",
       "      <th>predict</th>\n",
       "    </tr>\n",
       "  </thead>\n",
       "  <tbody>\n",
       "    <tr>\n",
       "      <th>7</th>\n",
       "      <td>21783</td>\n",
       "      <td>controversy christian flag engulf small town l...</td>\n",
       "      <td>1</td>\n",
       "      <td>0</td>\n",
       "    </tr>\n",
       "    <tr>\n",
       "      <th>14</th>\n",
       "      <td>32999</td>\n",
       "      <td>boston men jail trump inspire hate crime attac...</td>\n",
       "      <td>0</td>\n",
       "      <td>1</td>\n",
       "    </tr>\n",
       "    <tr>\n",
       "      <th>62</th>\n",
       "      <td>20368</td>\n",
       "      <td>iceland stun election anti establishment polit...</td>\n",
       "      <td>1</td>\n",
       "      <td>0</td>\n",
       "    </tr>\n",
       "    <tr>\n",
       "      <th>67</th>\n",
       "      <td>17484</td>\n",
       "      <td>obama corrupt inner circle desperately fight p...</td>\n",
       "      <td>1</td>\n",
       "      <td>0</td>\n",
       "    </tr>\n",
       "    <tr>\n",
       "      <th>78</th>\n",
       "      <td>32237</td>\n",
       "      <td>protester keep kid away cleveland republican c...</td>\n",
       "      <td>0</td>\n",
       "      <td>1</td>\n",
       "    </tr>\n",
       "    <tr>\n",
       "      <th>...</th>\n",
       "      <td>...</td>\n",
       "      <td>...</td>\n",
       "      <td>...</td>\n",
       "      <td>...</td>\n",
       "    </tr>\n",
       "    <tr>\n",
       "      <th>35786</th>\n",
       "      <td>24667</td>\n",
       "      <td>nfl policy anthem kneel unchanged despite trum...</td>\n",
       "      <td>0</td>\n",
       "      <td>1</td>\n",
       "    </tr>\n",
       "    <tr>\n",
       "      <th>35841</th>\n",
       "      <td>16764</td>\n",
       "      <td>alert flood cuban breeze across texas border t...</td>\n",
       "      <td>1</td>\n",
       "      <td>0</td>\n",
       "    </tr>\n",
       "    <tr>\n",
       "      <th>35871</th>\n",
       "      <td>21043</td>\n",
       "      <td>germany angela merkel make incredibly naive an...</td>\n",
       "      <td>1</td>\n",
       "      <td>0</td>\n",
       "    </tr>\n",
       "    <tr>\n",
       "      <th>35873</th>\n",
       "      <td>31028</td>\n",
       "      <td>trump hustle stage nevada security agent reno ...</td>\n",
       "      <td>0</td>\n",
       "      <td>1</td>\n",
       "    </tr>\n",
       "    <tr>\n",
       "      <th>35906</th>\n",
       "      <td>32127</td>\n",
       "      <td>democrat disarray eve convention nominate clin...</td>\n",
       "      <td>0</td>\n",
       "      <td>1</td>\n",
       "    </tr>\n",
       "  </tbody>\n",
       "</table>\n",
       "<p>1249 rows × 4 columns</p>\n",
       "</div>"
      ],
      "text/plain": [
       "          id                                               text  label  \\\n",
       "7      21783  controversy christian flag engulf small town l...      1   \n",
       "14     32999  boston men jail trump inspire hate crime attac...      0   \n",
       "62     20368  iceland stun election anti establishment polit...      1   \n",
       "67     17484  obama corrupt inner circle desperately fight p...      1   \n",
       "78     32237  protester keep kid away cleveland republican c...      0   \n",
       "...      ...                                                ...    ...   \n",
       "35786  24667  nfl policy anthem kneel unchanged despite trum...      0   \n",
       "35841  16764  alert flood cuban breeze across texas border t...      1   \n",
       "35871  21043  germany angela merkel make incredibly naive an...      1   \n",
       "35873  31028  trump hustle stage nevada security agent reno ...      0   \n",
       "35906  32127  democrat disarray eve convention nominate clin...      0   \n",
       "\n",
       "       predict  \n",
       "7            0  \n",
       "14           1  \n",
       "62           0  \n",
       "67           0  \n",
       "78           1  \n",
       "...        ...  \n",
       "35786        1  \n",
       "35841        0  \n",
       "35871        0  \n",
       "35873        1  \n",
       "35906        1  \n",
       "\n",
       "[1249 rows x 4 columns]"
      ]
     },
     "execution_count": 223,
     "metadata": {},
     "output_type": "execute_result"
    }
   ],
   "source": [
    "train.loc[train['label']!=train['predict']]"
   ]
  },
  {
   "cell_type": "code",
   "execution_count": 228,
   "metadata": {},
   "outputs": [
    {
     "name": "stdout",
     "output_type": "stream",
     "text": [
      "Accuracy: 96.52%\n"
     ]
    }
   ],
   "source": [
    "err = round((1-(train.loc[train['label']!=train['predict']].shape[0]/train.shape[0]))*100,2)\n",
    "print('Accuracy:', str(err) + '%')"
   ]
  },
  {
   "cell_type": "markdown",
   "metadata": {},
   "source": [
    "### Confusion Matrix"
   ]
  },
  {
   "cell_type": "code",
   "execution_count": 233,
   "metadata": {},
   "outputs": [],
   "source": [
    "from sklearn.metrics import confusion_matrix\n",
    "import seaborn as sns\n",
    "import matplotlib.pyplot as plt   "
   ]
  },
  {
   "cell_type": "code",
   "execution_count": 200,
   "metadata": {},
   "outputs": [
    {
     "data": {
      "text/plain": [
       "array([[4031,  209],\n",
       "       [ 117, 4623]])"
      ]
     },
     "execution_count": 200,
     "metadata": {},
     "output_type": "execute_result"
    }
   ],
   "source": [
    "y_true = test.label\n",
    "y_predicted = test.predict\n",
    "df_confusion = confusion_matrix(y_true, y_predicted)\n",
    "df_confusion"
   ]
  },
  {
   "cell_type": "code",
   "execution_count": 202,
   "metadata": {
    "scrolled": false
   },
   "outputs": [
    {
     "data": {
      "image/png": "[encoded data removed]",
      "text/plain": [
       "<Figure size 720x576 with 2 Axes>"
      ]
     },
     "metadata": {
      "needs_background": "light"
     },
     "output_type": "display_data"
    }
   ],
   "source": [
    "fig, ax = plt.subplots(figsize=(10,8))\n",
    "sns.heatmap(df_confusion, annot=True, fmt = 'd', ax = ax, cmap = 'Reds'); \n",
    "\n",
    "ax.set_xlabel('True labels');ax.set_ylabel('Predicted labels'); \n",
    "ax.set_title('Confusion Matrix'); \n",
    "ax.xaxis.set_ticklabels(['Fake', 'True']); ax.yaxis.set_ticklabels(['True', 'Fake']);"
   ]
  }
 ],
 "metadata": {
  "kernelspec": {
   "display_name": "Python 3",
   "language": "python",
   "name": "python3"
  },
  "language_info": {
   "codemirror_mode": {
    "name": "ipython",
    "version": 3
   },
   "file_extension": ".py",
   "mimetype": "text/x-python",
   "name": "python",
   "nbconvert_exporter": "python",
   "pygments_lexer": "ipython3",
   "version": "3.8.3"
  }
 },
 "nbformat": 4,
 "nbformat_minor": 4
}
