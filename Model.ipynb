{
 "cells": [
  {
   "cell_type": "code",
   "execution_count": 1,
   "metadata": {},
   "outputs": [],
   "source": [
    "import pandas as pd\n",
    "import numpy as np\n",
    "import pickle\n",
    "from collections import defaultdict\n",
    "from collections import Counter\n",
    "import math\n",
    "import tqdm\n",
    "import ast"
   ]
  },
  {
   "cell_type": "code",
   "execution_count": 2,
   "metadata": {},
   "outputs": [],
   "source": [
    "#saving dict function\n",
    "def save_dict(obj, name ):\n",
    "    with open(name + '.pkl', 'wb') as f:\n",
    "        pickle.dump(obj, f, pickle.HIGHEST_PROTOCOL)\n",
    "\n",
    "#load dict function\n",
    "def load_obj(name ):\n",
    "    with open(name + '.pkl', 'rb') as f:\n",
    "        return pickle.load(f)"
   ]
  },
  {
   "cell_type": "markdown",
   "metadata": {},
   "source": [
    "## Naïve Bayes Multinomial Event Model"
   ]
  },
  {
   "cell_type": "code",
   "execution_count": 11,
   "metadata": {},
   "outputs": [],
   "source": [
    "train = pd.read_csv('mapped_dataset.csv')  #to read\n",
    "\n",
    "#to maintain the list format\n",
    "train['mapped_text'] = train['mapped_text'].map(ast.literal_eval)\n",
    "\n",
    "train.drop({'Unnamed: 0'},axis=1,inplace=True)"
   ]
  },
  {
   "cell_type": "code",
   "execution_count": 12,
   "metadata": {},
   "outputs": [
    {
     "data": {
      "text/html": [
       "<div>\n",
       "<style scoped>\n",
       "    .dataframe tbody tr th:only-of-type {\n",
       "        vertical-align: middle;\n",
       "    }\n",
       "\n",
       "    .dataframe tbody tr th {\n",
       "        vertical-align: top;\n",
       "    }\n",
       "\n",
       "    .dataframe thead th {\n",
       "        text-align: right;\n",
       "    }\n",
       "</style>\n",
       "<table border=\"1\" class=\"dataframe\">\n",
       "  <thead>\n",
       "    <tr style=\"text-align: right;\">\n",
       "      <th></th>\n",
       "      <th>id</th>\n",
       "      <th>text</th>\n",
       "      <th>label</th>\n",
       "      <th>mapped_text</th>\n",
       "    </tr>\n",
       "  </thead>\n",
       "  <tbody>\n",
       "    <tr>\n",
       "      <th>0</th>\n",
       "      <td>1943</td>\n",
       "      <td>bombshell senate intel committee hear reveal f...</td>\n",
       "      <td>1</td>\n",
       "      <td>[26288, 86478, 26916, 21374, 71869, 21939, 822...</td>\n",
       "    </tr>\n",
       "    <tr>\n",
       "      <th>1</th>\n",
       "      <td>2557</td>\n",
       "      <td>terrorist group openly laud trump idiot brag s...</td>\n",
       "      <td>1</td>\n",
       "      <td>[71953, 4753, 17513, 86987, 21812, 25843, 5777...</td>\n",
       "    </tr>\n",
       "    <tr>\n",
       "      <th>2</th>\n",
       "      <td>11200</td>\n",
       "      <td>senator dick durbin need civics lesson susan r...</td>\n",
       "      <td>1</td>\n",
       "      <td>[87650, 32198, 51043, 80029, 29773, 6081, 6144...</td>\n",
       "    </tr>\n",
       "    <tr>\n",
       "      <th>3</th>\n",
       "      <td>21306</td>\n",
       "      <td>white student union form facebook page organiz...</td>\n",
       "      <td>1</td>\n",
       "      <td>[33214, 7240, 56509, 48542, 6360, 28184, 37945...</td>\n",
       "    </tr>\n",
       "    <tr>\n",
       "      <th>4</th>\n",
       "      <td>30432</td>\n",
       "      <td>factbox contender pick key job trump administr...</td>\n",
       "      <td>0</td>\n",
       "      <td>[38968, 47489, 40571, 31586, 72887, 21812, 568...</td>\n",
       "    </tr>\n",
       "  </tbody>\n",
       "</table>\n",
       "</div>"
      ],
      "text/plain": [
       "      id                                               text  label  \\\n",
       "0   1943  bombshell senate intel committee hear reveal f...      1   \n",
       "1   2557  terrorist group openly laud trump idiot brag s...      1   \n",
       "2  11200  senator dick durbin need civics lesson susan r...      1   \n",
       "3  21306  white student union form facebook page organiz...      1   \n",
       "4  30432  factbox contender pick key job trump administr...      0   \n",
       "\n",
       "                                         mapped_text  \n",
       "0  [26288, 86478, 26916, 21374, 71869, 21939, 822...  \n",
       "1  [71953, 4753, 17513, 86987, 21812, 25843, 5777...  \n",
       "2  [87650, 32198, 51043, 80029, 29773, 6081, 6144...  \n",
       "3  [33214, 7240, 56509, 48542, 6360, 28184, 37945...  \n",
       "4  [38968, 47489, 40571, 31586, 72887, 21812, 568...  "
      ]
     },
     "execution_count": 12,
     "metadata": {},
     "output_type": "execute_result"
    }
   ],
   "source": [
    "train.head()"
   ]
  },
  {
   "cell_type": "code",
   "execution_count": 13,
   "metadata": {},
   "outputs": [],
   "source": [
    "train_0 = train.loc[train['label']==0]\n",
    "train_1 = train.loc[train['label']==1]"
   ]
  },
  {
   "cell_type": "code",
   "execution_count": 50,
   "metadata": {},
   "outputs": [],
   "source": [
    "word_index = load_obj('word_index')"
   ]
  },
  {
   "cell_type": "code",
   "execution_count": 51,
   "metadata": {},
   "outputs": [
    {
     "data": {
      "text/plain": [
       "89369"
      ]
     },
     "execution_count": 51,
     "metadata": {},
     "output_type": "execute_result"
    }
   ],
   "source": [
    "len(word_index)"
   ]
  },
  {
   "cell_type": "code",
   "execution_count": 52,
   "metadata": {},
   "outputs": [],
   "source": [
    "phi_y_1 = train['label'].sum()/len(train)\n",
    "phi_y_0 = 1 - phi_y_1"
   ]
  },
  {
   "cell_type": "code",
   "execution_count": 9,
   "metadata": {},
   "outputs": [],
   "source": [
    "#0 real 1 fake\n",
    "n = len(word_index)\n",
    "\n",
    "phi_0 = np.ones(n) \n",
    "phi_1 = np.ones(n)\n",
    "\n",
    "d_0 = sum([len(i) for i in train_0.mapped_text])\n",
    "d_1 = sum([len(i) for i in train_1.mapped_text])\n",
    "\n",
    "for word, value in word_index.items():\n",
    "    for tup in value:\n",
    "        if tup[2] == 0:\n",
    "            phi_0[word] += tup[1]\n",
    "        else:\n",
    "            phi_1[word] += tup[1]\n",
    "phi_0 = phi_0/(d_0+n)\n",
    "phi_1 = phi_1/(d_1+n)"
   ]
  },
  {
   "cell_type": "code",
   "execution_count": 75,
   "metadata": {},
   "outputs": [
    {
     "data": {
      "text/plain": [
       "(28062994, 32321536)"
      ]
     },
     "execution_count": 75,
     "metadata": {},
     "output_type": "execute_result"
    }
   ],
   "source": [
    "d_0, d_1"
   ]
  },
  {
   "cell_type": "code",
   "execution_count": 18,
   "metadata": {},
   "outputs": [
    {
     "data": {
      "text/plain": [
       "array([2.15976691e-07, 1.54269065e-07, 6.17076259e-08, 6.17076259e-08,\n",
       "       8.94760575e-07, 9.25614388e-08, 3.08538129e-08, 6.17076259e-08,\n",
       "       9.25614388e-08, 3.08538129e-08, 6.17076259e-08, 6.17076259e-08,\n",
       "       3.08538129e-08, 1.51183683e-06, 6.17076259e-08, 1.85122878e-07,\n",
       "       3.08538129e-08, 6.17076259e-08, 2.15976691e-07, 9.25614388e-08,\n",
       "       6.17076259e-08, 9.25614388e-08, 2.77684316e-07, 4.62807194e-07,\n",
       "       3.08538129e-08])"
      ]
     },
     "execution_count": 18,
     "metadata": {},
     "output_type": "execute_result"
    }
   ],
   "source": [
    "phi_1[0:25]"
   ]
  },
  {
   "cell_type": "code",
   "execution_count": 68,
   "metadata": {},
   "outputs": [
    {
     "data": {
      "text/plain": [
       "array([1.77604985e-07, 3.55209969e-08, 3.55209969e-08, 3.55209969e-08,\n",
       "       1.88261284e-06, 3.55209969e-08, 7.10419939e-08, 3.55209969e-08,\n",
       "       3.55209969e-08, 1.42083988e-07, 3.55209969e-08, 3.55209969e-08,\n",
       "       7.10419939e-08, 9.59066917e-07, 3.55209969e-08, 4.61772960e-07,\n",
       "       7.10419939e-08, 7.10419939e-08, 1.42083988e-07, 3.55209969e-08,\n",
       "       3.55209969e-08, 3.55209969e-08, 3.55209969e-08, 3.19688972e-07,\n",
       "       7.10419939e-08])"
      ]
     },
     "execution_count": 68,
     "metadata": {},
     "output_type": "execute_result"
    }
   ],
   "source": [
    "phi_0[0:25]"
   ]
  },
  {
   "cell_type": "markdown",
   "metadata": {},
   "source": [
    "## Testing"
   ]
  },
  {
   "cell_type": "code",
   "execution_count": 26,
   "metadata": {},
   "outputs": [],
   "source": [
    "test = pd.read_csv('test.csv')\n",
    "vocabulary = load_obj('vocabulary')  #to read"
   ]
  },
  {
   "cell_type": "code",
   "execution_count": 20,
   "metadata": {},
   "outputs": [
    {
     "data": {
      "text/html": [
       "<div>\n",
       "<style scoped>\n",
       "    .dataframe tbody tr th:only-of-type {\n",
       "        vertical-align: middle;\n",
       "    }\n",
       "\n",
       "    .dataframe tbody tr th {\n",
       "        vertical-align: top;\n",
       "    }\n",
       "\n",
       "    .dataframe thead th {\n",
       "        text-align: right;\n",
       "    }\n",
       "</style>\n",
       "<table border=\"1\" class=\"dataframe\">\n",
       "  <thead>\n",
       "    <tr style=\"text-align: right;\">\n",
       "      <th></th>\n",
       "      <th>Unnamed: 0</th>\n",
       "      <th>text</th>\n",
       "      <th>label</th>\n",
       "    </tr>\n",
       "  </thead>\n",
       "  <tbody>\n",
       "    <tr>\n",
       "      <th>0</th>\n",
       "      <td>3</td>\n",
       "      <td>trump ob even obama name cod website image chr...</td>\n",
       "      <td>1</td>\n",
       "    </tr>\n",
       "    <tr>\n",
       "      <th>1</th>\n",
       "      <td>12</td>\n",
       "      <td>bad news trump mitch mcconnell say repeal obam...</td>\n",
       "      <td>1</td>\n",
       "    </tr>\n",
       "    <tr>\n",
       "      <th>2</th>\n",
       "      <td>14</td>\n",
       "      <td>heiress disney empire know gop scammed u shred...</td>\n",
       "      <td>1</td>\n",
       "    </tr>\n",
       "    <tr>\n",
       "      <th>3</th>\n",
       "      <td>22</td>\n",
       "      <td>meghan mccain tweet amaze response doug jones ...</td>\n",
       "      <td>1</td>\n",
       "    </tr>\n",
       "    <tr>\n",
       "      <th>4</th>\n",
       "      <td>25</td>\n",
       "      <td>despicable trump suggest female senator would ...</td>\n",
       "      <td>1</td>\n",
       "    </tr>\n",
       "  </tbody>\n",
       "</table>\n",
       "</div>"
      ],
      "text/plain": [
       "   Unnamed: 0                                               text  label\n",
       "0           3  trump ob even obama name cod website image chr...      1\n",
       "1          12  bad news trump mitch mcconnell say repeal obam...      1\n",
       "2          14  heiress disney empire know gop scammed u shred...      1\n",
       "3          22  meghan mccain tweet amaze response doug jones ...      1\n",
       "4          25  despicable trump suggest female senator would ...      1"
      ]
     },
     "execution_count": 20,
     "metadata": {},
     "output_type": "execute_result"
    }
   ],
   "source": [
    "test.head()"
   ]
  },
  {
   "cell_type": "code",
   "execution_count": 32,
   "metadata": {},
   "outputs": [],
   "source": [
    "def mapping_2(text):\n",
    "    text = text.split()\n",
    "    out = [vocabulary[word] if word in vocabulary.keys() else word for word in text]\n",
    "    return out"
   ]
  },
  {
   "cell_type": "code",
   "execution_count": 33,
   "metadata": {},
   "outputs": [],
   "source": [
    "test['mapped_text'] = test.text.apply(lambda x: mapping_2(x))"
   ]
  },
  {
   "cell_type": "code",
   "execution_count": 34,
   "metadata": {},
   "outputs": [
    {
     "data": {
      "text/html": [
       "<div>\n",
       "<style scoped>\n",
       "    .dataframe tbody tr th:only-of-type {\n",
       "        vertical-align: middle;\n",
       "    }\n",
       "\n",
       "    .dataframe tbody tr th {\n",
       "        vertical-align: top;\n",
       "    }\n",
       "\n",
       "    .dataframe thead th {\n",
       "        text-align: right;\n",
       "    }\n",
       "</style>\n",
       "<table border=\"1\" class=\"dataframe\">\n",
       "  <thead>\n",
       "    <tr style=\"text-align: right;\">\n",
       "      <th></th>\n",
       "      <th>Unnamed: 0</th>\n",
       "      <th>text</th>\n",
       "      <th>label</th>\n",
       "      <th>mapped_text</th>\n",
       "    </tr>\n",
       "  </thead>\n",
       "  <tbody>\n",
       "    <tr>\n",
       "      <th>0</th>\n",
       "      <td>3</td>\n",
       "      <td>trump ob even obama name cod website image chr...</td>\n",
       "      <td>1</td>\n",
       "      <td>[21812, 74606, 557, 86148, 17003, 54874, 6461,...</td>\n",
       "    </tr>\n",
       "    <tr>\n",
       "      <th>1</th>\n",
       "      <td>12</td>\n",
       "      <td>bad news trump mitch mcconnell say repeal obam...</td>\n",
       "      <td>1</td>\n",
       "      <td>[11037, 35297, 21812, 82237, 73835, 31195, 219...</td>\n",
       "    </tr>\n",
       "    <tr>\n",
       "      <th>2</th>\n",
       "      <td>14</td>\n",
       "      <td>heiress disney empire know gop scammed u shred...</td>\n",
       "      <td>1</td>\n",
       "      <td>[26797, 82428, 59899, 70102, 7190, 88749, 101,...</td>\n",
       "    </tr>\n",
       "    <tr>\n",
       "      <th>3</th>\n",
       "      <td>22</td>\n",
       "      <td>meghan mccain tweet amaze response doug jones ...</td>\n",
       "      <td>1</td>\n",
       "      <td>[62364, 3322, 39245, 41026, 37822, 19659, 7988...</td>\n",
       "    </tr>\n",
       "    <tr>\n",
       "      <th>4</th>\n",
       "      <td>25</td>\n",
       "      <td>despicable trump suggest female senator would ...</td>\n",
       "      <td>1</td>\n",
       "      <td>[49304, 21812, 35200, 61615, 87650, 15738, 983...</td>\n",
       "    </tr>\n",
       "  </tbody>\n",
       "</table>\n",
       "</div>"
      ],
      "text/plain": [
       "   Unnamed: 0                                               text  label  \\\n",
       "0           3  trump ob even obama name cod website image chr...      1   \n",
       "1          12  bad news trump mitch mcconnell say repeal obam...      1   \n",
       "2          14  heiress disney empire know gop scammed u shred...      1   \n",
       "3          22  meghan mccain tweet amaze response doug jones ...      1   \n",
       "4          25  despicable trump suggest female senator would ...      1   \n",
       "\n",
       "                                         mapped_text  \n",
       "0  [21812, 74606, 557, 86148, 17003, 54874, 6461,...  \n",
       "1  [11037, 35297, 21812, 82237, 73835, 31195, 219...  \n",
       "2  [26797, 82428, 59899, 70102, 7190, 88749, 101,...  \n",
       "3  [62364, 3322, 39245, 41026, 37822, 19659, 7988...  \n",
       "4  [49304, 21812, 35200, 61615, 87650, 15738, 983...  "
      ]
     },
     "execution_count": 34,
     "metadata": {},
     "output_type": "execute_result"
    }
   ],
   "source": [
    "test.head()"
   ]
  },
  {
   "cell_type": "code",
   "execution_count": 72,
   "metadata": {},
   "outputs": [],
   "source": [
    "def predict(mapped_text):\n",
    "    phi_0_test = np.log(phi_y_0)\n",
    "    phi_1_test = np.log(phi_y_1)\n",
    "    for word in mapped_text:\n",
    "        if type(word) == type('ciao'):\n",
    "            phi_0_test += np.log(1/(d_0+n))\n",
    "            phi_1_test += np.log(1/(d_1+n))\n",
    "        else:\n",
    "            phi_0_test += np.log(phi_0[word])\n",
    "            phi_1_test += np.log(phi_1[word])\n",
    "    print(phi_0_test, phi_1_test)\n",
    "    if phi_0_test > phi_1_test:\n",
    "        return 0\n",
    "    return 1"
   ]
  },
  {
   "cell_type": "code",
   "execution_count": 62,
   "metadata": {},
   "outputs": [],
   "source": [
    "mapped_text_list = list(test['mapped_text'])\n",
    "test['predict'] = [predict(test) for test in mapped_text_list]"
   ]
  },
  {
   "cell_type": "code",
   "execution_count": 71,
   "metadata": {},
   "outputs": [
    {
     "data": {
      "text/html": [
       "<div>\n",
       "<style scoped>\n",
       "    .dataframe tbody tr th:only-of-type {\n",
       "        vertical-align: middle;\n",
       "    }\n",
       "\n",
       "    .dataframe tbody tr th {\n",
       "        vertical-align: top;\n",
       "    }\n",
       "\n",
       "    .dataframe thead th {\n",
       "        text-align: right;\n",
       "    }\n",
       "</style>\n",
       "<table border=\"1\" class=\"dataframe\">\n",
       "  <thead>\n",
       "    <tr style=\"text-align: right;\">\n",
       "      <th></th>\n",
       "      <th>Unnamed: 0</th>\n",
       "      <th>text</th>\n",
       "      <th>label</th>\n",
       "      <th>mapped_text</th>\n",
       "      <th>predict</th>\n",
       "    </tr>\n",
       "  </thead>\n",
       "  <tbody>\n",
       "    <tr>\n",
       "      <th>129</th>\n",
       "      <td>708</td>\n",
       "      <td>mccain f cked senate republican trumpcare much...</td>\n",
       "      <td>1</td>\n",
       "      <td>[3322, 77805, 28146, 86478, 27998, 43040, 7383...</td>\n",
       "      <td>0</td>\n",
       "    </tr>\n",
       "    <tr>\n",
       "      <th>145</th>\n",
       "      <td>782</td>\n",
       "      <td>republican viciously attack mccain give job cl...</td>\n",
       "      <td>1</td>\n",
       "      <td>[27998, 42768, 80192, 3322, 81717, 72887, 4916...</td>\n",
       "      <td>0</td>\n",
       "    </tr>\n",
       "    <tr>\n",
       "      <th>201</th>\n",
       "      <td>1072</td>\n",
       "      <td>investigator u russia tie turn attention flynn...</td>\n",
       "      <td>1</td>\n",
       "      <td>[9607, 101, 11112, 23911, 54307, 61083, 772, 6...</td>\n",
       "      <td>0</td>\n",
       "    </tr>\n",
       "    <tr>\n",
       "      <th>204</th>\n",
       "      <td>1083</td>\n",
       "      <td>new poll trump make others popular think detai...</td>\n",
       "      <td>1</td>\n",
       "      <td>[32382, 29577, 21812, 78414, 24279, 87668, 783...</td>\n",
       "      <td>0</td>\n",
       "    </tr>\n",
       "    <tr>\n",
       "      <th>214</th>\n",
       "      <td>1129</td>\n",
       "      <td>top republican really blame obama gop baseball...</td>\n",
       "      <td>1</td>\n",
       "      <td>[20700, 27998, 17583, 35464, 86148, 7190, 2082...</td>\n",
       "      <td>0</td>\n",
       "    </tr>\n",
       "    <tr>\n",
       "      <th>...</th>\n",
       "      <td>...</td>\n",
       "      <td>...</td>\n",
       "      <td>...</td>\n",
       "      <td>...</td>\n",
       "      <td>...</td>\n",
       "    </tr>\n",
       "    <tr>\n",
       "      <th>8974</th>\n",
       "      <td>44865</td>\n",
       "      <td>south korean practice case north korea attack ...</td>\n",
       "      <td>0</td>\n",
       "      <td>[40525, 67443, 44592, 86428, 22388, 35899, 801...</td>\n",
       "      <td>1</td>\n",
       "    </tr>\n",
       "    <tr>\n",
       "      <th>8975</th>\n",
       "      <td>44871</td>\n",
       "      <td>pakistan reject role scapegoat u failure afgha...</td>\n",
       "      <td>0</td>\n",
       "      <td>[84890, 82361, 3048, 34086, 101, 62768, 46675,...</td>\n",
       "      <td>1</td>\n",
       "    </tr>\n",
       "    <tr>\n",
       "      <th>8976</th>\n",
       "      <td>44879</td>\n",
       "      <td>blunt instrument list ban article say china ce...</td>\n",
       "      <td>0</td>\n",
       "      <td>[8548, 71658, 60437, 6991, 71549, 31195, 54749...</td>\n",
       "      <td>1</td>\n",
       "    </tr>\n",
       "    <tr>\n",
       "      <th>8978</th>\n",
       "      <td>44884</td>\n",
       "      <td>u put pressure pakistan help afghan war washin...</td>\n",
       "      <td>0</td>\n",
       "      <td>[101, 77842, 41422, 84890, 49149, 43606, 87480...</td>\n",
       "      <td>1</td>\n",
       "    </tr>\n",
       "    <tr>\n",
       "      <th>8979</th>\n",
       "      <td>44897</td>\n",
       "      <td>indonesia buy billion worth russian jet jakart...</td>\n",
       "      <td>0</td>\n",
       "      <td>[79322, 52471, 6049, 78891, 81181, 43994, 3315...</td>\n",
       "      <td>1</td>\n",
       "    </tr>\n",
       "  </tbody>\n",
       "</table>\n",
       "<p>4077 rows × 5 columns</p>\n",
       "</div>"
      ],
      "text/plain": [
       "      Unnamed: 0                                               text  label  \\\n",
       "129          708  mccain f cked senate republican trumpcare much...      1   \n",
       "145          782  republican viciously attack mccain give job cl...      1   \n",
       "201         1072  investigator u russia tie turn attention flynn...      1   \n",
       "204         1083  new poll trump make others popular think detai...      1   \n",
       "214         1129  top republican really blame obama gop baseball...      1   \n",
       "...          ...                                                ...    ...   \n",
       "8974       44865  south korean practice case north korea attack ...      0   \n",
       "8975       44871  pakistan reject role scapegoat u failure afgha...      0   \n",
       "8976       44879  blunt instrument list ban article say china ce...      0   \n",
       "8978       44884  u put pressure pakistan help afghan war washin...      0   \n",
       "8979       44897  indonesia buy billion worth russian jet jakart...      0   \n",
       "\n",
       "                                            mapped_text  predict  \n",
       "129   [3322, 77805, 28146, 86478, 27998, 43040, 7383...        0  \n",
       "145   [27998, 42768, 80192, 3322, 81717, 72887, 4916...        0  \n",
       "201   [9607, 101, 11112, 23911, 54307, 61083, 772, 6...        0  \n",
       "204   [32382, 29577, 21812, 78414, 24279, 87668, 783...        0  \n",
       "214   [20700, 27998, 17583, 35464, 86148, 7190, 2082...        0  \n",
       "...                                                 ...      ...  \n",
       "8974  [40525, 67443, 44592, 86428, 22388, 35899, 801...        1  \n",
       "8975  [84890, 82361, 3048, 34086, 101, 62768, 46675,...        1  \n",
       "8976  [8548, 71658, 60437, 6991, 71549, 31195, 54749...        1  \n",
       "8978  [101, 77842, 41422, 84890, 49149, 43606, 87480...        1  \n",
       "8979  [79322, 52471, 6049, 78891, 81181, 43994, 3315...        1  \n",
       "\n",
       "[4077 rows x 5 columns]"
      ]
     },
     "execution_count": 71,
     "metadata": {},
     "output_type": "execute_result"
    }
   ],
   "source": [
    "test.loc[test['label']!=test['predict']]"
   ]
  },
  {
   "cell_type": "code",
   "execution_count": null,
   "metadata": {},
   "outputs": [],
   "source": []
  }
 ],
 "metadata": {
  "kernelspec": {
   "display_name": "Python 3",
   "language": "python",
   "name": "python3"
  },
  "language_info": {
   "codemirror_mode": {
    "name": "ipython",
    "version": 3
   },
   "file_extension": ".py",
   "mimetype": "text/x-python",
   "name": "python",
   "nbconvert_exporter": "python",
   "pygments_lexer": "ipython3",
   "version": "3.8.5"
  }
 },
 "nbformat": 4,
 "nbformat_minor": 4
}
