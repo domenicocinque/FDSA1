{
 "cells": [
  {
   "cell_type": "code",
   "execution_count": 1,
   "metadata": {},
   "outputs": [],
   "source": [
    "import pandas as pd\n",
    "import numpy as np\n",
    "import pickle\n",
    "from collections import defaultdict\n",
    "from collections import Counter\n",
    "import math\n",
    "import tqdm\n",
    "import ast"
   ]
  },
  {
   "cell_type": "code",
   "execution_count": 2,
   "metadata": {},
   "outputs": [],
   "source": [
    "#saving dict function\n",
    "def save_dict(obj, name ):\n",
    "    with open(name + '.pkl', 'wb') as f:\n",
    "        pickle.dump(obj, f, pickle.HIGHEST_PROTOCOL)\n",
    "\n",
    "#load dict function\n",
    "def load_obj(name ):\n",
    "    with open(name + '.pkl', 'rb') as f:\n",
    "        return pickle.load(f)"
   ]
  },
  {
   "cell_type": "markdown",
   "metadata": {},
   "source": [
    "## Naïve Bayes Multinomial Event Model"
   ]
  },
  {
   "cell_type": "code",
   "execution_count": 3,
   "metadata": {},
   "outputs": [],
   "source": [
    "train = pd.read_csv('mapped_dataset.csv')  #to read\n",
    "\n",
    "#to maintain the list format\n",
    "train['mapped_text'] = train['mapped_text'].map(ast.literal_eval)\n",
    "train.drop({'Unnamed: 0'},axis=1,inplace=True)"
   ]
  },
  {
   "cell_type": "code",
   "execution_count": 4,
   "metadata": {},
   "outputs": [
    {
     "data": {
      "text/html": [
       "<div>\n",
       "<style scoped>\n",
       "    .dataframe tbody tr th:only-of-type {\n",
       "        vertical-align: middle;\n",
       "    }\n",
       "\n",
       "    .dataframe tbody tr th {\n",
       "        vertical-align: top;\n",
       "    }\n",
       "\n",
       "    .dataframe thead th {\n",
       "        text-align: right;\n",
       "    }\n",
       "</style>\n",
       "<table border=\"1\" class=\"dataframe\">\n",
       "  <thead>\n",
       "    <tr style=\"text-align: right;\">\n",
       "      <th></th>\n",
       "      <th>id</th>\n",
       "      <th>text</th>\n",
       "      <th>label</th>\n",
       "      <th>mapped_text</th>\n",
       "    </tr>\n",
       "  </thead>\n",
       "  <tbody>\n",
       "    <tr>\n",
       "      <th>0</th>\n",
       "      <td>1943</td>\n",
       "      <td>bombshell senate intel committee hear reveal f...</td>\n",
       "      <td>1</td>\n",
       "      <td>[26288, 86478, 26916, 21374, 71869, 21939, 822...</td>\n",
       "    </tr>\n",
       "    <tr>\n",
       "      <th>1</th>\n",
       "      <td>2557</td>\n",
       "      <td>terrorist group openly laud trump idiot brag s...</td>\n",
       "      <td>1</td>\n",
       "      <td>[71953, 4753, 17513, 86987, 21812, 25843, 5777...</td>\n",
       "    </tr>\n",
       "    <tr>\n",
       "      <th>2</th>\n",
       "      <td>11200</td>\n",
       "      <td>senator dick durbin need civics lesson susan r...</td>\n",
       "      <td>1</td>\n",
       "      <td>[87650, 32198, 51043, 80029, 29773, 6081, 6144...</td>\n",
       "    </tr>\n",
       "    <tr>\n",
       "      <th>3</th>\n",
       "      <td>21306</td>\n",
       "      <td>white student union form facebook page organiz...</td>\n",
       "      <td>1</td>\n",
       "      <td>[33214, 7240, 56509, 48542, 6360, 28184, 37945...</td>\n",
       "    </tr>\n",
       "    <tr>\n",
       "      <th>4</th>\n",
       "      <td>30432</td>\n",
       "      <td>factbox contender pick key job trump administr...</td>\n",
       "      <td>0</td>\n",
       "      <td>[38968, 47489, 40571, 31586, 72887, 21812, 568...</td>\n",
       "    </tr>\n",
       "  </tbody>\n",
       "</table>\n",
       "</div>"
      ],
      "text/plain": [
       "      id                                               text  label  \\\n",
       "0   1943  bombshell senate intel committee hear reveal f...      1   \n",
       "1   2557  terrorist group openly laud trump idiot brag s...      1   \n",
       "2  11200  senator dick durbin need civics lesson susan r...      1   \n",
       "3  21306  white student union form facebook page organiz...      1   \n",
       "4  30432  factbox contender pick key job trump administr...      0   \n",
       "\n",
       "                                         mapped_text  \n",
       "0  [26288, 86478, 26916, 21374, 71869, 21939, 822...  \n",
       "1  [71953, 4753, 17513, 86987, 21812, 25843, 5777...  \n",
       "2  [87650, 32198, 51043, 80029, 29773, 6081, 6144...  \n",
       "3  [33214, 7240, 56509, 48542, 6360, 28184, 37945...  \n",
       "4  [38968, 47489, 40571, 31586, 72887, 21812, 568...  "
      ]
     },
     "execution_count": 4,
     "metadata": {},
     "output_type": "execute_result"
    }
   ],
   "source": [
    "train.head()"
   ]
  },
  {
   "cell_type": "code",
   "execution_count": 6,
   "metadata": {},
   "outputs": [],
   "source": [
    "train_0 = train.loc[train['label']==0]\n",
    "train_1 = train.loc[train['label']==1]"
   ]
  },
  {
   "cell_type": "code",
   "execution_count": 9,
   "metadata": {},
   "outputs": [],
   "source": [
    "word_index = load_obj('word_index')"
   ]
  },
  {
   "cell_type": "code",
   "execution_count": 10,
   "metadata": {},
   "outputs": [],
   "source": [
    "phi_y_1 = train['label'].sum()/len(train)\n",
    "phi_y_0 = 1 - phi_y_1"
   ]
  },
  {
   "cell_type": "code",
   "execution_count": 11,
   "metadata": {},
   "outputs": [],
   "source": [
    "# Class priors\n",
    "phi_y_1 = train['label'].sum()/len(train)\n",
    "phi_y_0 = 1 - phi_y_1\n",
    "\n",
    "# Conditionals \n",
    "n = len(word_index)\n",
    "\n",
    "phi_0 = np.ones(n) \n",
    "phi_1 = np.ones(n)\n",
    "\n",
    "d_0 = sum([len(i) for i in train_0.mapped_text])\n",
    "d_1 = sum([len(i) for i in train_1.mapped_text])\n",
    "\n",
    "for word, value in word_index.items():\n",
    "    for tup in value:\n",
    "        if tup[2] == 0:\n",
    "            phi_0[word] += tup[1]\n",
    "        else:\n",
    "            phi_1[word] += tup[1]\n",
    "            \n",
    "phi_0 = phi_0/(d_0+n)\n",
    "phi_1 = phi_1/(d_1+n)"
   ]
  },
  {
   "cell_type": "code",
   "execution_count": 11,
   "metadata": {},
   "outputs": [
    {
     "data": {
      "text/plain": [
       "array([1.47340225e-06, 1.05243018e-06, 4.20972071e-07, 4.20972071e-07,\n",
       "       6.10409503e-06, 6.31458106e-07, 2.10486035e-07, 4.20972071e-07,\n",
       "       6.31458106e-07, 2.10486035e-07, 4.20972071e-07, 4.20972071e-07,\n",
       "       2.10486035e-07, 1.03138157e-05, 4.20972071e-07, 1.26291621e-06,\n",
       "       2.10486035e-07, 4.20972071e-07, 1.47340225e-06, 6.31458106e-07,\n",
       "       4.20972071e-07, 6.31458106e-07, 1.89437432e-06, 3.15729053e-06,\n",
       "       2.10486035e-07])"
      ]
     },
     "execution_count": 11,
     "metadata": {},
     "output_type": "execute_result"
    }
   ],
   "source": [
    "phi_1[0:25]"
   ]
  },
  {
   "cell_type": "code",
   "execution_count": 12,
   "metadata": {},
   "outputs": [
    {
     "data": {
      "text/plain": [
       "array([1.19890938e-06, 2.39781875e-07, 2.39781875e-07, 2.39781875e-07,\n",
       "       1.27084394e-05, 2.39781875e-07, 4.79563750e-07, 2.39781875e-07,\n",
       "       2.39781875e-07, 9.59127501e-07, 2.39781875e-07, 2.39781875e-07,\n",
       "       4.79563750e-07, 6.47411063e-06, 2.39781875e-07, 3.11716438e-06,\n",
       "       4.79563750e-07, 4.79563750e-07, 9.59127501e-07, 2.39781875e-07,\n",
       "       2.39781875e-07, 2.39781875e-07, 2.39781875e-07, 2.15803688e-06,\n",
       "       4.79563750e-07])"
      ]
     },
     "execution_count": 12,
     "metadata": {},
     "output_type": "execute_result"
    }
   ],
   "source": [
    "phi_0[0:25]"
   ]
  },
  {
   "cell_type": "markdown",
   "metadata": {},
   "source": [
    "## Testing"
   ]
  },
  {
   "cell_type": "code",
   "execution_count": 18,
   "metadata": {},
   "outputs": [],
   "source": [
    "test = pd.read_csv('test.csv')\n",
    "test.rename(columns={'Unnamed: 0': 'id'}, inplace=True) "
   ]
  },
  {
   "cell_type": "code",
   "execution_count": 19,
   "metadata": {},
   "outputs": [
    {
     "data": {
      "text/html": [
       "<div>\n",
       "<style scoped>\n",
       "    .dataframe tbody tr th:only-of-type {\n",
       "        vertical-align: middle;\n",
       "    }\n",
       "\n",
       "    .dataframe tbody tr th {\n",
       "        vertical-align: top;\n",
       "    }\n",
       "\n",
       "    .dataframe thead th {\n",
       "        text-align: right;\n",
       "    }\n",
       "</style>\n",
       "<table border=\"1\" class=\"dataframe\">\n",
       "  <thead>\n",
       "    <tr style=\"text-align: right;\">\n",
       "      <th></th>\n",
       "      <th>id</th>\n",
       "      <th>text</th>\n",
       "      <th>label</th>\n",
       "    </tr>\n",
       "  </thead>\n",
       "  <tbody>\n",
       "    <tr>\n",
       "      <th>0</th>\n",
       "      <td>3</td>\n",
       "      <td>trump ob even obama name cod website image chr...</td>\n",
       "      <td>1</td>\n",
       "    </tr>\n",
       "    <tr>\n",
       "      <th>1</th>\n",
       "      <td>12</td>\n",
       "      <td>bad news trump mitch mcconnell say repeal obam...</td>\n",
       "      <td>1</td>\n",
       "    </tr>\n",
       "    <tr>\n",
       "      <th>2</th>\n",
       "      <td>14</td>\n",
       "      <td>heiress disney empire know gop scammed u shred...</td>\n",
       "      <td>1</td>\n",
       "    </tr>\n",
       "    <tr>\n",
       "      <th>3</th>\n",
       "      <td>22</td>\n",
       "      <td>meghan mccain tweet amaze response doug jones ...</td>\n",
       "      <td>1</td>\n",
       "    </tr>\n",
       "    <tr>\n",
       "      <th>4</th>\n",
       "      <td>25</td>\n",
       "      <td>despicable trump suggest female senator would ...</td>\n",
       "      <td>1</td>\n",
       "    </tr>\n",
       "  </tbody>\n",
       "</table>\n",
       "</div>"
      ],
      "text/plain": [
       "   id                                               text  label\n",
       "0   3  trump ob even obama name cod website image chr...      1\n",
       "1  12  bad news trump mitch mcconnell say repeal obam...      1\n",
       "2  14  heiress disney empire know gop scammed u shred...      1\n",
       "3  22  meghan mccain tweet amaze response doug jones ...      1\n",
       "4  25  despicable trump suggest female senator would ...      1"
      ]
     },
     "execution_count": 19,
     "metadata": {},
     "output_type": "execute_result"
    }
   ],
   "source": [
    "test.head()"
   ]
  },
  {
   "cell_type": "code",
   "execution_count": 20,
   "metadata": {},
   "outputs": [],
   "source": [
    "vocabulary = load_obj('vocabulary')"
   ]
  },
  {
   "cell_type": "code",
   "execution_count": 21,
   "metadata": {},
   "outputs": [],
   "source": [
    "def mapping_2(text):\n",
    "    text = text.split()\n",
    "    out = [vocabulary[word] if word in vocabulary.keys() else word for word in text]\n",
    "    return out"
   ]
  },
  {
   "cell_type": "code",
   "execution_count": 22,
   "metadata": {},
   "outputs": [],
   "source": [
    "test['mapped_text'] = test.text.apply(lambda x: mapping_2(x))"
   ]
  },
  {
   "cell_type": "code",
   "execution_count": 23,
   "metadata": {},
   "outputs": [
    {
     "data": {
      "text/html": [
       "<div>\n",
       "<style scoped>\n",
       "    .dataframe tbody tr th:only-of-type {\n",
       "        vertical-align: middle;\n",
       "    }\n",
       "\n",
       "    .dataframe tbody tr th {\n",
       "        vertical-align: top;\n",
       "    }\n",
       "\n",
       "    .dataframe thead th {\n",
       "        text-align: right;\n",
       "    }\n",
       "</style>\n",
       "<table border=\"1\" class=\"dataframe\">\n",
       "  <thead>\n",
       "    <tr style=\"text-align: right;\">\n",
       "      <th></th>\n",
       "      <th>id</th>\n",
       "      <th>text</th>\n",
       "      <th>label</th>\n",
       "      <th>mapped_text</th>\n",
       "    </tr>\n",
       "  </thead>\n",
       "  <tbody>\n",
       "    <tr>\n",
       "      <th>0</th>\n",
       "      <td>3</td>\n",
       "      <td>trump ob even obama name cod website image chr...</td>\n",
       "      <td>1</td>\n",
       "      <td>[21812, 74606, 557, 86148, 17003, 54874, 6461,...</td>\n",
       "    </tr>\n",
       "    <tr>\n",
       "      <th>1</th>\n",
       "      <td>12</td>\n",
       "      <td>bad news trump mitch mcconnell say repeal obam...</td>\n",
       "      <td>1</td>\n",
       "      <td>[11037, 35297, 21812, 82237, 73835, 31195, 219...</td>\n",
       "    </tr>\n",
       "    <tr>\n",
       "      <th>2</th>\n",
       "      <td>14</td>\n",
       "      <td>heiress disney empire know gop scammed u shred...</td>\n",
       "      <td>1</td>\n",
       "      <td>[26797, 82428, 59899, 70102, 7190, 88749, 101,...</td>\n",
       "    </tr>\n",
       "    <tr>\n",
       "      <th>3</th>\n",
       "      <td>22</td>\n",
       "      <td>meghan mccain tweet amaze response doug jones ...</td>\n",
       "      <td>1</td>\n",
       "      <td>[62364, 3322, 39245, 41026, 37822, 19659, 7988...</td>\n",
       "    </tr>\n",
       "    <tr>\n",
       "      <th>4</th>\n",
       "      <td>25</td>\n",
       "      <td>despicable trump suggest female senator would ...</td>\n",
       "      <td>1</td>\n",
       "      <td>[49304, 21812, 35200, 61615, 87650, 15738, 983...</td>\n",
       "    </tr>\n",
       "  </tbody>\n",
       "</table>\n",
       "</div>"
      ],
      "text/plain": [
       "   id                                               text  label  \\\n",
       "0   3  trump ob even obama name cod website image chr...      1   \n",
       "1  12  bad news trump mitch mcconnell say repeal obam...      1   \n",
       "2  14  heiress disney empire know gop scammed u shred...      1   \n",
       "3  22  meghan mccain tweet amaze response doug jones ...      1   \n",
       "4  25  despicable trump suggest female senator would ...      1   \n",
       "\n",
       "                                         mapped_text  \n",
       "0  [21812, 74606, 557, 86148, 17003, 54874, 6461,...  \n",
       "1  [11037, 35297, 21812, 82237, 73835, 31195, 219...  \n",
       "2  [26797, 82428, 59899, 70102, 7190, 88749, 101,...  \n",
       "3  [62364, 3322, 39245, 41026, 37822, 19659, 7988...  \n",
       "4  [49304, 21812, 35200, 61615, 87650, 15738, 983...  "
      ]
     },
     "execution_count": 23,
     "metadata": {},
     "output_type": "execute_result"
    }
   ],
   "source": [
    "test.head()"
   ]
  },
  {
   "cell_type": "code",
   "execution_count": 25,
   "metadata": {},
   "outputs": [],
   "source": [
    "def predict(mapped_text):\n",
    "    \n",
    "    phi_0_test = np.log(phi_y_0)\n",
    "    phi_1_test = np.log(phi_y_1)\n",
    "    \n",
    "    for word in mapped_text:\n",
    "        if type(word) == type('str'):\n",
    "            phi_0_test += np.log(1/(d_0+n))\n",
    "            phi_1_test += np.log(1/(d_1+n))\n",
    "        else:\n",
    "            phi_0_test += np.log(phi_0[word])\n",
    "            phi_1_test += np.log(phi_1[word])\n",
    "            \n",
    "    if phi_0_test > phi_1_test:\n",
    "        return 0\n",
    "    return 1"
   ]
  },
  {
   "cell_type": "code",
   "execution_count": 26,
   "metadata": {},
   "outputs": [],
   "source": [
    "test['predict'] = test.mapped_text.apply(lambda x: predict(x))"
   ]
  },
  {
   "cell_type": "code",
   "execution_count": 27,
   "metadata": {},
   "outputs": [
    {
     "data": {
      "text/plain": [
       "(4105, 5)"
      ]
     },
     "execution_count": 27,
     "metadata": {},
     "output_type": "execute_result"
    }
   ],
   "source": [
    "test.loc[test['label']!=test['predict']].shape"
   ]
  },
  {
   "cell_type": "code",
   "execution_count": null,
   "metadata": {},
   "outputs": [],
   "source": []
  },
  {
   "cell_type": "code",
   "execution_count": null,
   "metadata": {},
   "outputs": [],
   "source": []
  },
  {
   "cell_type": "code",
   "execution_count": null,
   "metadata": {},
   "outputs": [],
   "source": []
  }
 ],
 "metadata": {
  "kernelspec": {
   "display_name": "Python 3",
   "language": "python",
   "name": "python3"
  },
  "language_info": {
   "codemirror_mode": {
    "name": "ipython",
    "version": 3
   },
   "file_extension": ".py",
   "mimetype": "text/x-python",
   "name": "python",
   "nbconvert_exporter": "python",
   "pygments_lexer": "ipython3",
   "version": "3.8.5"
  }
 },
 "nbformat": 4,
 "nbformat_minor": 4
}
